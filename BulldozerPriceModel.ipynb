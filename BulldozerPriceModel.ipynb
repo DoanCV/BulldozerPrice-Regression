{
  "nbformat": 4,
  "nbformat_minor": 0,
  "metadata": {
    "colab": {
      "name": "BulldozerPriceModel.ipynb",
      "provenance": [],
      "collapsed_sections": [
        "hyvINYzwlAZ9",
        "JQStOdI2lDfN",
        "juNuNYS2W1dx"
      ]
    },
    "kernelspec": {
      "name": "python3",
      "display_name": "Python 3"
    }
  },
  "cells": [
    {
      "cell_type": "markdown",
      "metadata": {
        "id": "aLri1S-pk6Fh"
      },
      "source": [
        "# Predicting the Sale Price of Bulldozers"
      ]
    },
    {
      "cell_type": "markdown",
      "metadata": {
        "id": "OaFm-AYmk9eQ"
      },
      "source": [
        "## 1. Problem Definition"
      ]
    },
    {
      "cell_type": "markdown",
      "metadata": {
        "id": "qva5VFyWBVPR"
      },
      "source": [
        "This notebook explores the Kaggle Bluebook for Bulldozers competition data.\n",
        "* Predict the future sale price of bulldozers given characteristics and past sale prices. \n",
        "<br>\n",
        "* The competition evaluates with the RMSLE metric (root mean squared log error).\n",
        "* Build a model that minimizes RMSLE."
      ]
    },
    {
      "cell_type": "markdown",
      "metadata": {
        "id": "hyvINYzwlAZ9"
      },
      "source": [
        "## 2. Data"
      ]
    },
    {
      "cell_type": "markdown",
      "metadata": {
        "id": "H1h9TSuRBPRx"
      },
      "source": [
        "Three competition datasets are provided on Kaggle:\n",
        "* Train.csv - The training set, contraining data through the end of 2011\n",
        "* Valid.csv - The validation set, containing data from January 1, 2012 to April 30, 2012. Predictions are made on this set.\n",
        "* Test.csv - The official test dataset for the competition, containing data from May 1, 2012 to November 2012."
      ]
    },
    {
      "cell_type": "markdown",
      "metadata": {
        "id": "JQStOdI2lDfN"
      },
      "source": [
        "### Features"
      ]
    },
    {
      "cell_type": "markdown",
      "metadata": {
        "id": "pU6831t0lDn9"
      },
      "source": [
        "###### Sale features:\n",
        "* SalesID - Unique identifier of a particular sale of a bulldozer\n",
        "* MachineID - Identifier of a particular bulldozer to differentiate between models\n",
        "* ModelID - Identifier for a unique machine model\n",
        "* datasource - Source of sales record\n",
        "* auctioneerID - Identifier of a particular auctioneer, whoever sold the bulldozer at the auction\n",
        "* YearMade - Year the bulldozer was manufactured\n",
        "* MachineHoursCurrentMeter - Current usage of the bulldozer in hours where Null or 0 means no hours reported\n",
        "* UsageBand - Value (low, medium, high) calculated by comparing actual usage to average usage (fiBaseModel); i.e. 'Low' means this machine has less hours given it's lifespan relative to average of fiBaseModel\n",
        "* Saledate - Time of sale\n",
        "* Saleprice\t- Cost of sale in USD\n",
        "* fiModelDesc - Description of a unique machine model (see ModelID); concatenation of fiBaseModel & fiSecondaryDesc & fiModelSeries & fiModelDescriptor\n",
        "* State - US State in which sale occurred\n",
        "\n",
        "\n",
        "###### Machine configuration features:\n",
        "* Drive_System - Describes whether 2 or 4 wheel drive\n",
        "* Enclosure - Does the machine have an enclosed cab or not\n",
        "* Forks - Attachment used for lifting\n",
        "* Pad_Type - Type of treads a crawler machine uses\n",
        "* Ride_Control - Optional feature on loaders to make the ride smoother\n",
        "* Stick - Type of control \n",
        "* Transmission - Describes type of transmission;  typically automatic or manual\n",
        "* Turbocharged - Engine naturally aspirated or turbocharged\n",
        "* Blade_Extension - Extension of standard blade\n",
        "* Blade_Width - Width of blade\n",
        "* Enclosure_Type - Does machine have an enclosed cab or not\n",
        "* Engine_Horsepower - Engine horsepower rating\n",
        "* Hydraulics - Type of hydraulics\n",
        "* Pushblock - Option\n",
        "* Ripper - Implement attached to machine to till soil\n",
        "* Scarifier - Implement attached to machine to condition soil\n",
        "* Tip_control -\tType of blade control\n",
        "* Tire_Size - Size of primary tires\n",
        "* Coupler - Type of implement interface\n",
        "* Coupler_System - Type of implement interface\n",
        "* Grouser_Tracks - Describes ground contact interface\n",
        "* Hydraulics_Flow - Normal or high flow hydraulic system\n",
        "* Track_Type - Type of treads a crawler machine uses\n",
        "* Undercarriage_Pad_Width - Width of crawler treads\n",
        "* Stick_Length - Length of machine digging implement\n",
        "* Thumb - Attachment used for grabbing\n",
        "* Pattern_Changer - Can adjust the operator control configuration to suit the user\n",
        "* Grouser_Type - Type of treads a crawler machine uses\n",
        "* Backhoe_Mounting - Optional interface used to add a backhoe attachment\n",
        "* Blade_Type - Describes type of blade\n",
        "* Travel_Controls - Describes operator control configuration\n",
        "* Differential_Type\t- Differential type, typically locking or standard\n",
        "* Steering_Controls\t- Describes operator control configuration"
      ]
    },
    {
      "cell_type": "markdown",
      "metadata": {
        "id": "JnO_yvGblKMG"
      },
      "source": [
        "## 3. Cleaning Data and some EDA"
      ]
    },
    {
      "cell_type": "markdown",
      "metadata": {
        "id": "Gqt0tv6nlOve"
      },
      "source": [
        "Load the data fron Kaggle. The .csv files are in a zip file so they must be extracted."
      ]
    },
    {
      "cell_type": "code",
      "metadata": {
        "id": "eQ5r096ijlDq",
        "colab": {
          "base_uri": "https://localhost:8080/"
        },
        "outputId": "a9388502-3953-469b-b9b0-65d07977ab5a"
      },
      "source": [
        "!wget https://www.dropbox.com/s/hfivk0fmmwnfo8k/bluebook-for-bulldozers.zip\n",
        "\n",
        "import os\n",
        "import zipfile\n",
        "\n",
        "local_zip = 'bluebook-for-bulldozers.zip'\n",
        "zip_ref = zipfile.ZipFile(local_zip, 'r')\n",
        "\n",
        "zip_ref.extractall('.') # extract all data into current working directory\n",
        "zip_ref.close()"
      ],
      "execution_count": null,
      "outputs": [
        {
          "output_type": "stream",
          "text": [
            "--2020-11-21 16:40:25--  https://www.dropbox.com/s/hfivk0fmmwnfo8k/bluebook-for-bulldozers.zip\n",
            "Resolving www.dropbox.com (www.dropbox.com)... 162.125.5.1, 2620:100:601f:1::a27d:901\n",
            "Connecting to www.dropbox.com (www.dropbox.com)|162.125.5.1|:443... connected.\n",
            "HTTP request sent, awaiting response... 301 Moved Permanently\n",
            "Location: /s/raw/hfivk0fmmwnfo8k/bluebook-for-bulldozers.zip [following]\n",
            "--2020-11-21 16:40:26--  https://www.dropbox.com/s/raw/hfivk0fmmwnfo8k/bluebook-for-bulldozers.zip\n",
            "Reusing existing connection to www.dropbox.com:443.\n",
            "HTTP request sent, awaiting response... 302 Found\n",
            "Location: https://uc47465079ba1c010cddc933f34c.dl.dropboxusercontent.com/cd/0/inline/BDqRqAqNO4wSzU3WlvfsG57amg6JMr4ZoQSiBZLoHj1QQQ834ev3OICFlalPxCwl7OuZA0kK84tIXVFh7TQa8fXb6NZL0eRqG3cYLOAV1HXnpuXh2loOZYtVWUqWcEhANZ4/file# [following]\n",
            "--2020-11-21 16:40:26--  https://uc47465079ba1c010cddc933f34c.dl.dropboxusercontent.com/cd/0/inline/BDqRqAqNO4wSzU3WlvfsG57amg6JMr4ZoQSiBZLoHj1QQQ834ev3OICFlalPxCwl7OuZA0kK84tIXVFh7TQa8fXb6NZL0eRqG3cYLOAV1HXnpuXh2loOZYtVWUqWcEhANZ4/file\n",
            "Resolving uc47465079ba1c010cddc933f34c.dl.dropboxusercontent.com (uc47465079ba1c010cddc933f34c.dl.dropboxusercontent.com)... 162.125.5.15, 2620:100:601f:15::a27d:90f\n",
            "Connecting to uc47465079ba1c010cddc933f34c.dl.dropboxusercontent.com (uc47465079ba1c010cddc933f34c.dl.dropboxusercontent.com)|162.125.5.15|:443... connected.\n",
            "HTTP request sent, awaiting response... 302 Found\n",
            "Location: /cd/0/inline2/BDrpMovqoWl4PndgoF8kFDJHUjMXzPCJkS7rBDA-BnSxr47FKo7tqS_LO3HDCLXw-ABBVXAC_vQEnPSqM4-7d_822R70JD6oynNwjWdc2qRMdKudAuLBw43ZurNdvkxCViDYIxwTbiMsRaqE3JfDRTrBt1yOUGp0LRB2N18b53hSGQyKMzB6Q1lkKR2DVq8nVHk5ND2gcDHGWJcNe2IY1dRizH7turuWK6pYV8NGRhQFR-1wqtxUrkTEnEY0LFFx3csiY7eWCCvg767lJI_AlziQXfRKyfQJjcTpSNlSpb4_pz0039FuEzZzM0A5g15G7s7y0yIGqOz67wrWNdygn5fgNpThPATb6vCSSLWZDoz7WQ/file [following]\n",
            "--2020-11-21 16:40:27--  https://uc47465079ba1c010cddc933f34c.dl.dropboxusercontent.com/cd/0/inline2/BDrpMovqoWl4PndgoF8kFDJHUjMXzPCJkS7rBDA-BnSxr47FKo7tqS_LO3HDCLXw-ABBVXAC_vQEnPSqM4-7d_822R70JD6oynNwjWdc2qRMdKudAuLBw43ZurNdvkxCViDYIxwTbiMsRaqE3JfDRTrBt1yOUGp0LRB2N18b53hSGQyKMzB6Q1lkKR2DVq8nVHk5ND2gcDHGWJcNe2IY1dRizH7turuWK6pYV8NGRhQFR-1wqtxUrkTEnEY0LFFx3csiY7eWCCvg767lJI_AlziQXfRKyfQJjcTpSNlSpb4_pz0039FuEzZzM0A5g15G7s7y0yIGqOz67wrWNdygn5fgNpThPATb6vCSSLWZDoz7WQ/file\n",
            "Reusing existing connection to uc47465079ba1c010cddc933f34c.dl.dropboxusercontent.com:443.\n",
            "HTTP request sent, awaiting response... 200 OK\n",
            "Length: 72077822 (69M) [application/zip]\n",
            "Saving to: ‘bluebook-for-bulldozers.zip.1’\n",
            "\n",
            "bluebook-for-bulldo 100%[===================>]  68.74M  59.4MB/s    in 1.2s    \n",
            "\n",
            "2020-11-21 16:40:29 (59.4 MB/s) - ‘bluebook-for-bulldozers.zip.1’ saved [72077822/72077822]\n",
            "\n"
          ],
          "name": "stdout"
        }
      ]
    },
    {
      "cell_type": "markdown",
      "metadata": {
        "id": "UNCrWRi3o5DK"
      },
      "source": [
        "Import necessary libraries to clean and plot data."
      ]
    },
    {
      "cell_type": "code",
      "metadata": {
        "id": "SJcrHq2YjtUl"
      },
      "source": [
        "import numpy as np\n",
        "import pandas as pd\n",
        "import matplotlib.pyplot as plt\n",
        "import seaborn as sns\n",
        "%matplotlib inline"
      ],
      "execution_count": null,
      "outputs": []
    },
    {
      "cell_type": "code",
      "metadata": {
        "id": "xfWek08XlP-4",
        "colab": {
          "base_uri": "https://localhost:8080/"
        },
        "outputId": "4a84a0c0-6106-4ffe-e26b-58335c013c78"
      },
      "source": [
        "df = pd.read_csv(\"bluebook-for-bulldozers/TrainAndValid.csv\")"
      ],
      "execution_count": null,
      "outputs": [
        {
          "output_type": "stream",
          "text": [
            "/usr/local/lib/python3.6/dist-packages/IPython/core/interactiveshell.py:2718: DtypeWarning: Columns (13,39,40,41) have mixed types.Specify dtype option on import or set low_memory=False.\n",
            "  interactivity=interactivity, compiler=compiler, result=result)\n"
          ],
          "name": "stderr"
        }
      ]
    },
    {
      "cell_type": "code",
      "metadata": {
        "id": "pTmvpTeqzz_q",
        "colab": {
          "base_uri": "https://localhost:8080/"
        },
        "outputId": "51ca426a-45f0-44b7-85f9-8d0f2f9d615f"
      },
      "source": [
        "df.info()"
      ],
      "execution_count": null,
      "outputs": [
        {
          "output_type": "stream",
          "text": [
            "<class 'pandas.core.frame.DataFrame'>\n",
            "RangeIndex: 412698 entries, 0 to 412697\n",
            "Data columns (total 53 columns):\n",
            " #   Column                    Non-Null Count   Dtype  \n",
            "---  ------                    --------------   -----  \n",
            " 0   SalesID                   412698 non-null  int64  \n",
            " 1   SalePrice                 412698 non-null  float64\n",
            " 2   MachineID                 412698 non-null  int64  \n",
            " 3   ModelID                   412698 non-null  int64  \n",
            " 4   datasource                412698 non-null  int64  \n",
            " 5   auctioneerID              392562 non-null  float64\n",
            " 6   YearMade                  412698 non-null  int64  \n",
            " 7   MachineHoursCurrentMeter  147504 non-null  float64\n",
            " 8   UsageBand                 73670 non-null   object \n",
            " 9   saledate                  412698 non-null  object \n",
            " 10  fiModelDesc               412698 non-null  object \n",
            " 11  fiBaseModel               412698 non-null  object \n",
            " 12  fiSecondaryDesc           271971 non-null  object \n",
            " 13  fiModelSeries             58667 non-null   object \n",
            " 14  fiModelDescriptor         74816 non-null   object \n",
            " 15  ProductSize               196093 non-null  object \n",
            " 16  fiProductClassDesc        412698 non-null  object \n",
            " 17  state                     412698 non-null  object \n",
            " 18  ProductGroup              412698 non-null  object \n",
            " 19  ProductGroupDesc          412698 non-null  object \n",
            " 20  Drive_System              107087 non-null  object \n",
            " 21  Enclosure                 412364 non-null  object \n",
            " 22  Forks                     197715 non-null  object \n",
            " 23  Pad_Type                  81096 non-null   object \n",
            " 24  Ride_Control              152728 non-null  object \n",
            " 25  Stick                     81096 non-null   object \n",
            " 26  Transmission              188007 non-null  object \n",
            " 27  Turbocharged              81096 non-null   object \n",
            " 28  Blade_Extension           25983 non-null   object \n",
            " 29  Blade_Width               25983 non-null   object \n",
            " 30  Enclosure_Type            25983 non-null   object \n",
            " 31  Engine_Horsepower         25983 non-null   object \n",
            " 32  Hydraulics                330133 non-null  object \n",
            " 33  Pushblock                 25983 non-null   object \n",
            " 34  Ripper                    106945 non-null  object \n",
            " 35  Scarifier                 25994 non-null   object \n",
            " 36  Tip_Control               25983 non-null   object \n",
            " 37  Tire_Size                 97638 non-null   object \n",
            " 38  Coupler                   220679 non-null  object \n",
            " 39  Coupler_System            44974 non-null   object \n",
            " 40  Grouser_Tracks            44875 non-null   object \n",
            " 41  Hydraulics_Flow           44875 non-null   object \n",
            " 42  Track_Type                102193 non-null  object \n",
            " 43  Undercarriage_Pad_Width   102916 non-null  object \n",
            " 44  Stick_Length              102261 non-null  object \n",
            " 45  Thumb                     102332 non-null  object \n",
            " 46  Pattern_Changer           102261 non-null  object \n",
            " 47  Grouser_Type              102193 non-null  object \n",
            " 48  Backhoe_Mounting          80712 non-null   object \n",
            " 49  Blade_Type                81875 non-null   object \n",
            " 50  Travel_Controls           81877 non-null   object \n",
            " 51  Differential_Type         71564 non-null   object \n",
            " 52  Steering_Controls         71522 non-null   object \n",
            "dtypes: float64(3), int64(5), object(45)\n",
            "memory usage: 166.9+ MB\n"
          ],
          "name": "stdout"
        }
      ]
    },
    {
      "cell_type": "markdown",
      "metadata": {
        "id": "TS0K4-mo_hzX"
      },
      "source": [
        "Check for missing data"
      ]
    },
    {
      "cell_type": "code",
      "metadata": {
        "id": "u1pMAC7D_Rf5",
        "colab": {
          "base_uri": "https://localhost:8080/"
        },
        "outputId": "32e4962c-0a31-413f-826e-e2df66f8c737"
      },
      "source": [
        "df.isna().sum"
      ],
      "execution_count": null,
      "outputs": [
        {
          "output_type": "execute_result",
          "data": {
            "text/plain": [
              "<bound method DataFrame.sum of         SalesID  SalePrice  ...  Differential_Type  Steering_Controls\n",
              "0         False      False  ...              False              False\n",
              "1         False      False  ...              False              False\n",
              "2         False      False  ...               True               True\n",
              "3         False      False  ...               True               True\n",
              "4         False      False  ...               True               True\n",
              "...         ...        ...  ...                ...                ...\n",
              "412693    False      False  ...               True               True\n",
              "412694    False      False  ...               True               True\n",
              "412695    False      False  ...               True               True\n",
              "412696    False      False  ...               True               True\n",
              "412697    False      False  ...               True               True\n",
              "\n",
              "[412698 rows x 53 columns]>"
            ]
          },
          "metadata": {
            "tags": []
          },
          "execution_count": 5
        }
      ]
    },
    {
      "cell_type": "markdown",
      "metadata": {
        "id": "plyFPNekALsT"
      },
      "source": [
        "Parse data by dates since this analysis is working with time series data."
      ]
    },
    {
      "cell_type": "code",
      "metadata": {
        "id": "WJqvEiSV_cmK",
        "colab": {
          "base_uri": "https://localhost:8080/"
        },
        "outputId": "12937dd1-9dbb-47e5-81d3-e35a79f398eb"
      },
      "source": [
        "# Reimport data with parsing\n",
        "df = pd.read_csv(\"bluebook-for-bulldozers/TrainAndValid.csv\", parse_dates = [\"saledate\"])"
      ],
      "execution_count": null,
      "outputs": [
        {
          "output_type": "stream",
          "text": [
            "/usr/local/lib/python3.6/dist-packages/IPython/core/interactiveshell.py:2718: DtypeWarning: Columns (13,39,40,41) have mixed types.Specify dtype option on import or set low_memory=False.\n",
            "  interactivity=interactivity, compiler=compiler, result=result)\n"
          ],
          "name": "stderr"
        }
      ]
    },
    {
      "cell_type": "code",
      "metadata": {
        "id": "eJaBtQ2WD9wN",
        "colab": {
          "base_uri": "https://localhost:8080/"
        },
        "outputId": "9219d83d-9e2f-426f-8fb8-ae15043a1a0d"
      },
      "source": [
        "df.saledate.dtype"
      ],
      "execution_count": null,
      "outputs": [
        {
          "output_type": "execute_result",
          "data": {
            "text/plain": [
              "dtype('<M8[ns]')"
            ]
          },
          "metadata": {
            "tags": []
          },
          "execution_count": 7
        }
      ]
    },
    {
      "cell_type": "code",
      "metadata": {
        "id": "jxYhMj0gFfuA",
        "colab": {
          "base_uri": "https://localhost:8080/",
          "height": 350
        },
        "outputId": "bccd4837-efe9-427f-f0a5-bdf5f91f7552"
      },
      "source": [
        "df.head()"
      ],
      "execution_count": null,
      "outputs": [
        {
          "output_type": "execute_result",
          "data": {
            "text/html": [
              "<div>\n",
              "<style scoped>\n",
              "    .dataframe tbody tr th:only-of-type {\n",
              "        vertical-align: middle;\n",
              "    }\n",
              "\n",
              "    .dataframe tbody tr th {\n",
              "        vertical-align: top;\n",
              "    }\n",
              "\n",
              "    .dataframe thead th {\n",
              "        text-align: right;\n",
              "    }\n",
              "</style>\n",
              "<table border=\"1\" class=\"dataframe\">\n",
              "  <thead>\n",
              "    <tr style=\"text-align: right;\">\n",
              "      <th></th>\n",
              "      <th>SalesID</th>\n",
              "      <th>SalePrice</th>\n",
              "      <th>MachineID</th>\n",
              "      <th>ModelID</th>\n",
              "      <th>datasource</th>\n",
              "      <th>auctioneerID</th>\n",
              "      <th>YearMade</th>\n",
              "      <th>MachineHoursCurrentMeter</th>\n",
              "      <th>UsageBand</th>\n",
              "      <th>saledate</th>\n",
              "      <th>fiModelDesc</th>\n",
              "      <th>fiBaseModel</th>\n",
              "      <th>fiSecondaryDesc</th>\n",
              "      <th>fiModelSeries</th>\n",
              "      <th>fiModelDescriptor</th>\n",
              "      <th>ProductSize</th>\n",
              "      <th>fiProductClassDesc</th>\n",
              "      <th>state</th>\n",
              "      <th>ProductGroup</th>\n",
              "      <th>ProductGroupDesc</th>\n",
              "      <th>Drive_System</th>\n",
              "      <th>Enclosure</th>\n",
              "      <th>Forks</th>\n",
              "      <th>Pad_Type</th>\n",
              "      <th>Ride_Control</th>\n",
              "      <th>Stick</th>\n",
              "      <th>Transmission</th>\n",
              "      <th>Turbocharged</th>\n",
              "      <th>Blade_Extension</th>\n",
              "      <th>Blade_Width</th>\n",
              "      <th>Enclosure_Type</th>\n",
              "      <th>Engine_Horsepower</th>\n",
              "      <th>Hydraulics</th>\n",
              "      <th>Pushblock</th>\n",
              "      <th>Ripper</th>\n",
              "      <th>Scarifier</th>\n",
              "      <th>Tip_Control</th>\n",
              "      <th>Tire_Size</th>\n",
              "      <th>Coupler</th>\n",
              "      <th>Coupler_System</th>\n",
              "      <th>Grouser_Tracks</th>\n",
              "      <th>Hydraulics_Flow</th>\n",
              "      <th>Track_Type</th>\n",
              "      <th>Undercarriage_Pad_Width</th>\n",
              "      <th>Stick_Length</th>\n",
              "      <th>Thumb</th>\n",
              "      <th>Pattern_Changer</th>\n",
              "      <th>Grouser_Type</th>\n",
              "      <th>Backhoe_Mounting</th>\n",
              "      <th>Blade_Type</th>\n",
              "      <th>Travel_Controls</th>\n",
              "      <th>Differential_Type</th>\n",
              "      <th>Steering_Controls</th>\n",
              "    </tr>\n",
              "  </thead>\n",
              "  <tbody>\n",
              "    <tr>\n",
              "      <th>0</th>\n",
              "      <td>1139246</td>\n",
              "      <td>66000.0</td>\n",
              "      <td>999089</td>\n",
              "      <td>3157</td>\n",
              "      <td>121</td>\n",
              "      <td>3.0</td>\n",
              "      <td>2004</td>\n",
              "      <td>68.0</td>\n",
              "      <td>Low</td>\n",
              "      <td>2006-11-16</td>\n",
              "      <td>521D</td>\n",
              "      <td>521</td>\n",
              "      <td>D</td>\n",
              "      <td>NaN</td>\n",
              "      <td>NaN</td>\n",
              "      <td>NaN</td>\n",
              "      <td>Wheel Loader - 110.0 to 120.0 Horsepower</td>\n",
              "      <td>Alabama</td>\n",
              "      <td>WL</td>\n",
              "      <td>Wheel Loader</td>\n",
              "      <td>NaN</td>\n",
              "      <td>EROPS w AC</td>\n",
              "      <td>None or Unspecified</td>\n",
              "      <td>NaN</td>\n",
              "      <td>None or Unspecified</td>\n",
              "      <td>NaN</td>\n",
              "      <td>NaN</td>\n",
              "      <td>NaN</td>\n",
              "      <td>NaN</td>\n",
              "      <td>NaN</td>\n",
              "      <td>NaN</td>\n",
              "      <td>NaN</td>\n",
              "      <td>2 Valve</td>\n",
              "      <td>NaN</td>\n",
              "      <td>NaN</td>\n",
              "      <td>NaN</td>\n",
              "      <td>NaN</td>\n",
              "      <td>None or Unspecified</td>\n",
              "      <td>None or Unspecified</td>\n",
              "      <td>NaN</td>\n",
              "      <td>NaN</td>\n",
              "      <td>NaN</td>\n",
              "      <td>NaN</td>\n",
              "      <td>NaN</td>\n",
              "      <td>NaN</td>\n",
              "      <td>NaN</td>\n",
              "      <td>NaN</td>\n",
              "      <td>NaN</td>\n",
              "      <td>NaN</td>\n",
              "      <td>NaN</td>\n",
              "      <td>NaN</td>\n",
              "      <td>Standard</td>\n",
              "      <td>Conventional</td>\n",
              "    </tr>\n",
              "    <tr>\n",
              "      <th>1</th>\n",
              "      <td>1139248</td>\n",
              "      <td>57000.0</td>\n",
              "      <td>117657</td>\n",
              "      <td>77</td>\n",
              "      <td>121</td>\n",
              "      <td>3.0</td>\n",
              "      <td>1996</td>\n",
              "      <td>4640.0</td>\n",
              "      <td>Low</td>\n",
              "      <td>2004-03-26</td>\n",
              "      <td>950FII</td>\n",
              "      <td>950</td>\n",
              "      <td>F</td>\n",
              "      <td>II</td>\n",
              "      <td>NaN</td>\n",
              "      <td>Medium</td>\n",
              "      <td>Wheel Loader - 150.0 to 175.0 Horsepower</td>\n",
              "      <td>North Carolina</td>\n",
              "      <td>WL</td>\n",
              "      <td>Wheel Loader</td>\n",
              "      <td>NaN</td>\n",
              "      <td>EROPS w AC</td>\n",
              "      <td>None or Unspecified</td>\n",
              "      <td>NaN</td>\n",
              "      <td>None or Unspecified</td>\n",
              "      <td>NaN</td>\n",
              "      <td>NaN</td>\n",
              "      <td>NaN</td>\n",
              "      <td>NaN</td>\n",
              "      <td>NaN</td>\n",
              "      <td>NaN</td>\n",
              "      <td>NaN</td>\n",
              "      <td>2 Valve</td>\n",
              "      <td>NaN</td>\n",
              "      <td>NaN</td>\n",
              "      <td>NaN</td>\n",
              "      <td>NaN</td>\n",
              "      <td>23.5</td>\n",
              "      <td>None or Unspecified</td>\n",
              "      <td>NaN</td>\n",
              "      <td>NaN</td>\n",
              "      <td>NaN</td>\n",
              "      <td>NaN</td>\n",
              "      <td>NaN</td>\n",
              "      <td>NaN</td>\n",
              "      <td>NaN</td>\n",
              "      <td>NaN</td>\n",
              "      <td>NaN</td>\n",
              "      <td>NaN</td>\n",
              "      <td>NaN</td>\n",
              "      <td>NaN</td>\n",
              "      <td>Standard</td>\n",
              "      <td>Conventional</td>\n",
              "    </tr>\n",
              "    <tr>\n",
              "      <th>2</th>\n",
              "      <td>1139249</td>\n",
              "      <td>10000.0</td>\n",
              "      <td>434808</td>\n",
              "      <td>7009</td>\n",
              "      <td>121</td>\n",
              "      <td>3.0</td>\n",
              "      <td>2001</td>\n",
              "      <td>2838.0</td>\n",
              "      <td>High</td>\n",
              "      <td>2004-02-26</td>\n",
              "      <td>226</td>\n",
              "      <td>226</td>\n",
              "      <td>NaN</td>\n",
              "      <td>NaN</td>\n",
              "      <td>NaN</td>\n",
              "      <td>NaN</td>\n",
              "      <td>Skid Steer Loader - 1351.0 to 1601.0 Lb Operat...</td>\n",
              "      <td>New York</td>\n",
              "      <td>SSL</td>\n",
              "      <td>Skid Steer Loaders</td>\n",
              "      <td>NaN</td>\n",
              "      <td>OROPS</td>\n",
              "      <td>None or Unspecified</td>\n",
              "      <td>NaN</td>\n",
              "      <td>NaN</td>\n",
              "      <td>NaN</td>\n",
              "      <td>NaN</td>\n",
              "      <td>NaN</td>\n",
              "      <td>NaN</td>\n",
              "      <td>NaN</td>\n",
              "      <td>NaN</td>\n",
              "      <td>NaN</td>\n",
              "      <td>Auxiliary</td>\n",
              "      <td>NaN</td>\n",
              "      <td>NaN</td>\n",
              "      <td>NaN</td>\n",
              "      <td>NaN</td>\n",
              "      <td>NaN</td>\n",
              "      <td>None or Unspecified</td>\n",
              "      <td>None or Unspecified</td>\n",
              "      <td>None or Unspecified</td>\n",
              "      <td>Standard</td>\n",
              "      <td>NaN</td>\n",
              "      <td>NaN</td>\n",
              "      <td>NaN</td>\n",
              "      <td>NaN</td>\n",
              "      <td>NaN</td>\n",
              "      <td>NaN</td>\n",
              "      <td>NaN</td>\n",
              "      <td>NaN</td>\n",
              "      <td>NaN</td>\n",
              "      <td>NaN</td>\n",
              "      <td>NaN</td>\n",
              "    </tr>\n",
              "    <tr>\n",
              "      <th>3</th>\n",
              "      <td>1139251</td>\n",
              "      <td>38500.0</td>\n",
              "      <td>1026470</td>\n",
              "      <td>332</td>\n",
              "      <td>121</td>\n",
              "      <td>3.0</td>\n",
              "      <td>2001</td>\n",
              "      <td>3486.0</td>\n",
              "      <td>High</td>\n",
              "      <td>2011-05-19</td>\n",
              "      <td>PC120-6E</td>\n",
              "      <td>PC120</td>\n",
              "      <td>NaN</td>\n",
              "      <td>-6E</td>\n",
              "      <td>NaN</td>\n",
              "      <td>Small</td>\n",
              "      <td>Hydraulic Excavator, Track - 12.0 to 14.0 Metr...</td>\n",
              "      <td>Texas</td>\n",
              "      <td>TEX</td>\n",
              "      <td>Track Excavators</td>\n",
              "      <td>NaN</td>\n",
              "      <td>EROPS w AC</td>\n",
              "      <td>NaN</td>\n",
              "      <td>NaN</td>\n",
              "      <td>NaN</td>\n",
              "      <td>NaN</td>\n",
              "      <td>NaN</td>\n",
              "      <td>NaN</td>\n",
              "      <td>NaN</td>\n",
              "      <td>NaN</td>\n",
              "      <td>NaN</td>\n",
              "      <td>NaN</td>\n",
              "      <td>2 Valve</td>\n",
              "      <td>NaN</td>\n",
              "      <td>NaN</td>\n",
              "      <td>NaN</td>\n",
              "      <td>NaN</td>\n",
              "      <td>NaN</td>\n",
              "      <td>None or Unspecified</td>\n",
              "      <td>NaN</td>\n",
              "      <td>NaN</td>\n",
              "      <td>NaN</td>\n",
              "      <td>NaN</td>\n",
              "      <td>NaN</td>\n",
              "      <td>NaN</td>\n",
              "      <td>NaN</td>\n",
              "      <td>NaN</td>\n",
              "      <td>NaN</td>\n",
              "      <td>NaN</td>\n",
              "      <td>NaN</td>\n",
              "      <td>NaN</td>\n",
              "      <td>NaN</td>\n",
              "      <td>NaN</td>\n",
              "    </tr>\n",
              "    <tr>\n",
              "      <th>4</th>\n",
              "      <td>1139253</td>\n",
              "      <td>11000.0</td>\n",
              "      <td>1057373</td>\n",
              "      <td>17311</td>\n",
              "      <td>121</td>\n",
              "      <td>3.0</td>\n",
              "      <td>2007</td>\n",
              "      <td>722.0</td>\n",
              "      <td>Medium</td>\n",
              "      <td>2009-07-23</td>\n",
              "      <td>S175</td>\n",
              "      <td>S175</td>\n",
              "      <td>NaN</td>\n",
              "      <td>NaN</td>\n",
              "      <td>NaN</td>\n",
              "      <td>NaN</td>\n",
              "      <td>Skid Steer Loader - 1601.0 to 1751.0 Lb Operat...</td>\n",
              "      <td>New York</td>\n",
              "      <td>SSL</td>\n",
              "      <td>Skid Steer Loaders</td>\n",
              "      <td>NaN</td>\n",
              "      <td>EROPS</td>\n",
              "      <td>None or Unspecified</td>\n",
              "      <td>NaN</td>\n",
              "      <td>NaN</td>\n",
              "      <td>NaN</td>\n",
              "      <td>NaN</td>\n",
              "      <td>NaN</td>\n",
              "      <td>NaN</td>\n",
              "      <td>NaN</td>\n",
              "      <td>NaN</td>\n",
              "      <td>NaN</td>\n",
              "      <td>Auxiliary</td>\n",
              "      <td>NaN</td>\n",
              "      <td>NaN</td>\n",
              "      <td>NaN</td>\n",
              "      <td>NaN</td>\n",
              "      <td>NaN</td>\n",
              "      <td>None or Unspecified</td>\n",
              "      <td>None or Unspecified</td>\n",
              "      <td>None or Unspecified</td>\n",
              "      <td>Standard</td>\n",
              "      <td>NaN</td>\n",
              "      <td>NaN</td>\n",
              "      <td>NaN</td>\n",
              "      <td>NaN</td>\n",
              "      <td>NaN</td>\n",
              "      <td>NaN</td>\n",
              "      <td>NaN</td>\n",
              "      <td>NaN</td>\n",
              "      <td>NaN</td>\n",
              "      <td>NaN</td>\n",
              "      <td>NaN</td>\n",
              "    </tr>\n",
              "  </tbody>\n",
              "</table>\n",
              "</div>"
            ],
            "text/plain": [
              "   SalesID  SalePrice  ...  Differential_Type  Steering_Controls\n",
              "0  1139246    66000.0  ...           Standard       Conventional\n",
              "1  1139248    57000.0  ...           Standard       Conventional\n",
              "2  1139249    10000.0  ...                NaN                NaN\n",
              "3  1139251    38500.0  ...                NaN                NaN\n",
              "4  1139253    11000.0  ...                NaN                NaN\n",
              "\n",
              "[5 rows x 53 columns]"
            ]
          },
          "metadata": {
            "tags": []
          },
          "execution_count": 8
        }
      ]
    },
    {
      "cell_type": "code",
      "metadata": {
        "id": "ADb0WJrlEDPP",
        "colab": {
          "base_uri": "https://localhost:8080/",
          "height": 282
        },
        "outputId": "ec6ab12f-0f34-4e47-bde2-2e99004ab4b5"
      },
      "source": [
        "# This dataset is quite large. Practically, sales can happen at any time so a scatter plot may be messy.\n",
        "fig, ax = plt.subplots()\n",
        "ax.scatter(df.saledate, df.SalePrice)"
      ],
      "execution_count": null,
      "outputs": [
        {
          "output_type": "execute_result",
          "data": {
            "text/plain": [
              "<matplotlib.collections.PathCollection at 0x7eff41dc53c8>"
            ]
          },
          "metadata": {
            "tags": []
          },
          "execution_count": 9
        },
        {
          "output_type": "display_data",
          "data": {
            "image/png": "[encoded data removed]",
            "text/plain": [
              "<Figure size 432x288 with 1 Axes>"
            ]
          },
          "metadata": {
            "tags": [],
            "needs_background": "light"
          }
        }
      ]
    },
    {
      "cell_type": "markdown",
      "metadata": {
        "id": "rPmc6DUPFRHn"
      },
      "source": [
        "At least none of the bulldozers were free"
      ]
    },
    {
      "cell_type": "code",
      "metadata": {
        "id": "uorB4mvIFnQJ",
        "colab": {
          "base_uri": "https://localhost:8080/"
        },
        "outputId": "71aaf097-b61c-4a48-8895-97f94fe13a04"
      },
      "source": [
        "# Sort the dataframe by the sale date\n",
        "df.sort_values(by = [\"saledate\"], inplace = True, ascending = True)\n",
        "df.saledate.head()"
      ],
      "execution_count": null,
      "outputs": [
        {
          "output_type": "execute_result",
          "data": {
            "text/plain": [
              "205615   1989-01-17\n",
              "274835   1989-01-31\n",
              "141296   1989-01-31\n",
              "212552   1989-01-31\n",
              "62755    1989-01-31\n",
              "Name: saledate, dtype: datetime64[ns]"
            ]
          },
          "metadata": {
            "tags": []
          },
          "execution_count": 10
        }
      ]
    },
    {
      "cell_type": "markdown",
      "metadata": {
        "id": "xpaNQ64v8Ekd"
      },
      "source": [
        "Extracting date and time fields allows for the construction of categorical values. Without expanding on this feature, we miss out on trends or useful beahavior as a function of time. Cyclical encoding can be used on time data to take advantage of the periodicity in how we keep track time. We don't have short time units like hours, minutes or seconds so it wouldn't be very useful here."
      ]
    },
    {
      "cell_type": "code",
      "metadata": {
        "id": "-0PedkKhIyCZ"
      },
      "source": [
        "# Add date and time parameters to a copy of the original dataframe\n",
        "df_temp = df.copy()\n",
        "\n",
        "df_temp[\"saleYear\"] = df_temp.saledate.dt.year \n",
        "df_temp[\"saleMonth\"] = df_temp.saledate.dt.month \n",
        "df_temp[\"saleDay\"] = df_temp.saledate.dt.day\n",
        "df_temp[\"saleDayOfWeek\"] = df_temp.saledate.dt.dayofweek\n",
        "df_temp[\"saleDayOfYear\"] = df_temp.saledate.dt.dayofyear"
      ],
      "execution_count": null,
      "outputs": []
    },
    {
      "cell_type": "code",
      "metadata": {
        "id": "0cH8d2YDKHig",
        "colab": {
          "base_uri": "https://localhost:8080/",
          "height": 1000
        },
        "outputId": "5cc9a843-f9a6-416a-f6f5-55eeb21ad891"
      },
      "source": [
        "df_temp.head().T"
      ],
      "execution_count": null,
      "outputs": [
        {
          "output_type": "execute_result",
          "data": {
            "text/html": [
              "<div>\n",
              "<style scoped>\n",
              "    .dataframe tbody tr th:only-of-type {\n",
              "        vertical-align: middle;\n",
              "    }\n",
              "\n",
              "    .dataframe tbody tr th {\n",
              "        vertical-align: top;\n",
              "    }\n",
              "\n",
              "    .dataframe thead th {\n",
              "        text-align: right;\n",
              "    }\n",
              "</style>\n",
              "<table border=\"1\" class=\"dataframe\">\n",
              "  <thead>\n",
              "    <tr style=\"text-align: right;\">\n",
              "      <th></th>\n",
              "      <th>205615</th>\n",
              "      <th>274835</th>\n",
              "      <th>141296</th>\n",
              "      <th>212552</th>\n",
              "      <th>62755</th>\n",
              "    </tr>\n",
              "  </thead>\n",
              "  <tbody>\n",
              "    <tr>\n",
              "      <th>SalesID</th>\n",
              "      <td>1646770</td>\n",
              "      <td>1821514</td>\n",
              "      <td>1505138</td>\n",
              "      <td>1671174</td>\n",
              "      <td>1329056</td>\n",
              "    </tr>\n",
              "    <tr>\n",
              "      <th>SalePrice</th>\n",
              "      <td>9500</td>\n",
              "      <td>14000</td>\n",
              "      <td>50000</td>\n",
              "      <td>16000</td>\n",
              "      <td>22000</td>\n",
              "    </tr>\n",
              "    <tr>\n",
              "      <th>MachineID</th>\n",
              "      <td>1126363</td>\n",
              "      <td>1194089</td>\n",
              "      <td>1473654</td>\n",
              "      <td>1327630</td>\n",
              "      <td>1336053</td>\n",
              "    </tr>\n",
              "    <tr>\n",
              "      <th>ModelID</th>\n",
              "      <td>8434</td>\n",
              "      <td>10150</td>\n",
              "      <td>4139</td>\n",
              "      <td>8591</td>\n",
              "      <td>4089</td>\n",
              "    </tr>\n",
              "    <tr>\n",
              "      <th>datasource</th>\n",
              "      <td>132</td>\n",
              "      <td>132</td>\n",
              "      <td>132</td>\n",
              "      <td>132</td>\n",
              "      <td>132</td>\n",
              "    </tr>\n",
              "    <tr>\n",
              "      <th>auctioneerID</th>\n",
              "      <td>18</td>\n",
              "      <td>99</td>\n",
              "      <td>99</td>\n",
              "      <td>99</td>\n",
              "      <td>99</td>\n",
              "    </tr>\n",
              "    <tr>\n",
              "      <th>YearMade</th>\n",
              "      <td>1974</td>\n",
              "      <td>1980</td>\n",
              "      <td>1978</td>\n",
              "      <td>1980</td>\n",
              "      <td>1984</td>\n",
              "    </tr>\n",
              "    <tr>\n",
              "      <th>MachineHoursCurrentMeter</th>\n",
              "      <td>NaN</td>\n",
              "      <td>NaN</td>\n",
              "      <td>NaN</td>\n",
              "      <td>NaN</td>\n",
              "      <td>NaN</td>\n",
              "    </tr>\n",
              "    <tr>\n",
              "      <th>UsageBand</th>\n",
              "      <td>NaN</td>\n",
              "      <td>NaN</td>\n",
              "      <td>NaN</td>\n",
              "      <td>NaN</td>\n",
              "      <td>NaN</td>\n",
              "    </tr>\n",
              "    <tr>\n",
              "      <th>saledate</th>\n",
              "      <td>1989-01-17 00:00:00</td>\n",
              "      <td>1989-01-31 00:00:00</td>\n",
              "      <td>1989-01-31 00:00:00</td>\n",
              "      <td>1989-01-31 00:00:00</td>\n",
              "      <td>1989-01-31 00:00:00</td>\n",
              "    </tr>\n",
              "    <tr>\n",
              "      <th>fiModelDesc</th>\n",
              "      <td>TD20</td>\n",
              "      <td>A66</td>\n",
              "      <td>D7G</td>\n",
              "      <td>A62</td>\n",
              "      <td>D3B</td>\n",
              "    </tr>\n",
              "    <tr>\n",
              "      <th>fiBaseModel</th>\n",
              "      <td>TD20</td>\n",
              "      <td>A66</td>\n",
              "      <td>D7</td>\n",
              "      <td>A62</td>\n",
              "      <td>D3</td>\n",
              "    </tr>\n",
              "    <tr>\n",
              "      <th>fiSecondaryDesc</th>\n",
              "      <td>NaN</td>\n",
              "      <td>NaN</td>\n",
              "      <td>G</td>\n",
              "      <td>NaN</td>\n",
              "      <td>B</td>\n",
              "    </tr>\n",
              "    <tr>\n",
              "      <th>fiModelSeries</th>\n",
              "      <td>NaN</td>\n",
              "      <td>NaN</td>\n",
              "      <td>NaN</td>\n",
              "      <td>NaN</td>\n",
              "      <td>NaN</td>\n",
              "    </tr>\n",
              "    <tr>\n",
              "      <th>fiModelDescriptor</th>\n",
              "      <td>NaN</td>\n",
              "      <td>NaN</td>\n",
              "      <td>NaN</td>\n",
              "      <td>NaN</td>\n",
              "      <td>NaN</td>\n",
              "    </tr>\n",
              "    <tr>\n",
              "      <th>ProductSize</th>\n",
              "      <td>Medium</td>\n",
              "      <td>NaN</td>\n",
              "      <td>Large</td>\n",
              "      <td>NaN</td>\n",
              "      <td>NaN</td>\n",
              "    </tr>\n",
              "    <tr>\n",
              "      <th>fiProductClassDesc</th>\n",
              "      <td>Track Type Tractor, Dozer - 105.0 to 130.0 Hor...</td>\n",
              "      <td>Wheel Loader - 120.0 to 135.0 Horsepower</td>\n",
              "      <td>Track Type Tractor, Dozer - 190.0 to 260.0 Hor...</td>\n",
              "      <td>Wheel Loader - Unidentified</td>\n",
              "      <td>Track Type Tractor, Dozer - 20.0 to 75.0 Horse...</td>\n",
              "    </tr>\n",
              "    <tr>\n",
              "      <th>state</th>\n",
              "      <td>Texas</td>\n",
              "      <td>Florida</td>\n",
              "      <td>Florida</td>\n",
              "      <td>Florida</td>\n",
              "      <td>Florida</td>\n",
              "    </tr>\n",
              "    <tr>\n",
              "      <th>ProductGroup</th>\n",
              "      <td>TTT</td>\n",
              "      <td>WL</td>\n",
              "      <td>TTT</td>\n",
              "      <td>WL</td>\n",
              "      <td>TTT</td>\n",
              "    </tr>\n",
              "    <tr>\n",
              "      <th>ProductGroupDesc</th>\n",
              "      <td>Track Type Tractors</td>\n",
              "      <td>Wheel Loader</td>\n",
              "      <td>Track Type Tractors</td>\n",
              "      <td>Wheel Loader</td>\n",
              "      <td>Track Type Tractors</td>\n",
              "    </tr>\n",
              "    <tr>\n",
              "      <th>Drive_System</th>\n",
              "      <td>NaN</td>\n",
              "      <td>NaN</td>\n",
              "      <td>NaN</td>\n",
              "      <td>NaN</td>\n",
              "      <td>NaN</td>\n",
              "    </tr>\n",
              "    <tr>\n",
              "      <th>Enclosure</th>\n",
              "      <td>OROPS</td>\n",
              "      <td>OROPS</td>\n",
              "      <td>OROPS</td>\n",
              "      <td>EROPS</td>\n",
              "      <td>OROPS</td>\n",
              "    </tr>\n",
              "    <tr>\n",
              "      <th>Forks</th>\n",
              "      <td>NaN</td>\n",
              "      <td>None or Unspecified</td>\n",
              "      <td>NaN</td>\n",
              "      <td>None or Unspecified</td>\n",
              "      <td>NaN</td>\n",
              "    </tr>\n",
              "    <tr>\n",
              "      <th>Pad_Type</th>\n",
              "      <td>NaN</td>\n",
              "      <td>NaN</td>\n",
              "      <td>NaN</td>\n",
              "      <td>NaN</td>\n",
              "      <td>NaN</td>\n",
              "    </tr>\n",
              "    <tr>\n",
              "      <th>Ride_Control</th>\n",
              "      <td>NaN</td>\n",
              "      <td>None or Unspecified</td>\n",
              "      <td>NaN</td>\n",
              "      <td>None or Unspecified</td>\n",
              "      <td>NaN</td>\n",
              "    </tr>\n",
              "    <tr>\n",
              "      <th>Stick</th>\n",
              "      <td>NaN</td>\n",
              "      <td>NaN</td>\n",
              "      <td>NaN</td>\n",
              "      <td>NaN</td>\n",
              "      <td>NaN</td>\n",
              "    </tr>\n",
              "    <tr>\n",
              "      <th>Transmission</th>\n",
              "      <td>Direct Drive</td>\n",
              "      <td>NaN</td>\n",
              "      <td>Standard</td>\n",
              "      <td>NaN</td>\n",
              "      <td>Standard</td>\n",
              "    </tr>\n",
              "    <tr>\n",
              "      <th>Turbocharged</th>\n",
              "      <td>NaN</td>\n",
              "      <td>NaN</td>\n",
              "      <td>NaN</td>\n",
              "      <td>NaN</td>\n",
              "      <td>NaN</td>\n",
              "    </tr>\n",
              "    <tr>\n",
              "      <th>Blade_Extension</th>\n",
              "      <td>NaN</td>\n",
              "      <td>NaN</td>\n",
              "      <td>NaN</td>\n",
              "      <td>NaN</td>\n",
              "      <td>NaN</td>\n",
              "    </tr>\n",
              "    <tr>\n",
              "      <th>Blade_Width</th>\n",
              "      <td>NaN</td>\n",
              "      <td>NaN</td>\n",
              "      <td>NaN</td>\n",
              "      <td>NaN</td>\n",
              "      <td>NaN</td>\n",
              "    </tr>\n",
              "    <tr>\n",
              "      <th>Enclosure_Type</th>\n",
              "      <td>NaN</td>\n",
              "      <td>NaN</td>\n",
              "      <td>NaN</td>\n",
              "      <td>NaN</td>\n",
              "      <td>NaN</td>\n",
              "    </tr>\n",
              "    <tr>\n",
              "      <th>Engine_Horsepower</th>\n",
              "      <td>NaN</td>\n",
              "      <td>NaN</td>\n",
              "      <td>NaN</td>\n",
              "      <td>NaN</td>\n",
              "      <td>NaN</td>\n",
              "    </tr>\n",
              "    <tr>\n",
              "      <th>Hydraulics</th>\n",
              "      <td>2 Valve</td>\n",
              "      <td>2 Valve</td>\n",
              "      <td>2 Valve</td>\n",
              "      <td>2 Valve</td>\n",
              "      <td>2 Valve</td>\n",
              "    </tr>\n",
              "    <tr>\n",
              "      <th>Pushblock</th>\n",
              "      <td>NaN</td>\n",
              "      <td>NaN</td>\n",
              "      <td>NaN</td>\n",
              "      <td>NaN</td>\n",
              "      <td>NaN</td>\n",
              "    </tr>\n",
              "    <tr>\n",
              "      <th>Ripper</th>\n",
              "      <td>None or Unspecified</td>\n",
              "      <td>NaN</td>\n",
              "      <td>None or Unspecified</td>\n",
              "      <td>NaN</td>\n",
              "      <td>None or Unspecified</td>\n",
              "    </tr>\n",
              "    <tr>\n",
              "      <th>Scarifier</th>\n",
              "      <td>NaN</td>\n",
              "      <td>NaN</td>\n",
              "      <td>NaN</td>\n",
              "      <td>NaN</td>\n",
              "      <td>NaN</td>\n",
              "    </tr>\n",
              "    <tr>\n",
              "      <th>Tip_Control</th>\n",
              "      <td>NaN</td>\n",
              "      <td>NaN</td>\n",
              "      <td>NaN</td>\n",
              "      <td>NaN</td>\n",
              "      <td>NaN</td>\n",
              "    </tr>\n",
              "    <tr>\n",
              "      <th>Tire_Size</th>\n",
              "      <td>NaN</td>\n",
              "      <td>None or Unspecified</td>\n",
              "      <td>NaN</td>\n",
              "      <td>None or Unspecified</td>\n",
              "      <td>NaN</td>\n",
              "    </tr>\n",
              "    <tr>\n",
              "      <th>Coupler</th>\n",
              "      <td>NaN</td>\n",
              "      <td>None or Unspecified</td>\n",
              "      <td>NaN</td>\n",
              "      <td>None or Unspecified</td>\n",
              "      <td>NaN</td>\n",
              "    </tr>\n",
              "    <tr>\n",
              "      <th>Coupler_System</th>\n",
              "      <td>NaN</td>\n",
              "      <td>NaN</td>\n",
              "      <td>NaN</td>\n",
              "      <td>NaN</td>\n",
              "      <td>NaN</td>\n",
              "    </tr>\n",
              "    <tr>\n",
              "      <th>Grouser_Tracks</th>\n",
              "      <td>NaN</td>\n",
              "      <td>NaN</td>\n",
              "      <td>NaN</td>\n",
              "      <td>NaN</td>\n",
              "      <td>NaN</td>\n",
              "    </tr>\n",
              "    <tr>\n",
              "      <th>Hydraulics_Flow</th>\n",
              "      <td>NaN</td>\n",
              "      <td>NaN</td>\n",
              "      <td>NaN</td>\n",
              "      <td>NaN</td>\n",
              "      <td>NaN</td>\n",
              "    </tr>\n",
              "    <tr>\n",
              "      <th>Track_Type</th>\n",
              "      <td>NaN</td>\n",
              "      <td>NaN</td>\n",
              "      <td>NaN</td>\n",
              "      <td>NaN</td>\n",
              "      <td>NaN</td>\n",
              "    </tr>\n",
              "    <tr>\n",
              "      <th>Undercarriage_Pad_Width</th>\n",
              "      <td>NaN</td>\n",
              "      <td>NaN</td>\n",
              "      <td>NaN</td>\n",
              "      <td>NaN</td>\n",
              "      <td>NaN</td>\n",
              "    </tr>\n",
              "    <tr>\n",
              "      <th>Stick_Length</th>\n",
              "      <td>NaN</td>\n",
              "      <td>NaN</td>\n",
              "      <td>NaN</td>\n",
              "      <td>NaN</td>\n",
              "      <td>NaN</td>\n",
              "    </tr>\n",
              "    <tr>\n",
              "      <th>Thumb</th>\n",
              "      <td>NaN</td>\n",
              "      <td>NaN</td>\n",
              "      <td>NaN</td>\n",
              "      <td>NaN</td>\n",
              "      <td>NaN</td>\n",
              "    </tr>\n",
              "    <tr>\n",
              "      <th>Pattern_Changer</th>\n",
              "      <td>NaN</td>\n",
              "      <td>NaN</td>\n",
              "      <td>NaN</td>\n",
              "      <td>NaN</td>\n",
              "      <td>NaN</td>\n",
              "    </tr>\n",
              "    <tr>\n",
              "      <th>Grouser_Type</th>\n",
              "      <td>NaN</td>\n",
              "      <td>NaN</td>\n",
              "      <td>NaN</td>\n",
              "      <td>NaN</td>\n",
              "      <td>NaN</td>\n",
              "    </tr>\n",
              "    <tr>\n",
              "      <th>Backhoe_Mounting</th>\n",
              "      <td>None or Unspecified</td>\n",
              "      <td>NaN</td>\n",
              "      <td>None or Unspecified</td>\n",
              "      <td>NaN</td>\n",
              "      <td>None or Unspecified</td>\n",
              "    </tr>\n",
              "    <tr>\n",
              "      <th>Blade_Type</th>\n",
              "      <td>Straight</td>\n",
              "      <td>NaN</td>\n",
              "      <td>Straight</td>\n",
              "      <td>NaN</td>\n",
              "      <td>PAT</td>\n",
              "    </tr>\n",
              "    <tr>\n",
              "      <th>Travel_Controls</th>\n",
              "      <td>None or Unspecified</td>\n",
              "      <td>NaN</td>\n",
              "      <td>None or Unspecified</td>\n",
              "      <td>NaN</td>\n",
              "      <td>Lever</td>\n",
              "    </tr>\n",
              "    <tr>\n",
              "      <th>Differential_Type</th>\n",
              "      <td>NaN</td>\n",
              "      <td>Standard</td>\n",
              "      <td>NaN</td>\n",
              "      <td>Standard</td>\n",
              "      <td>NaN</td>\n",
              "    </tr>\n",
              "    <tr>\n",
              "      <th>Steering_Controls</th>\n",
              "      <td>NaN</td>\n",
              "      <td>Conventional</td>\n",
              "      <td>NaN</td>\n",
              "      <td>Conventional</td>\n",
              "      <td>NaN</td>\n",
              "    </tr>\n",
              "    <tr>\n",
              "      <th>saleYear</th>\n",
              "      <td>1989</td>\n",
              "      <td>1989</td>\n",
              "      <td>1989</td>\n",
              "      <td>1989</td>\n",
              "      <td>1989</td>\n",
              "    </tr>\n",
              "    <tr>\n",
              "      <th>saleMonth</th>\n",
              "      <td>1</td>\n",
              "      <td>1</td>\n",
              "      <td>1</td>\n",
              "      <td>1</td>\n",
              "      <td>1</td>\n",
              "    </tr>\n",
              "    <tr>\n",
              "      <th>saleDay</th>\n",
              "      <td>17</td>\n",
              "      <td>31</td>\n",
              "      <td>31</td>\n",
              "      <td>31</td>\n",
              "      <td>31</td>\n",
              "    </tr>\n",
              "    <tr>\n",
              "      <th>saleDayOfWeek</th>\n",
              "      <td>1</td>\n",
              "      <td>1</td>\n",
              "      <td>1</td>\n",
              "      <td>1</td>\n",
              "      <td>1</td>\n",
              "    </tr>\n",
              "    <tr>\n",
              "      <th>saleDayOfYear</th>\n",
              "      <td>17</td>\n",
              "      <td>31</td>\n",
              "      <td>31</td>\n",
              "      <td>31</td>\n",
              "      <td>31</td>\n",
              "    </tr>\n",
              "  </tbody>\n",
              "</table>\n",
              "</div>"
            ],
            "text/plain": [
              "                                                                     205615  ...                                             62755 \n",
              "SalesID                                                             1646770  ...                                            1329056\n",
              "SalePrice                                                              9500  ...                                              22000\n",
              "MachineID                                                           1126363  ...                                            1336053\n",
              "ModelID                                                                8434  ...                                               4089\n",
              "datasource                                                              132  ...                                                132\n",
              "auctioneerID                                                             18  ...                                                 99\n",
              "YearMade                                                               1974  ...                                               1984\n",
              "MachineHoursCurrentMeter                                                NaN  ...                                                NaN\n",
              "UsageBand                                                               NaN  ...                                                NaN\n",
              "saledate                                                1989-01-17 00:00:00  ...                                1989-01-31 00:00:00\n",
              "fiModelDesc                                                            TD20  ...                                                D3B\n",
              "fiBaseModel                                                            TD20  ...                                                 D3\n",
              "fiSecondaryDesc                                                         NaN  ...                                                  B\n",
              "fiModelSeries                                                           NaN  ...                                                NaN\n",
              "fiModelDescriptor                                                       NaN  ...                                                NaN\n",
              "ProductSize                                                          Medium  ...                                                NaN\n",
              "fiProductClassDesc        Track Type Tractor, Dozer - 105.0 to 130.0 Hor...  ...  Track Type Tractor, Dozer - 20.0 to 75.0 Horse...\n",
              "state                                                                 Texas  ...                                            Florida\n",
              "ProductGroup                                                            TTT  ...                                                TTT\n",
              "ProductGroupDesc                                        Track Type Tractors  ...                                Track Type Tractors\n",
              "Drive_System                                                            NaN  ...                                                NaN\n",
              "Enclosure                                                             OROPS  ...                                              OROPS\n",
              "Forks                                                                   NaN  ...                                                NaN\n",
              "Pad_Type                                                                NaN  ...                                                NaN\n",
              "Ride_Control                                                            NaN  ...                                                NaN\n",
              "Stick                                                                   NaN  ...                                                NaN\n",
              "Transmission                                                   Direct Drive  ...                                           Standard\n",
              "Turbocharged                                                            NaN  ...                                                NaN\n",
              "Blade_Extension                                                         NaN  ...                                                NaN\n",
              "Blade_Width                                                             NaN  ...                                                NaN\n",
              "Enclosure_Type                                                          NaN  ...                                                NaN\n",
              "Engine_Horsepower                                                       NaN  ...                                                NaN\n",
              "Hydraulics                                                          2 Valve  ...                                            2 Valve\n",
              "Pushblock                                                               NaN  ...                                                NaN\n",
              "Ripper                                                  None or Unspecified  ...                                None or Unspecified\n",
              "Scarifier                                                               NaN  ...                                                NaN\n",
              "Tip_Control                                                             NaN  ...                                                NaN\n",
              "Tire_Size                                                               NaN  ...                                                NaN\n",
              "Coupler                                                                 NaN  ...                                                NaN\n",
              "Coupler_System                                                          NaN  ...                                                NaN\n",
              "Grouser_Tracks                                                          NaN  ...                                                NaN\n",
              "Hydraulics_Flow                                                         NaN  ...                                                NaN\n",
              "Track_Type                                                              NaN  ...                                                NaN\n",
              "Undercarriage_Pad_Width                                                 NaN  ...                                                NaN\n",
              "Stick_Length                                                            NaN  ...                                                NaN\n",
              "Thumb                                                                   NaN  ...                                                NaN\n",
              "Pattern_Changer                                                         NaN  ...                                                NaN\n",
              "Grouser_Type                                                            NaN  ...                                                NaN\n",
              "Backhoe_Mounting                                        None or Unspecified  ...                                None or Unspecified\n",
              "Blade_Type                                                         Straight  ...                                                PAT\n",
              "Travel_Controls                                         None or Unspecified  ...                                              Lever\n",
              "Differential_Type                                                       NaN  ...                                                NaN\n",
              "Steering_Controls                                                       NaN  ...                                                NaN\n",
              "saleYear                                                               1989  ...                                               1989\n",
              "saleMonth                                                                 1  ...                                                  1\n",
              "saleDay                                                                  17  ...                                                 31\n",
              "saleDayOfWeek                                                             1  ...                                                  1\n",
              "saleDayOfYear                                                            17  ...                                                 31\n",
              "\n",
              "[58 rows x 5 columns]"
            ]
          },
          "metadata": {
            "tags": []
          },
          "execution_count": 12
        }
      ]
    },
    {
      "cell_type": "code",
      "metadata": {
        "id": "jfLLDmmbKPoq"
      },
      "source": [
        "# Drop saledate now that the date and time components are specified\n",
        "df_temp.drop(\"saledate\", axis = 1, inplace = True)"
      ],
      "execution_count": null,
      "outputs": []
    },
    {
      "cell_type": "code",
      "metadata": {
        "id": "fI2J6JrbLLiH",
        "colab": {
          "base_uri": "https://localhost:8080/"
        },
        "outputId": "35bf558a-9182-4d27-8a36-a4cbbb318b7c"
      },
      "source": [
        "len(df_temp)"
      ],
      "execution_count": null,
      "outputs": [
        {
          "output_type": "execute_result",
          "data": {
            "text/plain": [
              "412698"
            ]
          },
          "metadata": {
            "tags": []
          },
          "execution_count": 14
        }
      ]
    },
    {
      "cell_type": "code",
      "metadata": {
        "id": "mTCtbBUoKv-D",
        "colab": {
          "base_uri": "https://localhost:8080/"
        },
        "outputId": "a44171eb-d906-417c-95d4-62b2d65391a4"
      },
      "source": [
        "df_temp.state.value_counts()"
      ],
      "execution_count": null,
      "outputs": [
        {
          "output_type": "execute_result",
          "data": {
            "text/plain": [
              "Florida           67320\n",
              "Texas             53110\n",
              "California        29761\n",
              "Washington        16222\n",
              "Georgia           14633\n",
              "Maryland          13322\n",
              "Mississippi       13240\n",
              "Ohio              12369\n",
              "Illinois          11540\n",
              "Colorado          11529\n",
              "New Jersey        11156\n",
              "North Carolina    10636\n",
              "Tennessee         10298\n",
              "Alabama           10292\n",
              "Pennsylvania      10234\n",
              "South Carolina     9951\n",
              "Arizona            9364\n",
              "New York           8639\n",
              "Connecticut        8276\n",
              "Minnesota          7885\n",
              "Missouri           7178\n",
              "Nevada             6932\n",
              "Louisiana          6627\n",
              "Kentucky           5351\n",
              "Maine              5096\n",
              "Indiana            4124\n",
              "Arkansas           3933\n",
              "New Mexico         3631\n",
              "Utah               3046\n",
              "Unspecified        2801\n",
              "Wisconsin          2745\n",
              "New Hampshire      2738\n",
              "Virginia           2353\n",
              "Idaho              2025\n",
              "Oregon             1911\n",
              "Michigan           1831\n",
              "Wyoming            1672\n",
              "Montana            1336\n",
              "Iowa               1336\n",
              "Oklahoma           1326\n",
              "Nebraska            866\n",
              "West Virginia       840\n",
              "Kansas              667\n",
              "Delaware            510\n",
              "North Dakota        480\n",
              "Alaska              430\n",
              "Massachusetts       347\n",
              "Vermont             300\n",
              "South Dakota        244\n",
              "Hawaii              118\n",
              "Rhode Island         83\n",
              "Puerto Rico          42\n",
              "Washington DC         2\n",
              "Name: state, dtype: int64"
            ]
          },
          "metadata": {
            "tags": []
          },
          "execution_count": 15
        }
      ]
    },
    {
      "cell_type": "code",
      "metadata": {
        "id": "aWn58QuYK1AW",
        "colab": {
          "base_uri": "https://localhost:8080/",
          "height": 735
        },
        "outputId": "d80138c1-b513-422e-c4a8-471ceedfba97"
      },
      "source": [
        "# Correlation Matrix using Seaborn's Heatmap\n",
        "correlationMatrix = df_temp.corr()\n",
        "fig, ax = plt.subplots(figsize = (15, 10))\n",
        "ax = sns.heatmap(correlationMatrix, annot = True, fmt = \".2f\")\n",
        "\n",
        "# Center Numbers\n",
        "bottom, top = ax.get_ylim()\n",
        "ax.set_ylim(bottom + 0.5, top - 0.5)\n",
        "\n",
        "plt.title(\"Correlation Matrix Heatmap\")\n",
        "plt.show()"
      ],
      "execution_count": null,
      "outputs": [
        {
          "output_type": "display_data",
          "data": {
            "image/png": "[encoded data removed]",
            "text/plain": [
              "<Figure size 1080x720 with 2 Axes>"
            ]
          },
          "metadata": {
            "tags": [],
            "needs_background": "light"
          }
        }
      ]
    },
    {
      "cell_type": "markdown",
      "metadata": {
        "id": "7ArwFoZ_M7Sb"
      },
      "source": [
        "There are some instances of 1.00 correlation between features apart from the diagonal. These matches are not useful since year, month and day are contiguous naturally. "
      ]
    },
    {
      "cell_type": "code",
      "metadata": {
        "id": "RzdwhaeIL5ce",
        "colab": {
          "base_uri": "https://localhost:8080/"
        },
        "outputId": "43104b88-7291-4ff9-ffbe-45e55569564f"
      },
      "source": [
        "# Convert string to pandas categories since all of the data can become numbers\n",
        "# Find the columns which contain strings\n",
        "\n",
        "for label, content in df_temp.items():\n",
        "  if pd.api.types.is_string_dtype(content):\n",
        "    print(label)"
      ],
      "execution_count": null,
      "outputs": [
        {
          "output_type": "stream",
          "text": [
            "UsageBand\n",
            "fiModelDesc\n",
            "fiBaseModel\n",
            "fiSecondaryDesc\n",
            "fiModelSeries\n",
            "fiModelDescriptor\n",
            "ProductSize\n",
            "fiProductClassDesc\n",
            "state\n",
            "ProductGroup\n",
            "ProductGroupDesc\n",
            "Drive_System\n",
            "Enclosure\n",
            "Forks\n",
            "Pad_Type\n",
            "Ride_Control\n",
            "Stick\n",
            "Transmission\n",
            "Turbocharged\n",
            "Blade_Extension\n",
            "Blade_Width\n",
            "Enclosure_Type\n",
            "Engine_Horsepower\n",
            "Hydraulics\n",
            "Pushblock\n",
            "Ripper\n",
            "Scarifier\n",
            "Tip_Control\n",
            "Tire_Size\n",
            "Coupler\n",
            "Coupler_System\n",
            "Grouser_Tracks\n",
            "Hydraulics_Flow\n",
            "Track_Type\n",
            "Undercarriage_Pad_Width\n",
            "Stick_Length\n",
            "Thumb\n",
            "Pattern_Changer\n",
            "Grouser_Type\n",
            "Backhoe_Mounting\n",
            "Blade_Type\n",
            "Travel_Controls\n",
            "Differential_Type\n",
            "Steering_Controls\n"
          ],
          "name": "stdout"
        }
      ]
    },
    {
      "cell_type": "code",
      "metadata": {
        "id": "kp0NoP8dTsXv"
      },
      "source": [
        "# Turn all strings to pandas categories \n",
        "for label, content in df_temp.items():\n",
        "    if pd.api.types.is_string_dtype(content):\n",
        "        df_temp[label] = content.astype(\"category\").cat.as_ordered()"
      ],
      "execution_count": null,
      "outputs": []
    },
    {
      "cell_type": "code",
      "metadata": {
        "id": "QwbjJfcRUIFS",
        "colab": {
          "base_uri": "https://localhost:8080/"
        },
        "outputId": "0bbc7130-0910-42a8-ef65-336c033ee8b7"
      },
      "source": [
        "df_temp.info()"
      ],
      "execution_count": null,
      "outputs": [
        {
          "output_type": "stream",
          "text": [
            "<class 'pandas.core.frame.DataFrame'>\n",
            "Int64Index: 412698 entries, 205615 to 409203\n",
            "Data columns (total 57 columns):\n",
            " #   Column                    Non-Null Count   Dtype   \n",
            "---  ------                    --------------   -----   \n",
            " 0   SalesID                   412698 non-null  int64   \n",
            " 1   SalePrice                 412698 non-null  float64 \n",
            " 2   MachineID                 412698 non-null  int64   \n",
            " 3   ModelID                   412698 non-null  int64   \n",
            " 4   datasource                412698 non-null  int64   \n",
            " 5   auctioneerID              392562 non-null  float64 \n",
            " 6   YearMade                  412698 non-null  int64   \n",
            " 7   MachineHoursCurrentMeter  147504 non-null  float64 \n",
            " 8   UsageBand                 73670 non-null   category\n",
            " 9   fiModelDesc               412698 non-null  category\n",
            " 10  fiBaseModel               412698 non-null  category\n",
            " 11  fiSecondaryDesc           271971 non-null  category\n",
            " 12  fiModelSeries             58667 non-null   category\n",
            " 13  fiModelDescriptor         74816 non-null   category\n",
            " 14  ProductSize               196093 non-null  category\n",
            " 15  fiProductClassDesc        412698 non-null  category\n",
            " 16  state                     412698 non-null  category\n",
            " 17  ProductGroup              412698 non-null  category\n",
            " 18  ProductGroupDesc          412698 non-null  category\n",
            " 19  Drive_System              107087 non-null  category\n",
            " 20  Enclosure                 412364 non-null  category\n",
            " 21  Forks                     197715 non-null  category\n",
            " 22  Pad_Type                  81096 non-null   category\n",
            " 23  Ride_Control              152728 non-null  category\n",
            " 24  Stick                     81096 non-null   category\n",
            " 25  Transmission              188007 non-null  category\n",
            " 26  Turbocharged              81096 non-null   category\n",
            " 27  Blade_Extension           25983 non-null   category\n",
            " 28  Blade_Width               25983 non-null   category\n",
            " 29  Enclosure_Type            25983 non-null   category\n",
            " 30  Engine_Horsepower         25983 non-null   category\n",
            " 31  Hydraulics                330133 non-null  category\n",
            " 32  Pushblock                 25983 non-null   category\n",
            " 33  Ripper                    106945 non-null  category\n",
            " 34  Scarifier                 25994 non-null   category\n",
            " 35  Tip_Control               25983 non-null   category\n",
            " 36  Tire_Size                 97638 non-null   category\n",
            " 37  Coupler                   220679 non-null  category\n",
            " 38  Coupler_System            44974 non-null   category\n",
            " 39  Grouser_Tracks            44875 non-null   category\n",
            " 40  Hydraulics_Flow           44875 non-null   category\n",
            " 41  Track_Type                102193 non-null  category\n",
            " 42  Undercarriage_Pad_Width   102916 non-null  category\n",
            " 43  Stick_Length              102261 non-null  category\n",
            " 44  Thumb                     102332 non-null  category\n",
            " 45  Pattern_Changer           102261 non-null  category\n",
            " 46  Grouser_Type              102193 non-null  category\n",
            " 47  Backhoe_Mounting          80712 non-null   category\n",
            " 48  Blade_Type                81875 non-null   category\n",
            " 49  Travel_Controls           81877 non-null   category\n",
            " 50  Differential_Type         71564 non-null   category\n",
            " 51  Steering_Controls         71522 non-null   category\n",
            " 52  saleYear                  412698 non-null  int64   \n",
            " 53  saleMonth                 412698 non-null  int64   \n",
            " 54  saleDay                   412698 non-null  int64   \n",
            " 55  saleDayOfWeek             412698 non-null  int64   \n",
            " 56  saleDayOfYear             412698 non-null  int64   \n",
            "dtypes: category(44), float64(3), int64(10)\n",
            "memory usage: 63.7 MB\n"
          ],
          "name": "stdout"
        }
      ]
    },
    {
      "cell_type": "markdown",
      "metadata": {
        "id": "wqXdPpnbVtRd"
      },
      "source": [
        "Let's check the changes"
      ]
    },
    {
      "cell_type": "code",
      "metadata": {
        "id": "Cv35gqKaUKdV",
        "colab": {
          "base_uri": "https://localhost:8080/"
        },
        "outputId": "3d11e5de-1c2c-4f9d-ee2a-8612c91e623e"
      },
      "source": [
        "df_temp.state.cat.categories"
      ],
      "execution_count": null,
      "outputs": [
        {
          "output_type": "execute_result",
          "data": {
            "text/plain": [
              "Index(['Alabama', 'Alaska', 'Arizona', 'Arkansas', 'California', 'Colorado',\n",
              "       'Connecticut', 'Delaware', 'Florida', 'Georgia', 'Hawaii', 'Idaho',\n",
              "       'Illinois', 'Indiana', 'Iowa', 'Kansas', 'Kentucky', 'Louisiana',\n",
              "       'Maine', 'Maryland', 'Massachusetts', 'Michigan', 'Minnesota',\n",
              "       'Mississippi', 'Missouri', 'Montana', 'Nebraska', 'Nevada',\n",
              "       'New Hampshire', 'New Jersey', 'New Mexico', 'New York',\n",
              "       'North Carolina', 'North Dakota', 'Ohio', 'Oklahoma', 'Oregon',\n",
              "       'Pennsylvania', 'Puerto Rico', 'Rhode Island', 'South Carolina',\n",
              "       'South Dakota', 'Tennessee', 'Texas', 'Unspecified', 'Utah', 'Vermont',\n",
              "       'Virginia', 'Washington', 'Washington DC', 'West Virginia', 'Wisconsin',\n",
              "       'Wyoming'],\n",
              "      dtype='object')"
            ]
          },
          "metadata": {
            "tags": []
          },
          "execution_count": 20
        }
      ]
    },
    {
      "cell_type": "code",
      "metadata": {
        "id": "27y9U0ZHV0OX",
        "colab": {
          "base_uri": "https://localhost:8080/"
        },
        "outputId": "41361f94-3bde-45d1-b3ac-3e920a496a71"
      },
      "source": [
        "df_temp.state.cat.codes"
      ],
      "execution_count": null,
      "outputs": [
        {
          "output_type": "execute_result",
          "data": {
            "text/plain": [
              "205615    43\n",
              "274835     8\n",
              "141296     8\n",
              "212552     8\n",
              "62755      8\n",
              "          ..\n",
              "410879     4\n",
              "412476     4\n",
              "411927     4\n",
              "407124     4\n",
              "409203     4\n",
              "Length: 412698, dtype: int8"
            ]
          },
          "metadata": {
            "tags": []
          },
          "execution_count": 21
        }
      ]
    },
    {
      "cell_type": "code",
      "metadata": {
        "id": "pTM8b1xDV21B",
        "colab": {
          "base_uri": "https://localhost:8080/"
        },
        "outputId": "e78674f5-4ed5-43e8-b634-ab31beaae00a"
      },
      "source": [
        "# Check ratio of the number of missing data points to the length of the dataframe\n",
        "df_temp.isnull().sum()/len(df_temp)"
      ],
      "execution_count": null,
      "outputs": [
        {
          "output_type": "execute_result",
          "data": {
            "text/plain": [
              "SalesID                     0.000000\n",
              "SalePrice                   0.000000\n",
              "MachineID                   0.000000\n",
              "ModelID                     0.000000\n",
              "datasource                  0.000000\n",
              "auctioneerID                0.048791\n",
              "YearMade                    0.000000\n",
              "MachineHoursCurrentMeter    0.642586\n",
              "UsageBand                   0.821492\n",
              "fiModelDesc                 0.000000\n",
              "fiBaseModel                 0.000000\n",
              "fiSecondaryDesc             0.340993\n",
              "fiModelSeries               0.857845\n",
              "fiModelDescriptor           0.818715\n",
              "ProductSize                 0.524851\n",
              "fiProductClassDesc          0.000000\n",
              "state                       0.000000\n",
              "ProductGroup                0.000000\n",
              "ProductGroupDesc            0.000000\n",
              "Drive_System                0.740520\n",
              "Enclosure                   0.000809\n",
              "Forks                       0.520921\n",
              "Pad_Type                    0.803498\n",
              "Ride_Control                0.629928\n",
              "Stick                       0.803498\n",
              "Transmission                0.544444\n",
              "Turbocharged                0.803498\n",
              "Blade_Extension             0.937041\n",
              "Blade_Width                 0.937041\n",
              "Enclosure_Type              0.937041\n",
              "Engine_Horsepower           0.937041\n",
              "Hydraulics                  0.200062\n",
              "Pushblock                   0.937041\n",
              "Ripper                      0.740864\n",
              "Scarifier                   0.937014\n",
              "Tip_Control                 0.937041\n",
              "Tire_Size                   0.763415\n",
              "Coupler                     0.465277\n",
              "Coupler_System              0.891024\n",
              "Grouser_Tracks              0.891264\n",
              "Hydraulics_Flow             0.891264\n",
              "Track_Type                  0.752378\n",
              "Undercarriage_Pad_Width     0.750626\n",
              "Stick_Length                0.752213\n",
              "Thumb                       0.752041\n",
              "Pattern_Changer             0.752213\n",
              "Grouser_Type                0.752378\n",
              "Backhoe_Mounting            0.804428\n",
              "Blade_Type                  0.801610\n",
              "Travel_Controls             0.801606\n",
              "Differential_Type           0.826595\n",
              "Steering_Controls           0.826697\n",
              "saleYear                    0.000000\n",
              "saleMonth                   0.000000\n",
              "saleDay                     0.000000\n",
              "saleDayOfWeek               0.000000\n",
              "saleDayOfYear               0.000000\n",
              "dtype: float64"
            ]
          },
          "metadata": {
            "tags": []
          },
          "execution_count": 22
        }
      ]
    },
    {
      "cell_type": "markdown",
      "metadata": {
        "id": "juNuNYS2W1dx"
      },
      "source": [
        "### Fill in missing values"
      ]
    },
    {
      "cell_type": "code",
      "metadata": {
        "id": "DsBsoxueWr0W",
        "colab": {
          "base_uri": "https://localhost:8080/"
        },
        "outputId": "ad728967-0146-41b1-da8b-7fe67791a2e6"
      },
      "source": [
        "# Let's start with numerical values\n",
        "for label, content in df_temp.items():\n",
        "  if pd.api.types.is_numeric_dtype(content):\n",
        "    print(label)"
      ],
      "execution_count": null,
      "outputs": [
        {
          "output_type": "stream",
          "text": [
            "SalesID\n",
            "SalePrice\n",
            "MachineID\n",
            "ModelID\n",
            "datasource\n",
            "auctioneerID\n",
            "YearMade\n",
            "MachineHoursCurrentMeter\n",
            "saleYear\n",
            "saleMonth\n",
            "saleDay\n",
            "saleDayOfWeek\n",
            "saleDayOfYear\n"
          ],
          "name": "stdout"
        }
      ]
    },
    {
      "cell_type": "code",
      "metadata": {
        "id": "O_KIrMIKXXce",
        "colab": {
          "base_uri": "https://localhost:8080/"
        },
        "outputId": "67f35363-b901-42d6-9864-6d89548ecc52"
      },
      "source": [
        "df_temp.ModelID"
      ],
      "execution_count": null,
      "outputs": [
        {
          "output_type": "execute_result",
          "data": {
            "text/plain": [
              "205615     8434\n",
              "274835    10150\n",
              "141296     4139\n",
              "212552     8591\n",
              "62755      4089\n",
              "          ...  \n",
              "410879     5266\n",
              "412476    19330\n",
              "411927    17244\n",
              "407124     3357\n",
              "409203     4701\n",
              "Name: ModelID, Length: 412698, dtype: int64"
            ]
          },
          "metadata": {
            "tags": []
          },
          "execution_count": 24
        }
      ]
    },
    {
      "cell_type": "code",
      "metadata": {
        "id": "ZkjU8AiTXknC",
        "colab": {
          "base_uri": "https://localhost:8080/"
        },
        "outputId": "bed9b47c-61df-4346-efe2-683d2e7d1248"
      },
      "source": [
        "# Check for numeric columns with null values\n",
        "for label, content in df_temp.items():\n",
        "    if pd.api.types.is_numeric_dtype(content):\n",
        "        if pd.isnull(content).sum():\n",
        "            print(label)"
      ],
      "execution_count": null,
      "outputs": [
        {
          "output_type": "stream",
          "text": [
            "auctioneerID\n",
            "MachineHoursCurrentMeter\n"
          ],
          "name": "stdout"
        }
      ]
    },
    {
      "cell_type": "markdown",
      "metadata": {
        "id": "IaPD7V3Ld408"
      },
      "source": [
        "Replacing the missing numerical values with the median is better than the mean in this case since the analysis should avoid outliers."
      ]
    },
    {
      "cell_type": "code",
      "metadata": {
        "id": "5cDTCvIDdgmZ"
      },
      "source": [
        "# Fill in missing numerical values with the median\n",
        "for label, content in df_temp.items():\n",
        "    if pd.api.types.is_numeric_dtype(content):\n",
        "        if pd.isnull(content).sum():\n",
        "            # Add a binary column which tells us if the data was missing or not\n",
        "            df_temp[label + \"_is_missing\"] = pd.isnull(content)\n",
        "            df_temp[label] = content.fillna(content.median())"
      ],
      "execution_count": null,
      "outputs": []
    },
    {
      "cell_type": "code",
      "metadata": {
        "id": "-tbX42Iydx6Q"
      },
      "source": [
        "# Check if cell above worked, should return nothing\n",
        "for label, content in df_temp.items():\n",
        "    if pd.api.types.is_numeric_dtype(content):\n",
        "        if pd.isnull(content).sum():\n",
        "            print(label)"
      ],
      "execution_count": null,
      "outputs": []
    },
    {
      "cell_type": "code",
      "metadata": {
        "id": "Az4pHbK8eEpj",
        "colab": {
          "base_uri": "https://localhost:8080/"
        },
        "outputId": "b37e75f1-f9d8-4a11-ab51-06588b9e29d3"
      },
      "source": [
        "# Check to see how many examples were missing\n",
        "df_temp.auctioneerID_is_missing.value_counts()"
      ],
      "execution_count": null,
      "outputs": [
        {
          "output_type": "execute_result",
          "data": {
            "text/plain": [
              "False    392562\n",
              "True      20136\n",
              "Name: auctioneerID_is_missing, dtype: int64"
            ]
          },
          "metadata": {
            "tags": []
          },
          "execution_count": 28
        }
      ]
    },
    {
      "cell_type": "code",
      "metadata": {
        "id": "XUZEbkNpeKJL",
        "colab": {
          "base_uri": "https://localhost:8080/"
        },
        "outputId": "31a3a4f4-ecbe-47ef-cb4f-3c6e9d4fdfa0"
      },
      "source": [
        "df_temp.isna().sum()"
      ],
      "execution_count": null,
      "outputs": [
        {
          "output_type": "execute_result",
          "data": {
            "text/plain": [
              "SalesID                                     0\n",
              "SalePrice                                   0\n",
              "MachineID                                   0\n",
              "ModelID                                     0\n",
              "datasource                                  0\n",
              "auctioneerID                                0\n",
              "YearMade                                    0\n",
              "MachineHoursCurrentMeter                    0\n",
              "UsageBand                              339028\n",
              "fiModelDesc                                 0\n",
              "fiBaseModel                                 0\n",
              "fiSecondaryDesc                        140727\n",
              "fiModelSeries                          354031\n",
              "fiModelDescriptor                      337882\n",
              "ProductSize                            216605\n",
              "fiProductClassDesc                          0\n",
              "state                                       0\n",
              "ProductGroup                                0\n",
              "ProductGroupDesc                            0\n",
              "Drive_System                           305611\n",
              "Enclosure                                 334\n",
              "Forks                                  214983\n",
              "Pad_Type                               331602\n",
              "Ride_Control                           259970\n",
              "Stick                                  331602\n",
              "Transmission                           224691\n",
              "Turbocharged                           331602\n",
              "Blade_Extension                        386715\n",
              "Blade_Width                            386715\n",
              "Enclosure_Type                         386715\n",
              "Engine_Horsepower                      386715\n",
              "Hydraulics                              82565\n",
              "Pushblock                              386715\n",
              "Ripper                                 305753\n",
              "Scarifier                              386704\n",
              "Tip_Control                            386715\n",
              "Tire_Size                              315060\n",
              "Coupler                                192019\n",
              "Coupler_System                         367724\n",
              "Grouser_Tracks                         367823\n",
              "Hydraulics_Flow                        367823\n",
              "Track_Type                             310505\n",
              "Undercarriage_Pad_Width                309782\n",
              "Stick_Length                           310437\n",
              "Thumb                                  310366\n",
              "Pattern_Changer                        310437\n",
              "Grouser_Type                           310505\n",
              "Backhoe_Mounting                       331986\n",
              "Blade_Type                             330823\n",
              "Travel_Controls                        330821\n",
              "Differential_Type                      341134\n",
              "Steering_Controls                      341176\n",
              "saleYear                                    0\n",
              "saleMonth                                   0\n",
              "saleDay                                     0\n",
              "saleDayOfWeek                               0\n",
              "saleDayOfYear                               0\n",
              "auctioneerID_is_missing                     0\n",
              "MachineHoursCurrentMeter_is_missing         0\n",
              "dtype: int64"
            ]
          },
          "metadata": {
            "tags": []
          },
          "execution_count": 29
        }
      ]
    },
    {
      "cell_type": "code",
      "metadata": {
        "colab": {
          "base_uri": "https://localhost:8080/"
        },
        "id": "BY7EdoFjoBWr",
        "outputId": "734b9ce9-aa8d-4ba3-c771-3f89e24e88aa"
      },
      "source": [
        "# Let's turn categoricals into numbers\n",
        "# Show columns that are not numeric\n",
        "for label, content in df_temp.items():\n",
        "  if not pd.api.types.is_numeric_dtype(content):\n",
        "    print(label)"
      ],
      "execution_count": null,
      "outputs": [
        {
          "output_type": "stream",
          "text": [
            "UsageBand\n",
            "fiModelDesc\n",
            "fiBaseModel\n",
            "fiSecondaryDesc\n",
            "fiModelSeries\n",
            "fiModelDescriptor\n",
            "ProductSize\n",
            "fiProductClassDesc\n",
            "state\n",
            "ProductGroup\n",
            "ProductGroupDesc\n",
            "Drive_System\n",
            "Enclosure\n",
            "Forks\n",
            "Pad_Type\n",
            "Ride_Control\n",
            "Stick\n",
            "Transmission\n",
            "Turbocharged\n",
            "Blade_Extension\n",
            "Blade_Width\n",
            "Enclosure_Type\n",
            "Engine_Horsepower\n",
            "Hydraulics\n",
            "Pushblock\n",
            "Ripper\n",
            "Scarifier\n",
            "Tip_Control\n",
            "Tire_Size\n",
            "Coupler\n",
            "Coupler_System\n",
            "Grouser_Tracks\n",
            "Hydraulics_Flow\n",
            "Track_Type\n",
            "Undercarriage_Pad_Width\n",
            "Stick_Length\n",
            "Thumb\n",
            "Pattern_Changer\n",
            "Grouser_Type\n",
            "Backhoe_Mounting\n",
            "Blade_Type\n",
            "Travel_Controls\n",
            "Differential_Type\n",
            "Steering_Controls\n"
          ],
          "name": "stdout"
        }
      ]
    },
    {
      "cell_type": "code",
      "metadata": {
        "id": "phXf0arYpG_w"
      },
      "source": [
        "# Turn categorical values to numbers and fill missing values\n",
        "# Add a column to show if there was a missing value\n",
        "for label, content in df_temp.items():\n",
        "  if not pd.api.types.is_numeric_dtype(content):\n",
        "    df_temp[label + \"_is_missing\"] = pd.isnull(content)\n",
        "    # Turn into numbers and add 1\n",
        "    df_temp[label] = pd.Categorical(content).codes + 1"
      ],
      "execution_count": null,
      "outputs": []
    },
    {
      "cell_type": "code",
      "metadata": {
        "colab": {
          "base_uri": "https://localhost:8080/"
        },
        "id": "F1CnZSlwy_iw",
        "outputId": "2c1224ac-3b04-4071-f9a6-ddd1bed61880"
      },
      "source": [
        "df_temp.head().T"
      ],
      "execution_count": null,
      "outputs": [
        {
          "output_type": "execute_result",
          "data": {
            "text/html": [
              "<div>\n",
              "<style scoped>\n",
              "    .dataframe tbody tr th:only-of-type {\n",
              "        vertical-align: middle;\n",
              "    }\n",
              "\n",
              "    .dataframe tbody tr th {\n",
              "        vertical-align: top;\n",
              "    }\n",
              "\n",
              "    .dataframe thead th {\n",
              "        text-align: right;\n",
              "    }\n",
              "</style>\n",
              "<table border=\"1\" class=\"dataframe\">\n",
              "  <thead>\n",
              "    <tr style=\"text-align: right;\">\n",
              "      <th></th>\n",
              "      <th>205615</th>\n",
              "      <th>274835</th>\n",
              "      <th>141296</th>\n",
              "      <th>212552</th>\n",
              "      <th>62755</th>\n",
              "    </tr>\n",
              "  </thead>\n",
              "  <tbody>\n",
              "    <tr>\n",
              "      <th>SalesID</th>\n",
              "      <td>1646770</td>\n",
              "      <td>1821514</td>\n",
              "      <td>1505138</td>\n",
              "      <td>1671174</td>\n",
              "      <td>1329056</td>\n",
              "    </tr>\n",
              "    <tr>\n",
              "      <th>SalePrice</th>\n",
              "      <td>9500</td>\n",
              "      <td>14000</td>\n",
              "      <td>50000</td>\n",
              "      <td>16000</td>\n",
              "      <td>22000</td>\n",
              "    </tr>\n",
              "    <tr>\n",
              "      <th>MachineID</th>\n",
              "      <td>1126363</td>\n",
              "      <td>1194089</td>\n",
              "      <td>1473654</td>\n",
              "      <td>1327630</td>\n",
              "      <td>1336053</td>\n",
              "    </tr>\n",
              "    <tr>\n",
              "      <th>ModelID</th>\n",
              "      <td>8434</td>\n",
              "      <td>10150</td>\n",
              "      <td>4139</td>\n",
              "      <td>8591</td>\n",
              "      <td>4089</td>\n",
              "    </tr>\n",
              "    <tr>\n",
              "      <th>datasource</th>\n",
              "      <td>132</td>\n",
              "      <td>132</td>\n",
              "      <td>132</td>\n",
              "      <td>132</td>\n",
              "      <td>132</td>\n",
              "    </tr>\n",
              "    <tr>\n",
              "      <th>...</th>\n",
              "      <td>...</td>\n",
              "      <td>...</td>\n",
              "      <td>...</td>\n",
              "      <td>...</td>\n",
              "      <td>...</td>\n",
              "    </tr>\n",
              "    <tr>\n",
              "      <th>Backhoe_Mounting_is_missing</th>\n",
              "      <td>False</td>\n",
              "      <td>True</td>\n",
              "      <td>False</td>\n",
              "      <td>True</td>\n",
              "      <td>False</td>\n",
              "    </tr>\n",
              "    <tr>\n",
              "      <th>Blade_Type_is_missing</th>\n",
              "      <td>False</td>\n",
              "      <td>True</td>\n",
              "      <td>False</td>\n",
              "      <td>True</td>\n",
              "      <td>False</td>\n",
              "    </tr>\n",
              "    <tr>\n",
              "      <th>Travel_Controls_is_missing</th>\n",
              "      <td>False</td>\n",
              "      <td>True</td>\n",
              "      <td>False</td>\n",
              "      <td>True</td>\n",
              "      <td>False</td>\n",
              "    </tr>\n",
              "    <tr>\n",
              "      <th>Differential_Type_is_missing</th>\n",
              "      <td>True</td>\n",
              "      <td>False</td>\n",
              "      <td>True</td>\n",
              "      <td>False</td>\n",
              "      <td>True</td>\n",
              "    </tr>\n",
              "    <tr>\n",
              "      <th>Steering_Controls_is_missing</th>\n",
              "      <td>True</td>\n",
              "      <td>False</td>\n",
              "      <td>True</td>\n",
              "      <td>False</td>\n",
              "      <td>True</td>\n",
              "    </tr>\n",
              "  </tbody>\n",
              "</table>\n",
              "<p>103 rows × 5 columns</p>\n",
              "</div>"
            ],
            "text/plain": [
              "                               205615   274835   141296   212552   62755 \n",
              "SalesID                       1646770  1821514  1505138  1671174  1329056\n",
              "SalePrice                        9500    14000    50000    16000    22000\n",
              "MachineID                     1126363  1194089  1473654  1327630  1336053\n",
              "ModelID                          8434    10150     4139     8591     4089\n",
              "datasource                        132      132      132      132      132\n",
              "...                               ...      ...      ...      ...      ...\n",
              "Backhoe_Mounting_is_missing     False     True    False     True    False\n",
              "Blade_Type_is_missing           False     True    False     True    False\n",
              "Travel_Controls_is_missing      False     True    False     True    False\n",
              "Differential_Type_is_missing     True    False     True    False     True\n",
              "Steering_Controls_is_missing     True    False     True    False     True\n",
              "\n",
              "[103 rows x 5 columns]"
            ]
          },
          "metadata": {
            "tags": []
          },
          "execution_count": 32
        }
      ]
    },
    {
      "cell_type": "code",
      "metadata": {
        "colab": {
          "base_uri": "https://localhost:8080/"
        },
        "id": "aJp0nJnUzLOT",
        "outputId": "38b8ab60-3e24-488f-a9c3-014339f9d3af"
      },
      "source": [
        "# State columns is now enumerated\n",
        "pd.Categorical(df_temp.state).codes + 1"
      ],
      "execution_count": null,
      "outputs": [
        {
          "output_type": "execute_result",
          "data": {
            "text/plain": [
              "array([44,  9,  9, ...,  5,  5,  5], dtype=int8)"
            ]
          },
          "metadata": {
            "tags": []
          },
          "execution_count": 33
        }
      ]
    },
    {
      "cell_type": "code",
      "metadata": {
        "colab": {
          "base_uri": "https://localhost:8080/"
        },
        "id": "g1X_WoDazZkO",
        "outputId": "9b77782b-de6b-45da-cb06-e55e29ee7498"
      },
      "source": [
        "df_temp.isna().sum()"
      ],
      "execution_count": null,
      "outputs": [
        {
          "output_type": "execute_result",
          "data": {
            "text/plain": [
              "SalesID                         0\n",
              "SalePrice                       0\n",
              "MachineID                       0\n",
              "ModelID                         0\n",
              "datasource                      0\n",
              "                               ..\n",
              "Backhoe_Mounting_is_missing     0\n",
              "Blade_Type_is_missing           0\n",
              "Travel_Controls_is_missing      0\n",
              "Differential_Type_is_missing    0\n",
              "Steering_Controls_is_missing    0\n",
              "Length: 103, dtype: int64"
            ]
          },
          "metadata": {
            "tags": []
          },
          "execution_count": 34
        }
      ]
    },
    {
      "cell_type": "markdown",
      "metadata": {
        "id": "2ouOAvSPz5zc"
      },
      "source": [
        "## 4. Modeling"
      ]
    },
    {
      "cell_type": "code",
      "metadata": {
        "id": "J7Hebom46SRq"
      },
      "source": [
        "import sklearn\n",
        "from sklearn.ensemble import RandomForestRegressor"
      ],
      "execution_count": null,
      "outputs": []
    },
    {
      "cell_type": "markdown",
      "metadata": {
        "id": "4KYLuJv22g3C"
      },
      "source": [
        "With cleaned data, we can build a model. We need to split the data into training and validation first. The next two code cells below demonstrate why this step is important. However, they are commented since the result is trivial and the dataset is very large so it would be a waste of time."
      ]
    },
    {
      "cell_type": "code",
      "metadata": {
        "id": "NL-tRrLdzdpZ",
        "colab": {
          "base_uri": "https://localhost:8080/"
        },
        "outputId": "edc50d41-fcca-48d3-bfcb-48ba9bb43463"
      },
      "source": [
        "%%time\n",
        "# Instantiate model\n",
        "# model = RandomForestRegressor(n_jobs=1, random_state=42)\n",
        "\n",
        "# Fit the model\n",
        "# model.fit(df_temp.drop(\"SalePrice\", axis=1), df_temp[\"SalePrice\"])"
      ],
      "execution_count": null,
      "outputs": [
        {
          "output_type": "stream",
          "text": [
            "CPU times: user 4 µs, sys: 0 ns, total: 4 µs\n",
            "Wall time: 7.15 µs\n"
          ],
          "name": "stdout"
        }
      ]
    },
    {
      "cell_type": "code",
      "metadata": {
        "id": "du4LbmJf3BcP"
      },
      "source": [
        "# Score the model\n",
        "# model.score(df_temp.drop(\"SalePrice\", axis=1), df_temp[\"SalePrice\"])"
      ],
      "execution_count": null,
      "outputs": []
    },
    {
      "cell_type": "markdown",
      "metadata": {
        "id": "KbfVCA8g6uiB"
      },
      "source": [
        "The model score would be near 100, in other words \"perfect.\" Here, the result is trivial. Without the split, the training and validation data would have been effectively the same and used twice. There is no signifcance if a model knows \"the exact answers to a difficult exam before taking it.\""
      ]
    },
    {
      "cell_type": "code",
      "metadata": {
        "colab": {
          "base_uri": "https://localhost:8080/"
        },
        "id": "e9vPCJQN7y4y",
        "outputId": "2cdf5574-902b-45e6-d651-b1f1d14ac70b"
      },
      "source": [
        "# Split data into training and validation\n",
        "df_val = df_temp[df_temp.saleYear == 2012]\n",
        "df_train = df_temp[df_temp.saleYear != 2012]\n",
        "\n",
        "len(df_val), len(df_train)"
      ],
      "execution_count": null,
      "outputs": [
        {
          "output_type": "execute_result",
          "data": {
            "text/plain": [
              "(11573, 401125)"
            ]
          },
          "metadata": {
            "tags": []
          },
          "execution_count": 38
        }
      ]
    },
    {
      "cell_type": "code",
      "metadata": {
        "colab": {
          "base_uri": "https://localhost:8080/"
        },
        "id": "vXkrzUyb77SW",
        "outputId": "50b3773d-2dbc-43c6-ae16-399357dc1a1c"
      },
      "source": [
        "# Split data\n",
        "X_train, y_train = df_train.drop(\"SalePrice\", axis=1), df_train.SalePrice\n",
        "X_valid, y_valid = df_val.drop(\"SalePrice\", axis=1), df_val.SalePrice\n",
        "\n",
        "X_train.shape, y_train.shape, X_valid.shape, y_valid.shape"
      ],
      "execution_count": null,
      "outputs": [
        {
          "output_type": "execute_result",
          "data": {
            "text/plain": [
              "((401125, 102), (401125,), (11573, 102), (11573,))"
            ]
          },
          "metadata": {
            "tags": []
          },
          "execution_count": 39
        }
      ]
    },
    {
      "cell_type": "markdown",
      "metadata": {
        "id": "Nd1GW8rs8Bf1"
      },
      "source": [
        "#### Evaluation Function\n",
        "The competition does not provide a function for evaluation so we need to create one."
      ]
    },
    {
      "cell_type": "code",
      "metadata": {
        "id": "6bfv5TS78H4n"
      },
      "source": [
        "# Create the competition RMSLE\n",
        "from sklearn.metrics import mean_squared_log_error, mean_absolute_error, r2_score\n",
        "\n",
        "def RMSLE(y_test, y_preds):\n",
        "  \"\"\"\n",
        "  Calculate RMSLE between true labels and the model predictions\n",
        "  \"\"\"\n",
        "  return np.sqrt(mean_squared_log_error(y_test, y_preds))\n",
        "\n",
        "def scores(model):\n",
        "  train_preds = model.predict(X_train)\n",
        "  val_preds = model.predict(X_valid)\n",
        "  scores = {\"Training MAE\": mean_absolute_error(y_train, train_preds),\n",
        "            \"Valid MAE\": mean_absolute_error(y_valid, val_preds),\n",
        "            \"Training RMSLE\": RMSLE(y_train, train_preds),\n",
        "            \"Valid RMSLE\": RMSLE(y_valid, val_preds),\n",
        "            \"Training R^2\": r2_score(y_train, train_preds),\n",
        "            \"Valid R^2\": r2_score(y_valid, val_preds)}\n",
        "  return scores"
      ],
      "execution_count": null,
      "outputs": []
    },
    {
      "cell_type": "code",
      "metadata": {
        "id": "Fp-i5BSk_0-8"
      },
      "source": [
        "# Reduce max_samples value so that the training time will improve\n",
        "# We can also reduce overfitting\n",
        "model = RandomForestRegressor(n_jobs=-1, random_state=69, max_samples=10000)"
      ],
      "execution_count": null,
      "outputs": []
    },
    {
      "cell_type": "code",
      "metadata": {
        "colab": {
          "base_uri": "https://localhost:8080/"
        },
        "id": "rrQYhjsY_lMT",
        "outputId": "8b262a33-b294-4e49-f2fb-4bc83258a547"
      },
      "source": [
        "%%time\n",
        "model.fit(X_train, y_train)"
      ],
      "execution_count": null,
      "outputs": [
        {
          "output_type": "stream",
          "text": [
            "CPU times: user 47.9 s, sys: 452 ms, total: 48.3 s\n",
            "Wall time: 25.7 s\n"
          ],
          "name": "stdout"
        },
        {
          "output_type": "execute_result",
          "data": {
            "text/plain": [
              "RandomForestRegressor(bootstrap=True, ccp_alpha=0.0, criterion='mse',\n",
              "                      max_depth=None, max_features='auto', max_leaf_nodes=None,\n",
              "                      max_samples=10000, min_impurity_decrease=0.0,\n",
              "                      min_impurity_split=None, min_samples_leaf=1,\n",
              "                      min_samples_split=2, min_weight_fraction_leaf=0.0,\n",
              "                      n_estimators=100, n_jobs=-1, oob_score=False,\n",
              "                      random_state=69, verbose=0, warm_start=False)"
            ]
          },
          "metadata": {
            "tags": []
          },
          "execution_count": 42
        }
      ]
    },
    {
      "cell_type": "code",
      "metadata": {
        "colab": {
          "base_uri": "https://localhost:8080/"
        },
        "id": "hIHZVhDJ__Ug",
        "outputId": "777066ac-6c6d-4a42-c366-5bb84930747d"
      },
      "source": [
        "scores(model)"
      ],
      "execution_count": null,
      "outputs": [
        {
          "output_type": "execute_result",
          "data": {
            "text/plain": [
              "{'Training MAE': 5554.262295942662,\n",
              " 'Training RMSLE': 0.2574790317003451,\n",
              " 'Training R^2': 0.8610567483824165,\n",
              " 'Valid MAE': 7164.064979694115,\n",
              " 'Valid RMSLE': 0.2935085018856222,\n",
              " 'Valid R^2': 0.8332532995463959}"
            ]
          },
          "metadata": {
            "tags": []
          },
          "execution_count": 43
        }
      ]
    },
    {
      "cell_type": "markdown",
      "metadata": {
        "id": "McRjwiB4CA4l"
      },
      "source": [
        "These results are not bad but there are quick techniques to improve results reasonably. "
      ]
    },
    {
      "cell_type": "markdown",
      "metadata": {
        "id": "h2ZeJn6_BWoe"
      },
      "source": [
        "### Hyperparameter Tuning"
      ]
    },
    {
      "cell_type": "markdown",
      "metadata": {
        "id": "qR9YX91bCAAz"
      },
      "source": [
        "Let's try RandomizedSearchCV"
      ]
    },
    {
      "cell_type": "code",
      "metadata": {
        "colab": {
          "base_uri": "https://localhost:8080/"
        },
        "id": "TCehcavtAF7O",
        "outputId": "b289adaf-3146-40a5-8b2c-df9ab45ec3c5"
      },
      "source": [
        "from sklearn.model_selection import RandomizedSearchCV\n",
        "\n",
        "# RandomForestRegressor hyperparameters\n",
        "rf_grid = {\"n_estimators\": np.arange(10, 100, 10),\n",
        "           \"max_depth\": [None, 3, 5, 10],\n",
        "           \"min_samples_split\": np.arange(2, 20, 2),\n",
        "           \"min_samples_leaf\": np.arange(1, 20, 2),\n",
        "           \"max_features\": [0.5, 1, \"sqrt\", \"auto\"],\n",
        "           \"max_samples\": [10000]}\n",
        "\n",
        "# Instantiate RandomizedSearchCV model\n",
        "rs_model = RandomizedSearchCV(RandomForestRegressor(n_jobs=-1,\n",
        "                                                    random_state=69),\n",
        "                                                    param_distributions=rf_grid,\n",
        "                                                    n_iter=2,\n",
        "                                                    cv=5,\n",
        "                                                    verbose=True)\n",
        "\n",
        "# Fit the RandomizedSearchCV model\n",
        "rs_model.fit(X_train, y_train)"
      ],
      "execution_count": null,
      "outputs": [
        {
          "output_type": "stream",
          "text": [
            "Fitting 5 folds for each of 2 candidates, totalling 10 fits\n"
          ],
          "name": "stdout"
        },
        {
          "output_type": "stream",
          "text": [
            "[Parallel(n_jobs=1)]: Using backend SequentialBackend with 1 concurrent workers.\n",
            "[Parallel(n_jobs=1)]: Done  10 out of  10 | elapsed:  1.0min finished\n"
          ],
          "name": "stderr"
        },
        {
          "output_type": "execute_result",
          "data": {
            "text/plain": [
              "RandomizedSearchCV(cv=5, error_score=nan,\n",
              "                   estimator=RandomForestRegressor(bootstrap=True,\n",
              "                                                   ccp_alpha=0.0,\n",
              "                                                   criterion='mse',\n",
              "                                                   max_depth=None,\n",
              "                                                   max_features='auto',\n",
              "                                                   max_leaf_nodes=None,\n",
              "                                                   max_samples=None,\n",
              "                                                   min_impurity_decrease=0.0,\n",
              "                                                   min_impurity_split=None,\n",
              "                                                   min_samples_leaf=1,\n",
              "                                                   min_samples_split=2,\n",
              "                                                   min_weight_fraction_leaf=0.0,\n",
              "                                                   n_estimators=100, n_jobs=-1,\n",
              "                                                   oob_score=False,...\n",
              "                   param_distributions={'max_depth': [None, 3, 5, 10],\n",
              "                                        'max_features': [0.5, 1, 'sqrt',\n",
              "                                                         'auto'],\n",
              "                                        'max_samples': [10000],\n",
              "                                        'min_samples_leaf': array([ 1,  3,  5,  7,  9, 11, 13, 15, 17, 19]),\n",
              "                                        'min_samples_split': array([ 2,  4,  6,  8, 10, 12, 14, 16, 18]),\n",
              "                                        'n_estimators': array([10, 20, 30, 40, 50, 60, 70, 80, 90])},\n",
              "                   pre_dispatch='2*n_jobs', random_state=None, refit=True,\n",
              "                   return_train_score=False, scoring=None, verbose=True)"
            ]
          },
          "metadata": {
            "tags": []
          },
          "execution_count": 44
        }
      ]
    },
    {
      "cell_type": "code",
      "metadata": {
        "id": "FcpIIkAuCWC_",
        "colab": {
          "base_uri": "https://localhost:8080/"
        },
        "outputId": "4ae1f804-792c-4d3a-f020-b17f72db5e00"
      },
      "source": [
        "# Find the best model hyperparameters\n",
        "rs_model.best_params_"
      ],
      "execution_count": null,
      "outputs": [
        {
          "output_type": "execute_result",
          "data": {
            "text/plain": [
              "{'max_depth': 10,\n",
              " 'max_features': 'auto',\n",
              " 'max_samples': 10000,\n",
              " 'min_samples_leaf': 5,\n",
              " 'min_samples_split': 6,\n",
              " 'n_estimators': 20}"
            ]
          },
          "metadata": {
            "tags": []
          },
          "execution_count": 45
        }
      ]
    },
    {
      "cell_type": "code",
      "metadata": {
        "id": "103DPrM2Cgkt",
        "colab": {
          "base_uri": "https://localhost:8080/"
        },
        "outputId": "f1908451-1907-457d-c8b5-c611d1a9d602"
      },
      "source": [
        "# Evaluate the RandomizedSearch model\n",
        "scores(rs_model)"
      ],
      "execution_count": null,
      "outputs": [
        {
          "output_type": "execute_result",
          "data": {
            "text/plain": [
              "{'Training MAE': 6567.928890139481,\n",
              " 'Training RMSLE': 0.2942104805810858,\n",
              " 'Training R^2': 0.8117018294502352,\n",
              " 'Valid MAE': 7929.945338464961,\n",
              " 'Valid RMSLE': 0.3175857200138149,\n",
              " 'Valid R^2': 0.7908931888274164}"
            ]
          },
          "metadata": {
            "tags": []
          },
          "execution_count": 46
        }
      ]
    },
    {
      "cell_type": "code",
      "metadata": {
        "id": "qRLtb7qbVMqf"
      },
      "source": [
        "%%time\n",
        "# Train the model with the best hyperparameters (Only the best is shown)\n",
        "\n",
        "bestModel = RandomForestRegressor(n_estimators=40,min_samples_leaf=3,min_samples_split=14,max_features=.5,n_jobs=-1,max_samples=None,random_state=69)\n",
        "bestModel.fit(X_train, y_train)"
      ],
      "execution_count": null,
      "outputs": []
    },
    {
      "cell_type": "code",
      "metadata": {
        "colab": {
          "base_uri": "https://localhost:8080/"
        },
        "id": "ht42bHyzWEki",
        "outputId": "d439f782-c5c2-4a23-80d0-f44082446e39"
      },
      "source": [
        "scores(bestModel)"
      ],
      "execution_count": null,
      "outputs": [
        {
          "output_type": "execute_result",
          "data": {
            "text/plain": [
              "{'Training MAE': 3156.8173451229177,\n",
              " 'Training RMSLE': 0.15520576968383887,\n",
              " 'Training R^2': 0.9514820870119077,\n",
              " 'Valid MAE': 5934.127718652836,\n",
              " 'Valid RMSLE': 0.24367240156900344,\n",
              " 'Valid R^2': 0.8815689581778792}"
            ]
          },
          "metadata": {
            "tags": []
          },
          "execution_count": 48
        }
      ]
    },
    {
      "cell_type": "markdown",
      "metadata": {
        "id": "wp9UDbKDWOOe"
      },
      "source": [
        "Improvement, especially with all of the data, awesome!"
      ]
    },
    {
      "cell_type": "markdown",
      "metadata": {
        "id": "t8nfgV0ZX0y0"
      },
      "source": [
        "### Test data modeling"
      ]
    },
    {
      "cell_type": "code",
      "metadata": {
        "colab": {
          "base_uri": "https://localhost:8080/",
          "height": 366
        },
        "id": "3RpqPn0lWLgh",
        "outputId": "1b99f437-136f-4463-e091-6c51fd37a1b3"
      },
      "source": [
        "# Import test data\n",
        "df_test = pd.read_csv(\"bluebook-for-bulldozers/Test.csv\", parse_dates=[\"saledate\"])\n",
        "df_test.head()"
      ],
      "execution_count": null,
      "outputs": [
        {
          "output_type": "execute_result",
          "data": {
            "text/html": [
              "<div>\n",
              "<style scoped>\n",
              "    .dataframe tbody tr th:only-of-type {\n",
              "        vertical-align: middle;\n",
              "    }\n",
              "\n",
              "    .dataframe tbody tr th {\n",
              "        vertical-align: top;\n",
              "    }\n",
              "\n",
              "    .dataframe thead th {\n",
              "        text-align: right;\n",
              "    }\n",
              "</style>\n",
              "<table border=\"1\" class=\"dataframe\">\n",
              "  <thead>\n",
              "    <tr style=\"text-align: right;\">\n",
              "      <th></th>\n",
              "      <th>SalesID</th>\n",
              "      <th>MachineID</th>\n",
              "      <th>ModelID</th>\n",
              "      <th>datasource</th>\n",
              "      <th>auctioneerID</th>\n",
              "      <th>YearMade</th>\n",
              "      <th>MachineHoursCurrentMeter</th>\n",
              "      <th>UsageBand</th>\n",
              "      <th>saledate</th>\n",
              "      <th>fiModelDesc</th>\n",
              "      <th>fiBaseModel</th>\n",
              "      <th>fiSecondaryDesc</th>\n",
              "      <th>fiModelSeries</th>\n",
              "      <th>fiModelDescriptor</th>\n",
              "      <th>ProductSize</th>\n",
              "      <th>fiProductClassDesc</th>\n",
              "      <th>state</th>\n",
              "      <th>ProductGroup</th>\n",
              "      <th>ProductGroupDesc</th>\n",
              "      <th>Drive_System</th>\n",
              "      <th>Enclosure</th>\n",
              "      <th>Forks</th>\n",
              "      <th>Pad_Type</th>\n",
              "      <th>Ride_Control</th>\n",
              "      <th>Stick</th>\n",
              "      <th>Transmission</th>\n",
              "      <th>Turbocharged</th>\n",
              "      <th>Blade_Extension</th>\n",
              "      <th>Blade_Width</th>\n",
              "      <th>Enclosure_Type</th>\n",
              "      <th>Engine_Horsepower</th>\n",
              "      <th>Hydraulics</th>\n",
              "      <th>Pushblock</th>\n",
              "      <th>Ripper</th>\n",
              "      <th>Scarifier</th>\n",
              "      <th>Tip_Control</th>\n",
              "      <th>Tire_Size</th>\n",
              "      <th>Coupler</th>\n",
              "      <th>Coupler_System</th>\n",
              "      <th>Grouser_Tracks</th>\n",
              "      <th>Hydraulics_Flow</th>\n",
              "      <th>Track_Type</th>\n",
              "      <th>Undercarriage_Pad_Width</th>\n",
              "      <th>Stick_Length</th>\n",
              "      <th>Thumb</th>\n",
              "      <th>Pattern_Changer</th>\n",
              "      <th>Grouser_Type</th>\n",
              "      <th>Backhoe_Mounting</th>\n",
              "      <th>Blade_Type</th>\n",
              "      <th>Travel_Controls</th>\n",
              "      <th>Differential_Type</th>\n",
              "      <th>Steering_Controls</th>\n",
              "    </tr>\n",
              "  </thead>\n",
              "  <tbody>\n",
              "    <tr>\n",
              "      <th>0</th>\n",
              "      <td>1227829</td>\n",
              "      <td>1006309</td>\n",
              "      <td>3168</td>\n",
              "      <td>121</td>\n",
              "      <td>3</td>\n",
              "      <td>1999</td>\n",
              "      <td>3688.0</td>\n",
              "      <td>Low</td>\n",
              "      <td>2012-05-03</td>\n",
              "      <td>580G</td>\n",
              "      <td>580</td>\n",
              "      <td>G</td>\n",
              "      <td>NaN</td>\n",
              "      <td>NaN</td>\n",
              "      <td>NaN</td>\n",
              "      <td>Backhoe Loader - 14.0 to 15.0 Ft Standard Digg...</td>\n",
              "      <td>Wyoming</td>\n",
              "      <td>BL</td>\n",
              "      <td>Backhoe Loaders</td>\n",
              "      <td>Two Wheel Drive</td>\n",
              "      <td>OROPS</td>\n",
              "      <td>Yes</td>\n",
              "      <td>None or Unspecified</td>\n",
              "      <td>No</td>\n",
              "      <td>Standard</td>\n",
              "      <td>Standard</td>\n",
              "      <td>None or Unspecified</td>\n",
              "      <td>NaN</td>\n",
              "      <td>NaN</td>\n",
              "      <td>NaN</td>\n",
              "      <td>NaN</td>\n",
              "      <td>NaN</td>\n",
              "      <td>NaN</td>\n",
              "      <td>NaN</td>\n",
              "      <td>NaN</td>\n",
              "      <td>NaN</td>\n",
              "      <td>NaN</td>\n",
              "      <td>NaN</td>\n",
              "      <td>NaN</td>\n",
              "      <td>NaN</td>\n",
              "      <td>NaN</td>\n",
              "      <td>NaN</td>\n",
              "      <td>NaN</td>\n",
              "      <td>NaN</td>\n",
              "      <td>NaN</td>\n",
              "      <td>NaN</td>\n",
              "      <td>NaN</td>\n",
              "      <td>NaN</td>\n",
              "      <td>NaN</td>\n",
              "      <td>NaN</td>\n",
              "      <td>NaN</td>\n",
              "      <td>NaN</td>\n",
              "    </tr>\n",
              "    <tr>\n",
              "      <th>1</th>\n",
              "      <td>1227844</td>\n",
              "      <td>1022817</td>\n",
              "      <td>7271</td>\n",
              "      <td>121</td>\n",
              "      <td>3</td>\n",
              "      <td>1000</td>\n",
              "      <td>28555.0</td>\n",
              "      <td>High</td>\n",
              "      <td>2012-05-10</td>\n",
              "      <td>936</td>\n",
              "      <td>936</td>\n",
              "      <td>NaN</td>\n",
              "      <td>NaN</td>\n",
              "      <td>NaN</td>\n",
              "      <td>Medium</td>\n",
              "      <td>Wheel Loader - 135.0 to 150.0 Horsepower</td>\n",
              "      <td>Virginia</td>\n",
              "      <td>WL</td>\n",
              "      <td>Wheel Loader</td>\n",
              "      <td>NaN</td>\n",
              "      <td>EROPS</td>\n",
              "      <td>Yes</td>\n",
              "      <td>NaN</td>\n",
              "      <td>None or Unspecified</td>\n",
              "      <td>NaN</td>\n",
              "      <td>NaN</td>\n",
              "      <td>NaN</td>\n",
              "      <td>NaN</td>\n",
              "      <td>NaN</td>\n",
              "      <td>NaN</td>\n",
              "      <td>NaN</td>\n",
              "      <td>2 Valve</td>\n",
              "      <td>NaN</td>\n",
              "      <td>NaN</td>\n",
              "      <td>NaN</td>\n",
              "      <td>NaN</td>\n",
              "      <td>20.5</td>\n",
              "      <td>None or Unspecified</td>\n",
              "      <td>NaN</td>\n",
              "      <td>NaN</td>\n",
              "      <td>NaN</td>\n",
              "      <td>NaN</td>\n",
              "      <td>NaN</td>\n",
              "      <td>NaN</td>\n",
              "      <td>NaN</td>\n",
              "      <td>NaN</td>\n",
              "      <td>NaN</td>\n",
              "      <td>NaN</td>\n",
              "      <td>NaN</td>\n",
              "      <td>NaN</td>\n",
              "      <td>Standard</td>\n",
              "      <td>Conventional</td>\n",
              "    </tr>\n",
              "    <tr>\n",
              "      <th>2</th>\n",
              "      <td>1227847</td>\n",
              "      <td>1031560</td>\n",
              "      <td>22805</td>\n",
              "      <td>121</td>\n",
              "      <td>3</td>\n",
              "      <td>2004</td>\n",
              "      <td>6038.0</td>\n",
              "      <td>Medium</td>\n",
              "      <td>2012-05-10</td>\n",
              "      <td>EC210BLC</td>\n",
              "      <td>EC210</td>\n",
              "      <td>B</td>\n",
              "      <td>NaN</td>\n",
              "      <td>LC</td>\n",
              "      <td>Large / Medium</td>\n",
              "      <td>Hydraulic Excavator, Track - 21.0 to 24.0 Metr...</td>\n",
              "      <td>New Jersey</td>\n",
              "      <td>TEX</td>\n",
              "      <td>Track Excavators</td>\n",
              "      <td>NaN</td>\n",
              "      <td>EROPS w AC</td>\n",
              "      <td>NaN</td>\n",
              "      <td>NaN</td>\n",
              "      <td>NaN</td>\n",
              "      <td>NaN</td>\n",
              "      <td>NaN</td>\n",
              "      <td>NaN</td>\n",
              "      <td>NaN</td>\n",
              "      <td>NaN</td>\n",
              "      <td>NaN</td>\n",
              "      <td>NaN</td>\n",
              "      <td>Auxiliary</td>\n",
              "      <td>NaN</td>\n",
              "      <td>NaN</td>\n",
              "      <td>NaN</td>\n",
              "      <td>NaN</td>\n",
              "      <td>NaN</td>\n",
              "      <td>None or Unspecified</td>\n",
              "      <td>NaN</td>\n",
              "      <td>NaN</td>\n",
              "      <td>NaN</td>\n",
              "      <td>Steel</td>\n",
              "      <td>None or Unspecified</td>\n",
              "      <td>9' 6\"</td>\n",
              "      <td>Manual</td>\n",
              "      <td>None or Unspecified</td>\n",
              "      <td>Double</td>\n",
              "      <td>NaN</td>\n",
              "      <td>NaN</td>\n",
              "      <td>NaN</td>\n",
              "      <td>NaN</td>\n",
              "      <td>NaN</td>\n",
              "    </tr>\n",
              "    <tr>\n",
              "      <th>3</th>\n",
              "      <td>1227848</td>\n",
              "      <td>56204</td>\n",
              "      <td>1269</td>\n",
              "      <td>121</td>\n",
              "      <td>3</td>\n",
              "      <td>2006</td>\n",
              "      <td>8940.0</td>\n",
              "      <td>High</td>\n",
              "      <td>2012-05-10</td>\n",
              "      <td>330CL</td>\n",
              "      <td>330</td>\n",
              "      <td>C</td>\n",
              "      <td>NaN</td>\n",
              "      <td>L</td>\n",
              "      <td>Large / Medium</td>\n",
              "      <td>Hydraulic Excavator, Track - 33.0 to 40.0 Metr...</td>\n",
              "      <td>New Jersey</td>\n",
              "      <td>TEX</td>\n",
              "      <td>Track Excavators</td>\n",
              "      <td>NaN</td>\n",
              "      <td>EROPS w AC</td>\n",
              "      <td>NaN</td>\n",
              "      <td>NaN</td>\n",
              "      <td>NaN</td>\n",
              "      <td>NaN</td>\n",
              "      <td>NaN</td>\n",
              "      <td>NaN</td>\n",
              "      <td>NaN</td>\n",
              "      <td>NaN</td>\n",
              "      <td>NaN</td>\n",
              "      <td>NaN</td>\n",
              "      <td>Standard</td>\n",
              "      <td>NaN</td>\n",
              "      <td>NaN</td>\n",
              "      <td>NaN</td>\n",
              "      <td>NaN</td>\n",
              "      <td>NaN</td>\n",
              "      <td>None or Unspecified</td>\n",
              "      <td>NaN</td>\n",
              "      <td>NaN</td>\n",
              "      <td>NaN</td>\n",
              "      <td>Steel</td>\n",
              "      <td>None or Unspecified</td>\n",
              "      <td>None or Unspecified</td>\n",
              "      <td>Manual</td>\n",
              "      <td>Yes</td>\n",
              "      <td>Triple</td>\n",
              "      <td>NaN</td>\n",
              "      <td>NaN</td>\n",
              "      <td>NaN</td>\n",
              "      <td>NaN</td>\n",
              "      <td>NaN</td>\n",
              "    </tr>\n",
              "    <tr>\n",
              "      <th>4</th>\n",
              "      <td>1227863</td>\n",
              "      <td>1053887</td>\n",
              "      <td>22312</td>\n",
              "      <td>121</td>\n",
              "      <td>3</td>\n",
              "      <td>2005</td>\n",
              "      <td>2286.0</td>\n",
              "      <td>Low</td>\n",
              "      <td>2012-05-10</td>\n",
              "      <td>650K</td>\n",
              "      <td>650</td>\n",
              "      <td>K</td>\n",
              "      <td>NaN</td>\n",
              "      <td>NaN</td>\n",
              "      <td>NaN</td>\n",
              "      <td>Track Type Tractor, Dozer - 20.0 to 75.0 Horse...</td>\n",
              "      <td>Florida</td>\n",
              "      <td>TTT</td>\n",
              "      <td>Track Type Tractors</td>\n",
              "      <td>NaN</td>\n",
              "      <td>OROPS</td>\n",
              "      <td>NaN</td>\n",
              "      <td>NaN</td>\n",
              "      <td>NaN</td>\n",
              "      <td>NaN</td>\n",
              "      <td>Hydrostatic</td>\n",
              "      <td>NaN</td>\n",
              "      <td>NaN</td>\n",
              "      <td>NaN</td>\n",
              "      <td>NaN</td>\n",
              "      <td>NaN</td>\n",
              "      <td>2 Valve</td>\n",
              "      <td>NaN</td>\n",
              "      <td>None or Unspecified</td>\n",
              "      <td>NaN</td>\n",
              "      <td>NaN</td>\n",
              "      <td>NaN</td>\n",
              "      <td>NaN</td>\n",
              "      <td>NaN</td>\n",
              "      <td>NaN</td>\n",
              "      <td>NaN</td>\n",
              "      <td>NaN</td>\n",
              "      <td>NaN</td>\n",
              "      <td>NaN</td>\n",
              "      <td>NaN</td>\n",
              "      <td>NaN</td>\n",
              "      <td>NaN</td>\n",
              "      <td>None or Unspecified</td>\n",
              "      <td>PAT</td>\n",
              "      <td>None or Unspecified</td>\n",
              "      <td>NaN</td>\n",
              "      <td>NaN</td>\n",
              "    </tr>\n",
              "  </tbody>\n",
              "</table>\n",
              "</div>"
            ],
            "text/plain": [
              "   SalesID  MachineID  ...  Differential_Type  Steering_Controls\n",
              "0  1227829    1006309  ...                NaN                NaN\n",
              "1  1227844    1022817  ...           Standard       Conventional\n",
              "2  1227847    1031560  ...                NaN                NaN\n",
              "3  1227848      56204  ...                NaN                NaN\n",
              "4  1227863    1053887  ...                NaN                NaN\n",
              "\n",
              "[5 rows x 52 columns]"
            ]
          },
          "metadata": {
            "tags": []
          },
          "execution_count": 49
        }
      ]
    },
    {
      "cell_type": "markdown",
      "metadata": {
        "id": "nWq1fnkVYneh"
      },
      "source": [
        "This test data also needs similar preprocessing. The training and testing data were processed seperately for the same reason behind the importance of splitting training and validation data."
      ]
    },
    {
      "cell_type": "code",
      "metadata": {
        "id": "61oRfvchYWH1"
      },
      "source": [
        "def preprocessData(df):\n",
        "  \"\"\"\n",
        "  1. Adds date and time parameters to a copy of the original dataframe\n",
        "  2. Fills missing numerical values with the median\n",
        "  3. Fills missing categorical data and turns features into numbers\n",
        "  \"\"\"\n",
        "  # 1\n",
        "  df[\"saleYear\"] = df.saledate.dt.year\n",
        "  df[\"saleMonth\"] = df.saledate.dt.month\n",
        "  df[\"saleDay\"] = df.saledate.dt.day\n",
        "  df[\"saleDayOfWeek\"] = df.saledate.dt.dayofweek\n",
        "  df[\"saleDayOfYear\"] = df.saledate.dt.dayofyear\n",
        "\n",
        "  df = df.drop(\"saledate\", axis = 1)\n",
        "\n",
        "  for label, content in df.items():\n",
        "    # 2\n",
        "    if pd.api.types.is_numeric_dtype(content):\n",
        "      if pd.isnull(content).sum():\n",
        "        df[label + \"_is_missing\"] = pd.isnull(content)\n",
        "        df[label] = content.fillna(content.median())\n",
        "    # 3\n",
        "    if not pd.api.types.is_numeric_dtype(content):\n",
        "      df[label + \"_is_missing\"] = pd.isnull(content)\n",
        "      df[label] = pd.Categorical(content).codes + 1\n",
        "  return df"
      ],
      "execution_count": null,
      "outputs": []
    },
    {
      "cell_type": "code",
      "metadata": {
        "colab": {
          "base_uri": "https://localhost:8080/",
          "height": 244
        },
        "id": "zHAeNyOHYjM5",
        "outputId": "0c002b77-c94d-4c46-9f9c-b05c80a30e4c"
      },
      "source": [
        "df_test = preprocessData(df_test)\n",
        "df_test.head()"
      ],
      "execution_count": null,
      "outputs": [
        {
          "output_type": "execute_result",
          "data": {
            "text/html": [
              "<div>\n",
              "<style scoped>\n",
              "    .dataframe tbody tr th:only-of-type {\n",
              "        vertical-align: middle;\n",
              "    }\n",
              "\n",
              "    .dataframe tbody tr th {\n",
              "        vertical-align: top;\n",
              "    }\n",
              "\n",
              "    .dataframe thead th {\n",
              "        text-align: right;\n",
              "    }\n",
              "</style>\n",
              "<table border=\"1\" class=\"dataframe\">\n",
              "  <thead>\n",
              "    <tr style=\"text-align: right;\">\n",
              "      <th></th>\n",
              "      <th>SalesID</th>\n",
              "      <th>MachineID</th>\n",
              "      <th>ModelID</th>\n",
              "      <th>datasource</th>\n",
              "      <th>auctioneerID</th>\n",
              "      <th>YearMade</th>\n",
              "      <th>MachineHoursCurrentMeter</th>\n",
              "      <th>UsageBand</th>\n",
              "      <th>fiModelDesc</th>\n",
              "      <th>fiBaseModel</th>\n",
              "      <th>fiSecondaryDesc</th>\n",
              "      <th>fiModelSeries</th>\n",
              "      <th>fiModelDescriptor</th>\n",
              "      <th>ProductSize</th>\n",
              "      <th>fiProductClassDesc</th>\n",
              "      <th>state</th>\n",
              "      <th>ProductGroup</th>\n",
              "      <th>ProductGroupDesc</th>\n",
              "      <th>Drive_System</th>\n",
              "      <th>Enclosure</th>\n",
              "      <th>Forks</th>\n",
              "      <th>Pad_Type</th>\n",
              "      <th>Ride_Control</th>\n",
              "      <th>Stick</th>\n",
              "      <th>Transmission</th>\n",
              "      <th>Turbocharged</th>\n",
              "      <th>Blade_Extension</th>\n",
              "      <th>Blade_Width</th>\n",
              "      <th>Enclosure_Type</th>\n",
              "      <th>Engine_Horsepower</th>\n",
              "      <th>Hydraulics</th>\n",
              "      <th>Pushblock</th>\n",
              "      <th>Ripper</th>\n",
              "      <th>Scarifier</th>\n",
              "      <th>Tip_Control</th>\n",
              "      <th>Tire_Size</th>\n",
              "      <th>Coupler</th>\n",
              "      <th>Coupler_System</th>\n",
              "      <th>Grouser_Tracks</th>\n",
              "      <th>Hydraulics_Flow</th>\n",
              "      <th>...</th>\n",
              "      <th>fiModelSeries_is_missing</th>\n",
              "      <th>fiModelDescriptor_is_missing</th>\n",
              "      <th>ProductSize_is_missing</th>\n",
              "      <th>fiProductClassDesc_is_missing</th>\n",
              "      <th>state_is_missing</th>\n",
              "      <th>ProductGroup_is_missing</th>\n",
              "      <th>ProductGroupDesc_is_missing</th>\n",
              "      <th>Drive_System_is_missing</th>\n",
              "      <th>Enclosure_is_missing</th>\n",
              "      <th>Forks_is_missing</th>\n",
              "      <th>Pad_Type_is_missing</th>\n",
              "      <th>Ride_Control_is_missing</th>\n",
              "      <th>Stick_is_missing</th>\n",
              "      <th>Transmission_is_missing</th>\n",
              "      <th>Turbocharged_is_missing</th>\n",
              "      <th>Blade_Extension_is_missing</th>\n",
              "      <th>Blade_Width_is_missing</th>\n",
              "      <th>Enclosure_Type_is_missing</th>\n",
              "      <th>Engine_Horsepower_is_missing</th>\n",
              "      <th>Hydraulics_is_missing</th>\n",
              "      <th>Pushblock_is_missing</th>\n",
              "      <th>Ripper_is_missing</th>\n",
              "      <th>Scarifier_is_missing</th>\n",
              "      <th>Tip_Control_is_missing</th>\n",
              "      <th>Tire_Size_is_missing</th>\n",
              "      <th>Coupler_is_missing</th>\n",
              "      <th>Coupler_System_is_missing</th>\n",
              "      <th>Grouser_Tracks_is_missing</th>\n",
              "      <th>Hydraulics_Flow_is_missing</th>\n",
              "      <th>Track_Type_is_missing</th>\n",
              "      <th>Undercarriage_Pad_Width_is_missing</th>\n",
              "      <th>Stick_Length_is_missing</th>\n",
              "      <th>Thumb_is_missing</th>\n",
              "      <th>Pattern_Changer_is_missing</th>\n",
              "      <th>Grouser_Type_is_missing</th>\n",
              "      <th>Backhoe_Mounting_is_missing</th>\n",
              "      <th>Blade_Type_is_missing</th>\n",
              "      <th>Travel_Controls_is_missing</th>\n",
              "      <th>Differential_Type_is_missing</th>\n",
              "      <th>Steering_Controls_is_missing</th>\n",
              "    </tr>\n",
              "  </thead>\n",
              "  <tbody>\n",
              "    <tr>\n",
              "      <th>0</th>\n",
              "      <td>1227829</td>\n",
              "      <td>1006309</td>\n",
              "      <td>3168</td>\n",
              "      <td>121</td>\n",
              "      <td>3</td>\n",
              "      <td>1999</td>\n",
              "      <td>3688.0</td>\n",
              "      <td>2</td>\n",
              "      <td>499</td>\n",
              "      <td>180</td>\n",
              "      <td>25</td>\n",
              "      <td>0</td>\n",
              "      <td>0</td>\n",
              "      <td>0</td>\n",
              "      <td>2</td>\n",
              "      <td>51</td>\n",
              "      <td>1</td>\n",
              "      <td>1</td>\n",
              "      <td>4</td>\n",
              "      <td>3</td>\n",
              "      <td>2</td>\n",
              "      <td>2</td>\n",
              "      <td>1</td>\n",
              "      <td>2</td>\n",
              "      <td>7</td>\n",
              "      <td>1</td>\n",
              "      <td>0</td>\n",
              "      <td>0</td>\n",
              "      <td>0</td>\n",
              "      <td>0</td>\n",
              "      <td>0</td>\n",
              "      <td>0</td>\n",
              "      <td>0</td>\n",
              "      <td>0</td>\n",
              "      <td>0</td>\n",
              "      <td>0</td>\n",
              "      <td>0</td>\n",
              "      <td>0</td>\n",
              "      <td>0</td>\n",
              "      <td>0</td>\n",
              "      <td>...</td>\n",
              "      <td>True</td>\n",
              "      <td>True</td>\n",
              "      <td>True</td>\n",
              "      <td>False</td>\n",
              "      <td>False</td>\n",
              "      <td>False</td>\n",
              "      <td>False</td>\n",
              "      <td>False</td>\n",
              "      <td>False</td>\n",
              "      <td>False</td>\n",
              "      <td>False</td>\n",
              "      <td>False</td>\n",
              "      <td>False</td>\n",
              "      <td>False</td>\n",
              "      <td>False</td>\n",
              "      <td>True</td>\n",
              "      <td>True</td>\n",
              "      <td>True</td>\n",
              "      <td>True</td>\n",
              "      <td>True</td>\n",
              "      <td>True</td>\n",
              "      <td>True</td>\n",
              "      <td>True</td>\n",
              "      <td>True</td>\n",
              "      <td>True</td>\n",
              "      <td>True</td>\n",
              "      <td>True</td>\n",
              "      <td>True</td>\n",
              "      <td>True</td>\n",
              "      <td>True</td>\n",
              "      <td>True</td>\n",
              "      <td>True</td>\n",
              "      <td>True</td>\n",
              "      <td>True</td>\n",
              "      <td>True</td>\n",
              "      <td>True</td>\n",
              "      <td>True</td>\n",
              "      <td>True</td>\n",
              "      <td>True</td>\n",
              "      <td>True</td>\n",
              "    </tr>\n",
              "    <tr>\n",
              "      <th>1</th>\n",
              "      <td>1227844</td>\n",
              "      <td>1022817</td>\n",
              "      <td>7271</td>\n",
              "      <td>121</td>\n",
              "      <td>3</td>\n",
              "      <td>1000</td>\n",
              "      <td>28555.0</td>\n",
              "      <td>1</td>\n",
              "      <td>831</td>\n",
              "      <td>292</td>\n",
              "      <td>0</td>\n",
              "      <td>0</td>\n",
              "      <td>0</td>\n",
              "      <td>4</td>\n",
              "      <td>57</td>\n",
              "      <td>46</td>\n",
              "      <td>6</td>\n",
              "      <td>6</td>\n",
              "      <td>0</td>\n",
              "      <td>1</td>\n",
              "      <td>2</td>\n",
              "      <td>0</td>\n",
              "      <td>2</td>\n",
              "      <td>0</td>\n",
              "      <td>0</td>\n",
              "      <td>0</td>\n",
              "      <td>0</td>\n",
              "      <td>0</td>\n",
              "      <td>0</td>\n",
              "      <td>0</td>\n",
              "      <td>1</td>\n",
              "      <td>0</td>\n",
              "      <td>0</td>\n",
              "      <td>0</td>\n",
              "      <td>0</td>\n",
              "      <td>7</td>\n",
              "      <td>3</td>\n",
              "      <td>0</td>\n",
              "      <td>0</td>\n",
              "      <td>0</td>\n",
              "      <td>...</td>\n",
              "      <td>True</td>\n",
              "      <td>True</td>\n",
              "      <td>False</td>\n",
              "      <td>False</td>\n",
              "      <td>False</td>\n",
              "      <td>False</td>\n",
              "      <td>False</td>\n",
              "      <td>True</td>\n",
              "      <td>False</td>\n",
              "      <td>False</td>\n",
              "      <td>True</td>\n",
              "      <td>False</td>\n",
              "      <td>True</td>\n",
              "      <td>True</td>\n",
              "      <td>True</td>\n",
              "      <td>True</td>\n",
              "      <td>True</td>\n",
              "      <td>True</td>\n",
              "      <td>True</td>\n",
              "      <td>False</td>\n",
              "      <td>True</td>\n",
              "      <td>True</td>\n",
              "      <td>True</td>\n",
              "      <td>True</td>\n",
              "      <td>False</td>\n",
              "      <td>False</td>\n",
              "      <td>True</td>\n",
              "      <td>True</td>\n",
              "      <td>True</td>\n",
              "      <td>True</td>\n",
              "      <td>True</td>\n",
              "      <td>True</td>\n",
              "      <td>True</td>\n",
              "      <td>True</td>\n",
              "      <td>True</td>\n",
              "      <td>True</td>\n",
              "      <td>True</td>\n",
              "      <td>True</td>\n",
              "      <td>False</td>\n",
              "      <td>False</td>\n",
              "    </tr>\n",
              "    <tr>\n",
              "      <th>2</th>\n",
              "      <td>1227847</td>\n",
              "      <td>1031560</td>\n",
              "      <td>22805</td>\n",
              "      <td>121</td>\n",
              "      <td>3</td>\n",
              "      <td>2004</td>\n",
              "      <td>6038.0</td>\n",
              "      <td>3</td>\n",
              "      <td>1177</td>\n",
              "      <td>404</td>\n",
              "      <td>9</td>\n",
              "      <td>0</td>\n",
              "      <td>33</td>\n",
              "      <td>3</td>\n",
              "      <td>14</td>\n",
              "      <td>29</td>\n",
              "      <td>4</td>\n",
              "      <td>4</td>\n",
              "      <td>0</td>\n",
              "      <td>2</td>\n",
              "      <td>0</td>\n",
              "      <td>0</td>\n",
              "      <td>0</td>\n",
              "      <td>0</td>\n",
              "      <td>0</td>\n",
              "      <td>0</td>\n",
              "      <td>0</td>\n",
              "      <td>0</td>\n",
              "      <td>0</td>\n",
              "      <td>0</td>\n",
              "      <td>4</td>\n",
              "      <td>0</td>\n",
              "      <td>0</td>\n",
              "      <td>0</td>\n",
              "      <td>0</td>\n",
              "      <td>0</td>\n",
              "      <td>3</td>\n",
              "      <td>0</td>\n",
              "      <td>0</td>\n",
              "      <td>0</td>\n",
              "      <td>...</td>\n",
              "      <td>True</td>\n",
              "      <td>False</td>\n",
              "      <td>False</td>\n",
              "      <td>False</td>\n",
              "      <td>False</td>\n",
              "      <td>False</td>\n",
              "      <td>False</td>\n",
              "      <td>True</td>\n",
              "      <td>False</td>\n",
              "      <td>True</td>\n",
              "      <td>True</td>\n",
              "      <td>True</td>\n",
              "      <td>True</td>\n",
              "      <td>True</td>\n",
              "      <td>True</td>\n",
              "      <td>True</td>\n",
              "      <td>True</td>\n",
              "      <td>True</td>\n",
              "      <td>True</td>\n",
              "      <td>False</td>\n",
              "      <td>True</td>\n",
              "      <td>True</td>\n",
              "      <td>True</td>\n",
              "      <td>True</td>\n",
              "      <td>True</td>\n",
              "      <td>False</td>\n",
              "      <td>True</td>\n",
              "      <td>True</td>\n",
              "      <td>True</td>\n",
              "      <td>False</td>\n",
              "      <td>False</td>\n",
              "      <td>False</td>\n",
              "      <td>False</td>\n",
              "      <td>False</td>\n",
              "      <td>False</td>\n",
              "      <td>True</td>\n",
              "      <td>True</td>\n",
              "      <td>True</td>\n",
              "      <td>True</td>\n",
              "      <td>True</td>\n",
              "    </tr>\n",
              "    <tr>\n",
              "      <th>3</th>\n",
              "      <td>1227848</td>\n",
              "      <td>56204</td>\n",
              "      <td>1269</td>\n",
              "      <td>121</td>\n",
              "      <td>3</td>\n",
              "      <td>2006</td>\n",
              "      <td>8940.0</td>\n",
              "      <td>1</td>\n",
              "      <td>287</td>\n",
              "      <td>113</td>\n",
              "      <td>13</td>\n",
              "      <td>0</td>\n",
              "      <td>32</td>\n",
              "      <td>3</td>\n",
              "      <td>18</td>\n",
              "      <td>29</td>\n",
              "      <td>4</td>\n",
              "      <td>4</td>\n",
              "      <td>0</td>\n",
              "      <td>2</td>\n",
              "      <td>0</td>\n",
              "      <td>0</td>\n",
              "      <td>0</td>\n",
              "      <td>0</td>\n",
              "      <td>0</td>\n",
              "      <td>0</td>\n",
              "      <td>0</td>\n",
              "      <td>0</td>\n",
              "      <td>0</td>\n",
              "      <td>0</td>\n",
              "      <td>11</td>\n",
              "      <td>0</td>\n",
              "      <td>0</td>\n",
              "      <td>0</td>\n",
              "      <td>0</td>\n",
              "      <td>0</td>\n",
              "      <td>3</td>\n",
              "      <td>0</td>\n",
              "      <td>0</td>\n",
              "      <td>0</td>\n",
              "      <td>...</td>\n",
              "      <td>True</td>\n",
              "      <td>False</td>\n",
              "      <td>False</td>\n",
              "      <td>False</td>\n",
              "      <td>False</td>\n",
              "      <td>False</td>\n",
              "      <td>False</td>\n",
              "      <td>True</td>\n",
              "      <td>False</td>\n",
              "      <td>True</td>\n",
              "      <td>True</td>\n",
              "      <td>True</td>\n",
              "      <td>True</td>\n",
              "      <td>True</td>\n",
              "      <td>True</td>\n",
              "      <td>True</td>\n",
              "      <td>True</td>\n",
              "      <td>True</td>\n",
              "      <td>True</td>\n",
              "      <td>False</td>\n",
              "      <td>True</td>\n",
              "      <td>True</td>\n",
              "      <td>True</td>\n",
              "      <td>True</td>\n",
              "      <td>True</td>\n",
              "      <td>False</td>\n",
              "      <td>True</td>\n",
              "      <td>True</td>\n",
              "      <td>True</td>\n",
              "      <td>False</td>\n",
              "      <td>False</td>\n",
              "      <td>False</td>\n",
              "      <td>False</td>\n",
              "      <td>False</td>\n",
              "      <td>False</td>\n",
              "      <td>True</td>\n",
              "      <td>True</td>\n",
              "      <td>True</td>\n",
              "      <td>True</td>\n",
              "      <td>True</td>\n",
              "    </tr>\n",
              "    <tr>\n",
              "      <th>4</th>\n",
              "      <td>1227863</td>\n",
              "      <td>1053887</td>\n",
              "      <td>22312</td>\n",
              "      <td>121</td>\n",
              "      <td>3</td>\n",
              "      <td>2005</td>\n",
              "      <td>2286.0</td>\n",
              "      <td>2</td>\n",
              "      <td>566</td>\n",
              "      <td>196</td>\n",
              "      <td>33</td>\n",
              "      <td>0</td>\n",
              "      <td>0</td>\n",
              "      <td>0</td>\n",
              "      <td>48</td>\n",
              "      <td>8</td>\n",
              "      <td>5</td>\n",
              "      <td>5</td>\n",
              "      <td>0</td>\n",
              "      <td>3</td>\n",
              "      <td>0</td>\n",
              "      <td>0</td>\n",
              "      <td>0</td>\n",
              "      <td>0</td>\n",
              "      <td>3</td>\n",
              "      <td>0</td>\n",
              "      <td>0</td>\n",
              "      <td>0</td>\n",
              "      <td>0</td>\n",
              "      <td>0</td>\n",
              "      <td>1</td>\n",
              "      <td>0</td>\n",
              "      <td>2</td>\n",
              "      <td>0</td>\n",
              "      <td>0</td>\n",
              "      <td>0</td>\n",
              "      <td>0</td>\n",
              "      <td>0</td>\n",
              "      <td>0</td>\n",
              "      <td>0</td>\n",
              "      <td>...</td>\n",
              "      <td>True</td>\n",
              "      <td>True</td>\n",
              "      <td>True</td>\n",
              "      <td>False</td>\n",
              "      <td>False</td>\n",
              "      <td>False</td>\n",
              "      <td>False</td>\n",
              "      <td>True</td>\n",
              "      <td>False</td>\n",
              "      <td>True</td>\n",
              "      <td>True</td>\n",
              "      <td>True</td>\n",
              "      <td>True</td>\n",
              "      <td>False</td>\n",
              "      <td>True</td>\n",
              "      <td>True</td>\n",
              "      <td>True</td>\n",
              "      <td>True</td>\n",
              "      <td>True</td>\n",
              "      <td>False</td>\n",
              "      <td>True</td>\n",
              "      <td>False</td>\n",
              "      <td>True</td>\n",
              "      <td>True</td>\n",
              "      <td>True</td>\n",
              "      <td>True</td>\n",
              "      <td>True</td>\n",
              "      <td>True</td>\n",
              "      <td>True</td>\n",
              "      <td>True</td>\n",
              "      <td>True</td>\n",
              "      <td>True</td>\n",
              "      <td>True</td>\n",
              "      <td>True</td>\n",
              "      <td>True</td>\n",
              "      <td>False</td>\n",
              "      <td>False</td>\n",
              "      <td>False</td>\n",
              "      <td>True</td>\n",
              "      <td>True</td>\n",
              "    </tr>\n",
              "  </tbody>\n",
              "</table>\n",
              "<p>5 rows × 101 columns</p>\n",
              "</div>"
            ],
            "text/plain": [
              "   SalesID  ...  Steering_Controls_is_missing\n",
              "0  1227829  ...                          True\n",
              "1  1227844  ...                         False\n",
              "2  1227847  ...                          True\n",
              "3  1227848  ...                          True\n",
              "4  1227863  ...                          True\n",
              "\n",
              "[5 rows x 101 columns]"
            ]
          },
          "metadata": {
            "tags": []
          },
          "execution_count": 51
        }
      ]
    },
    {
      "cell_type": "code",
      "metadata": {
        "colab": {
          "base_uri": "https://localhost:8080/"
        },
        "id": "-m5Bzajmblqc",
        "outputId": "6d554506-7a52-4192-ae29-2fa6ae858041"
      },
      "source": [
        "# Check if the features are the same\n",
        "set(X_train.columns) - set(df_test.columns)"
      ],
      "execution_count": null,
      "outputs": [
        {
          "output_type": "execute_result",
          "data": {
            "text/plain": [
              "{'auctioneerID_is_missing'}"
            ]
          },
          "metadata": {
            "tags": []
          },
          "execution_count": 52
        }
      ]
    },
    {
      "cell_type": "code",
      "metadata": {
        "colab": {
          "base_uri": "https://localhost:8080/",
          "height": 244
        },
        "id": "tQqsMtLWb8y7",
        "outputId": "f9a6c61c-6713-44b0-a3d2-01469d3486ba"
      },
      "source": [
        "# We don't see the auctioneerID_is_missing feature since there aren't any missing values\n",
        "# Let's add that feature to match the size count\n",
        "df_test[\"auctioneerID_is_missing\"] = False\n",
        "df_test.head()"
      ],
      "execution_count": null,
      "outputs": [
        {
          "output_type": "execute_result",
          "data": {
            "text/html": [
              "<div>\n",
              "<style scoped>\n",
              "    .dataframe tbody tr th:only-of-type {\n",
              "        vertical-align: middle;\n",
              "    }\n",
              "\n",
              "    .dataframe tbody tr th {\n",
              "        vertical-align: top;\n",
              "    }\n",
              "\n",
              "    .dataframe thead th {\n",
              "        text-align: right;\n",
              "    }\n",
              "</style>\n",
              "<table border=\"1\" class=\"dataframe\">\n",
              "  <thead>\n",
              "    <tr style=\"text-align: right;\">\n",
              "      <th></th>\n",
              "      <th>SalesID</th>\n",
              "      <th>MachineID</th>\n",
              "      <th>ModelID</th>\n",
              "      <th>datasource</th>\n",
              "      <th>auctioneerID</th>\n",
              "      <th>YearMade</th>\n",
              "      <th>MachineHoursCurrentMeter</th>\n",
              "      <th>UsageBand</th>\n",
              "      <th>fiModelDesc</th>\n",
              "      <th>fiBaseModel</th>\n",
              "      <th>fiSecondaryDesc</th>\n",
              "      <th>fiModelSeries</th>\n",
              "      <th>fiModelDescriptor</th>\n",
              "      <th>ProductSize</th>\n",
              "      <th>fiProductClassDesc</th>\n",
              "      <th>state</th>\n",
              "      <th>ProductGroup</th>\n",
              "      <th>ProductGroupDesc</th>\n",
              "      <th>Drive_System</th>\n",
              "      <th>Enclosure</th>\n",
              "      <th>Forks</th>\n",
              "      <th>Pad_Type</th>\n",
              "      <th>Ride_Control</th>\n",
              "      <th>Stick</th>\n",
              "      <th>Transmission</th>\n",
              "      <th>Turbocharged</th>\n",
              "      <th>Blade_Extension</th>\n",
              "      <th>Blade_Width</th>\n",
              "      <th>Enclosure_Type</th>\n",
              "      <th>Engine_Horsepower</th>\n",
              "      <th>Hydraulics</th>\n",
              "      <th>Pushblock</th>\n",
              "      <th>Ripper</th>\n",
              "      <th>Scarifier</th>\n",
              "      <th>Tip_Control</th>\n",
              "      <th>Tire_Size</th>\n",
              "      <th>Coupler</th>\n",
              "      <th>Coupler_System</th>\n",
              "      <th>Grouser_Tracks</th>\n",
              "      <th>Hydraulics_Flow</th>\n",
              "      <th>...</th>\n",
              "      <th>fiModelDescriptor_is_missing</th>\n",
              "      <th>ProductSize_is_missing</th>\n",
              "      <th>fiProductClassDesc_is_missing</th>\n",
              "      <th>state_is_missing</th>\n",
              "      <th>ProductGroup_is_missing</th>\n",
              "      <th>ProductGroupDesc_is_missing</th>\n",
              "      <th>Drive_System_is_missing</th>\n",
              "      <th>Enclosure_is_missing</th>\n",
              "      <th>Forks_is_missing</th>\n",
              "      <th>Pad_Type_is_missing</th>\n",
              "      <th>Ride_Control_is_missing</th>\n",
              "      <th>Stick_is_missing</th>\n",
              "      <th>Transmission_is_missing</th>\n",
              "      <th>Turbocharged_is_missing</th>\n",
              "      <th>Blade_Extension_is_missing</th>\n",
              "      <th>Blade_Width_is_missing</th>\n",
              "      <th>Enclosure_Type_is_missing</th>\n",
              "      <th>Engine_Horsepower_is_missing</th>\n",
              "      <th>Hydraulics_is_missing</th>\n",
              "      <th>Pushblock_is_missing</th>\n",
              "      <th>Ripper_is_missing</th>\n",
              "      <th>Scarifier_is_missing</th>\n",
              "      <th>Tip_Control_is_missing</th>\n",
              "      <th>Tire_Size_is_missing</th>\n",
              "      <th>Coupler_is_missing</th>\n",
              "      <th>Coupler_System_is_missing</th>\n",
              "      <th>Grouser_Tracks_is_missing</th>\n",
              "      <th>Hydraulics_Flow_is_missing</th>\n",
              "      <th>Track_Type_is_missing</th>\n",
              "      <th>Undercarriage_Pad_Width_is_missing</th>\n",
              "      <th>Stick_Length_is_missing</th>\n",
              "      <th>Thumb_is_missing</th>\n",
              "      <th>Pattern_Changer_is_missing</th>\n",
              "      <th>Grouser_Type_is_missing</th>\n",
              "      <th>Backhoe_Mounting_is_missing</th>\n",
              "      <th>Blade_Type_is_missing</th>\n",
              "      <th>Travel_Controls_is_missing</th>\n",
              "      <th>Differential_Type_is_missing</th>\n",
              "      <th>Steering_Controls_is_missing</th>\n",
              "      <th>auctioneerID_is_missing</th>\n",
              "    </tr>\n",
              "  </thead>\n",
              "  <tbody>\n",
              "    <tr>\n",
              "      <th>0</th>\n",
              "      <td>1227829</td>\n",
              "      <td>1006309</td>\n",
              "      <td>3168</td>\n",
              "      <td>121</td>\n",
              "      <td>3</td>\n",
              "      <td>1999</td>\n",
              "      <td>3688.0</td>\n",
              "      <td>2</td>\n",
              "      <td>499</td>\n",
              "      <td>180</td>\n",
              "      <td>25</td>\n",
              "      <td>0</td>\n",
              "      <td>0</td>\n",
              "      <td>0</td>\n",
              "      <td>2</td>\n",
              "      <td>51</td>\n",
              "      <td>1</td>\n",
              "      <td>1</td>\n",
              "      <td>4</td>\n",
              "      <td>3</td>\n",
              "      <td>2</td>\n",
              "      <td>2</td>\n",
              "      <td>1</td>\n",
              "      <td>2</td>\n",
              "      <td>7</td>\n",
              "      <td>1</td>\n",
              "      <td>0</td>\n",
              "      <td>0</td>\n",
              "      <td>0</td>\n",
              "      <td>0</td>\n",
              "      <td>0</td>\n",
              "      <td>0</td>\n",
              "      <td>0</td>\n",
              "      <td>0</td>\n",
              "      <td>0</td>\n",
              "      <td>0</td>\n",
              "      <td>0</td>\n",
              "      <td>0</td>\n",
              "      <td>0</td>\n",
              "      <td>0</td>\n",
              "      <td>...</td>\n",
              "      <td>True</td>\n",
              "      <td>True</td>\n",
              "      <td>False</td>\n",
              "      <td>False</td>\n",
              "      <td>False</td>\n",
              "      <td>False</td>\n",
              "      <td>False</td>\n",
              "      <td>False</td>\n",
              "      <td>False</td>\n",
              "      <td>False</td>\n",
              "      <td>False</td>\n",
              "      <td>False</td>\n",
              "      <td>False</td>\n",
              "      <td>False</td>\n",
              "      <td>True</td>\n",
              "      <td>True</td>\n",
              "      <td>True</td>\n",
              "      <td>True</td>\n",
              "      <td>True</td>\n",
              "      <td>True</td>\n",
              "      <td>True</td>\n",
              "      <td>True</td>\n",
              "      <td>True</td>\n",
              "      <td>True</td>\n",
              "      <td>True</td>\n",
              "      <td>True</td>\n",
              "      <td>True</td>\n",
              "      <td>True</td>\n",
              "      <td>True</td>\n",
              "      <td>True</td>\n",
              "      <td>True</td>\n",
              "      <td>True</td>\n",
              "      <td>True</td>\n",
              "      <td>True</td>\n",
              "      <td>True</td>\n",
              "      <td>True</td>\n",
              "      <td>True</td>\n",
              "      <td>True</td>\n",
              "      <td>True</td>\n",
              "      <td>False</td>\n",
              "    </tr>\n",
              "    <tr>\n",
              "      <th>1</th>\n",
              "      <td>1227844</td>\n",
              "      <td>1022817</td>\n",
              "      <td>7271</td>\n",
              "      <td>121</td>\n",
              "      <td>3</td>\n",
              "      <td>1000</td>\n",
              "      <td>28555.0</td>\n",
              "      <td>1</td>\n",
              "      <td>831</td>\n",
              "      <td>292</td>\n",
              "      <td>0</td>\n",
              "      <td>0</td>\n",
              "      <td>0</td>\n",
              "      <td>4</td>\n",
              "      <td>57</td>\n",
              "      <td>46</td>\n",
              "      <td>6</td>\n",
              "      <td>6</td>\n",
              "      <td>0</td>\n",
              "      <td>1</td>\n",
              "      <td>2</td>\n",
              "      <td>0</td>\n",
              "      <td>2</td>\n",
              "      <td>0</td>\n",
              "      <td>0</td>\n",
              "      <td>0</td>\n",
              "      <td>0</td>\n",
              "      <td>0</td>\n",
              "      <td>0</td>\n",
              "      <td>0</td>\n",
              "      <td>1</td>\n",
              "      <td>0</td>\n",
              "      <td>0</td>\n",
              "      <td>0</td>\n",
              "      <td>0</td>\n",
              "      <td>7</td>\n",
              "      <td>3</td>\n",
              "      <td>0</td>\n",
              "      <td>0</td>\n",
              "      <td>0</td>\n",
              "      <td>...</td>\n",
              "      <td>True</td>\n",
              "      <td>False</td>\n",
              "      <td>False</td>\n",
              "      <td>False</td>\n",
              "      <td>False</td>\n",
              "      <td>False</td>\n",
              "      <td>True</td>\n",
              "      <td>False</td>\n",
              "      <td>False</td>\n",
              "      <td>True</td>\n",
              "      <td>False</td>\n",
              "      <td>True</td>\n",
              "      <td>True</td>\n",
              "      <td>True</td>\n",
              "      <td>True</td>\n",
              "      <td>True</td>\n",
              "      <td>True</td>\n",
              "      <td>True</td>\n",
              "      <td>False</td>\n",
              "      <td>True</td>\n",
              "      <td>True</td>\n",
              "      <td>True</td>\n",
              "      <td>True</td>\n",
              "      <td>False</td>\n",
              "      <td>False</td>\n",
              "      <td>True</td>\n",
              "      <td>True</td>\n",
              "      <td>True</td>\n",
              "      <td>True</td>\n",
              "      <td>True</td>\n",
              "      <td>True</td>\n",
              "      <td>True</td>\n",
              "      <td>True</td>\n",
              "      <td>True</td>\n",
              "      <td>True</td>\n",
              "      <td>True</td>\n",
              "      <td>True</td>\n",
              "      <td>False</td>\n",
              "      <td>False</td>\n",
              "      <td>False</td>\n",
              "    </tr>\n",
              "    <tr>\n",
              "      <th>2</th>\n",
              "      <td>1227847</td>\n",
              "      <td>1031560</td>\n",
              "      <td>22805</td>\n",
              "      <td>121</td>\n",
              "      <td>3</td>\n",
              "      <td>2004</td>\n",
              "      <td>6038.0</td>\n",
              "      <td>3</td>\n",
              "      <td>1177</td>\n",
              "      <td>404</td>\n",
              "      <td>9</td>\n",
              "      <td>0</td>\n",
              "      <td>33</td>\n",
              "      <td>3</td>\n",
              "      <td>14</td>\n",
              "      <td>29</td>\n",
              "      <td>4</td>\n",
              "      <td>4</td>\n",
              "      <td>0</td>\n",
              "      <td>2</td>\n",
              "      <td>0</td>\n",
              "      <td>0</td>\n",
              "      <td>0</td>\n",
              "      <td>0</td>\n",
              "      <td>0</td>\n",
              "      <td>0</td>\n",
              "      <td>0</td>\n",
              "      <td>0</td>\n",
              "      <td>0</td>\n",
              "      <td>0</td>\n",
              "      <td>4</td>\n",
              "      <td>0</td>\n",
              "      <td>0</td>\n",
              "      <td>0</td>\n",
              "      <td>0</td>\n",
              "      <td>0</td>\n",
              "      <td>3</td>\n",
              "      <td>0</td>\n",
              "      <td>0</td>\n",
              "      <td>0</td>\n",
              "      <td>...</td>\n",
              "      <td>False</td>\n",
              "      <td>False</td>\n",
              "      <td>False</td>\n",
              "      <td>False</td>\n",
              "      <td>False</td>\n",
              "      <td>False</td>\n",
              "      <td>True</td>\n",
              "      <td>False</td>\n",
              "      <td>True</td>\n",
              "      <td>True</td>\n",
              "      <td>True</td>\n",
              "      <td>True</td>\n",
              "      <td>True</td>\n",
              "      <td>True</td>\n",
              "      <td>True</td>\n",
              "      <td>True</td>\n",
              "      <td>True</td>\n",
              "      <td>True</td>\n",
              "      <td>False</td>\n",
              "      <td>True</td>\n",
              "      <td>True</td>\n",
              "      <td>True</td>\n",
              "      <td>True</td>\n",
              "      <td>True</td>\n",
              "      <td>False</td>\n",
              "      <td>True</td>\n",
              "      <td>True</td>\n",
              "      <td>True</td>\n",
              "      <td>False</td>\n",
              "      <td>False</td>\n",
              "      <td>False</td>\n",
              "      <td>False</td>\n",
              "      <td>False</td>\n",
              "      <td>False</td>\n",
              "      <td>True</td>\n",
              "      <td>True</td>\n",
              "      <td>True</td>\n",
              "      <td>True</td>\n",
              "      <td>True</td>\n",
              "      <td>False</td>\n",
              "    </tr>\n",
              "    <tr>\n",
              "      <th>3</th>\n",
              "      <td>1227848</td>\n",
              "      <td>56204</td>\n",
              "      <td>1269</td>\n",
              "      <td>121</td>\n",
              "      <td>3</td>\n",
              "      <td>2006</td>\n",
              "      <td>8940.0</td>\n",
              "      <td>1</td>\n",
              "      <td>287</td>\n",
              "      <td>113</td>\n",
              "      <td>13</td>\n",
              "      <td>0</td>\n",
              "      <td>32</td>\n",
              "      <td>3</td>\n",
              "      <td>18</td>\n",
              "      <td>29</td>\n",
              "      <td>4</td>\n",
              "      <td>4</td>\n",
              "      <td>0</td>\n",
              "      <td>2</td>\n",
              "      <td>0</td>\n",
              "      <td>0</td>\n",
              "      <td>0</td>\n",
              "      <td>0</td>\n",
              "      <td>0</td>\n",
              "      <td>0</td>\n",
              "      <td>0</td>\n",
              "      <td>0</td>\n",
              "      <td>0</td>\n",
              "      <td>0</td>\n",
              "      <td>11</td>\n",
              "      <td>0</td>\n",
              "      <td>0</td>\n",
              "      <td>0</td>\n",
              "      <td>0</td>\n",
              "      <td>0</td>\n",
              "      <td>3</td>\n",
              "      <td>0</td>\n",
              "      <td>0</td>\n",
              "      <td>0</td>\n",
              "      <td>...</td>\n",
              "      <td>False</td>\n",
              "      <td>False</td>\n",
              "      <td>False</td>\n",
              "      <td>False</td>\n",
              "      <td>False</td>\n",
              "      <td>False</td>\n",
              "      <td>True</td>\n",
              "      <td>False</td>\n",
              "      <td>True</td>\n",
              "      <td>True</td>\n",
              "      <td>True</td>\n",
              "      <td>True</td>\n",
              "      <td>True</td>\n",
              "      <td>True</td>\n",
              "      <td>True</td>\n",
              "      <td>True</td>\n",
              "      <td>True</td>\n",
              "      <td>True</td>\n",
              "      <td>False</td>\n",
              "      <td>True</td>\n",
              "      <td>True</td>\n",
              "      <td>True</td>\n",
              "      <td>True</td>\n",
              "      <td>True</td>\n",
              "      <td>False</td>\n",
              "      <td>True</td>\n",
              "      <td>True</td>\n",
              "      <td>True</td>\n",
              "      <td>False</td>\n",
              "      <td>False</td>\n",
              "      <td>False</td>\n",
              "      <td>False</td>\n",
              "      <td>False</td>\n",
              "      <td>False</td>\n",
              "      <td>True</td>\n",
              "      <td>True</td>\n",
              "      <td>True</td>\n",
              "      <td>True</td>\n",
              "      <td>True</td>\n",
              "      <td>False</td>\n",
              "    </tr>\n",
              "    <tr>\n",
              "      <th>4</th>\n",
              "      <td>1227863</td>\n",
              "      <td>1053887</td>\n",
              "      <td>22312</td>\n",
              "      <td>121</td>\n",
              "      <td>3</td>\n",
              "      <td>2005</td>\n",
              "      <td>2286.0</td>\n",
              "      <td>2</td>\n",
              "      <td>566</td>\n",
              "      <td>196</td>\n",
              "      <td>33</td>\n",
              "      <td>0</td>\n",
              "      <td>0</td>\n",
              "      <td>0</td>\n",
              "      <td>48</td>\n",
              "      <td>8</td>\n",
              "      <td>5</td>\n",
              "      <td>5</td>\n",
              "      <td>0</td>\n",
              "      <td>3</td>\n",
              "      <td>0</td>\n",
              "      <td>0</td>\n",
              "      <td>0</td>\n",
              "      <td>0</td>\n",
              "      <td>3</td>\n",
              "      <td>0</td>\n",
              "      <td>0</td>\n",
              "      <td>0</td>\n",
              "      <td>0</td>\n",
              "      <td>0</td>\n",
              "      <td>1</td>\n",
              "      <td>0</td>\n",
              "      <td>2</td>\n",
              "      <td>0</td>\n",
              "      <td>0</td>\n",
              "      <td>0</td>\n",
              "      <td>0</td>\n",
              "      <td>0</td>\n",
              "      <td>0</td>\n",
              "      <td>0</td>\n",
              "      <td>...</td>\n",
              "      <td>True</td>\n",
              "      <td>True</td>\n",
              "      <td>False</td>\n",
              "      <td>False</td>\n",
              "      <td>False</td>\n",
              "      <td>False</td>\n",
              "      <td>True</td>\n",
              "      <td>False</td>\n",
              "      <td>True</td>\n",
              "      <td>True</td>\n",
              "      <td>True</td>\n",
              "      <td>True</td>\n",
              "      <td>False</td>\n",
              "      <td>True</td>\n",
              "      <td>True</td>\n",
              "      <td>True</td>\n",
              "      <td>True</td>\n",
              "      <td>True</td>\n",
              "      <td>False</td>\n",
              "      <td>True</td>\n",
              "      <td>False</td>\n",
              "      <td>True</td>\n",
              "      <td>True</td>\n",
              "      <td>True</td>\n",
              "      <td>True</td>\n",
              "      <td>True</td>\n",
              "      <td>True</td>\n",
              "      <td>True</td>\n",
              "      <td>True</td>\n",
              "      <td>True</td>\n",
              "      <td>True</td>\n",
              "      <td>True</td>\n",
              "      <td>True</td>\n",
              "      <td>True</td>\n",
              "      <td>False</td>\n",
              "      <td>False</td>\n",
              "      <td>False</td>\n",
              "      <td>True</td>\n",
              "      <td>True</td>\n",
              "      <td>False</td>\n",
              "    </tr>\n",
              "  </tbody>\n",
              "</table>\n",
              "<p>5 rows × 102 columns</p>\n",
              "</div>"
            ],
            "text/plain": [
              "   SalesID  MachineID  ...  Steering_Controls_is_missing  auctioneerID_is_missing\n",
              "0  1227829    1006309  ...                          True                    False\n",
              "1  1227844    1022817  ...                         False                    False\n",
              "2  1227847    1031560  ...                          True                    False\n",
              "3  1227848      56204  ...                          True                    False\n",
              "4  1227863    1053887  ...                          True                    False\n",
              "\n",
              "[5 rows x 102 columns]"
            ]
          },
          "metadata": {
            "tags": []
          },
          "execution_count": 53
        }
      ]
    },
    {
      "cell_type": "code",
      "metadata": {
        "colab": {
          "base_uri": "https://localhost:8080/"
        },
        "id": "66WhxjkMi5Lz",
        "outputId": "dadedc1a-8c68-4b17-a5ab-277b70bf56e5"
      },
      "source": [
        "test_preds = bestModel.predict(df_test) \n",
        "test_preds"
      ],
      "execution_count": null,
      "outputs": [
        {
          "output_type": "execute_result",
          "data": {
            "text/plain": [
              "array([20246.18288939, 22865.10356535, 52768.26472751, ...,\n",
              "       13285.16150755, 16620.80886719, 28977.26710396])"
            ]
          },
          "metadata": {
            "tags": []
          },
          "execution_count": 54
        }
      ]
    },
    {
      "cell_type": "code",
      "metadata": {
        "colab": {
          "base_uri": "https://localhost:8080/",
          "height": 402
        },
        "id": "lMurXCR2jqH-",
        "outputId": "40f95ace-646f-41ca-a12e-b4759b3bf23a"
      },
      "source": [
        "# Format to competition submission form (A dataframe with two columns 'SalesID' and 'SalesPrice')\n",
        "df_preds = pd.DataFrame()\n",
        "df_preds[\"SalesID\"] = df_test[\"SalesID\"]\n",
        "df_preds[\"SalesPrice\"] = test_preds\n",
        "df_preds"
      ],
      "execution_count": null,
      "outputs": [
        {
          "output_type": "execute_result",
          "data": {
            "text/html": [
              "<div>\n",
              "<style scoped>\n",
              "    .dataframe tbody tr th:only-of-type {\n",
              "        vertical-align: middle;\n",
              "    }\n",
              "\n",
              "    .dataframe tbody tr th {\n",
              "        vertical-align: top;\n",
              "    }\n",
              "\n",
              "    .dataframe thead th {\n",
              "        text-align: right;\n",
              "    }\n",
              "</style>\n",
              "<table border=\"1\" class=\"dataframe\">\n",
              "  <thead>\n",
              "    <tr style=\"text-align: right;\">\n",
              "      <th></th>\n",
              "      <th>SalesID</th>\n",
              "      <th>SalesPrice</th>\n",
              "    </tr>\n",
              "  </thead>\n",
              "  <tbody>\n",
              "    <tr>\n",
              "      <th>0</th>\n",
              "      <td>1227829</td>\n",
              "      <td>20246.182889</td>\n",
              "    </tr>\n",
              "    <tr>\n",
              "      <th>1</th>\n",
              "      <td>1227844</td>\n",
              "      <td>22865.103565</td>\n",
              "    </tr>\n",
              "    <tr>\n",
              "      <th>2</th>\n",
              "      <td>1227847</td>\n",
              "      <td>52768.264728</td>\n",
              "    </tr>\n",
              "    <tr>\n",
              "      <th>3</th>\n",
              "      <td>1227848</td>\n",
              "      <td>68911.420109</td>\n",
              "    </tr>\n",
              "    <tr>\n",
              "      <th>4</th>\n",
              "      <td>1227863</td>\n",
              "      <td>47354.161347</td>\n",
              "    </tr>\n",
              "    <tr>\n",
              "      <th>...</th>\n",
              "      <td>...</td>\n",
              "      <td>...</td>\n",
              "    </tr>\n",
              "    <tr>\n",
              "      <th>12452</th>\n",
              "      <td>6643171</td>\n",
              "      <td>45796.002492</td>\n",
              "    </tr>\n",
              "    <tr>\n",
              "      <th>12453</th>\n",
              "      <td>6643173</td>\n",
              "      <td>13120.663856</td>\n",
              "    </tr>\n",
              "    <tr>\n",
              "      <th>12454</th>\n",
              "      <td>6643184</td>\n",
              "      <td>13285.161508</td>\n",
              "    </tr>\n",
              "    <tr>\n",
              "      <th>12455</th>\n",
              "      <td>6643186</td>\n",
              "      <td>16620.808867</td>\n",
              "    </tr>\n",
              "    <tr>\n",
              "      <th>12456</th>\n",
              "      <td>6643196</td>\n",
              "      <td>28977.267104</td>\n",
              "    </tr>\n",
              "  </tbody>\n",
              "</table>\n",
              "<p>12457 rows × 2 columns</p>\n",
              "</div>"
            ],
            "text/plain": [
              "       SalesID    SalesPrice\n",
              "0      1227829  20246.182889\n",
              "1      1227844  22865.103565\n",
              "2      1227847  52768.264728\n",
              "3      1227848  68911.420109\n",
              "4      1227863  47354.161347\n",
              "...        ...           ...\n",
              "12452  6643171  45796.002492\n",
              "12453  6643173  13120.663856\n",
              "12454  6643184  13285.161508\n",
              "12455  6643186  16620.808867\n",
              "12456  6643196  28977.267104\n",
              "\n",
              "[12457 rows x 2 columns]"
            ]
          },
          "metadata": {
            "tags": []
          },
          "execution_count": 55
        }
      ]
    },
    {
      "cell_type": "markdown",
      "metadata": {
        "id": "8GFHzU0_kJx5"
      },
      "source": [
        "Now we can export to csv for submission... but wait there's more!"
      ]
    },
    {
      "cell_type": "markdown",
      "metadata": {
        "id": "EIW5jEHWkNyn"
      },
      "source": [
        "## 5. Feature Importance"
      ]
    },
    {
      "cell_type": "markdown",
      "metadata": {
        "id": "OAKEPJ24yCVK"
      },
      "source": [
        "Feature importance attempts to figure out which attributes from the dataset are the most important when predicting the target variable, 'SalePrice'. <br> It is not enough to know if a model can make accurate prediction. Instead, we may also want to know how the predictions are made."
      ]
    },
    {
      "cell_type": "code",
      "metadata": {
        "id": "ACIe_764kENH"
      },
      "source": [
        "def featureImportance(model, df):\n",
        "  return pd.DataFrame({'Features': df.columns, 'Importance': model.feature_importances_}).sort_values('Importance', ascending = False)"
      ],
      "execution_count": null,
      "outputs": []
    },
    {
      "cell_type": "code",
      "metadata": {
        "colab": {
          "base_uri": "https://localhost:8080/",
          "height": 402
        },
        "id": "fiBaHbH1_rAx",
        "outputId": "9793a276-dabc-4c98-aed7-ce0b149e5179"
      },
      "source": [
        "df_features = featureImportance(bestModel, X_train)\n",
        "df_features"
      ],
      "execution_count": null,
      "outputs": [
        {
          "output_type": "execute_result",
          "data": {
            "text/html": [
              "<div>\n",
              "<style scoped>\n",
              "    .dataframe tbody tr th:only-of-type {\n",
              "        vertical-align: middle;\n",
              "    }\n",
              "\n",
              "    .dataframe tbody tr th {\n",
              "        vertical-align: top;\n",
              "    }\n",
              "\n",
              "    .dataframe thead th {\n",
              "        text-align: right;\n",
              "    }\n",
              "</style>\n",
              "<table border=\"1\" class=\"dataframe\">\n",
              "  <thead>\n",
              "    <tr style=\"text-align: right;\">\n",
              "      <th></th>\n",
              "      <th>Features</th>\n",
              "      <th>Importance</th>\n",
              "    </tr>\n",
              "  </thead>\n",
              "  <tbody>\n",
              "    <tr>\n",
              "      <th>5</th>\n",
              "      <td>YearMade</td>\n",
              "      <td>0.197954</td>\n",
              "    </tr>\n",
              "    <tr>\n",
              "      <th>13</th>\n",
              "      <td>ProductSize</td>\n",
              "      <td>0.156228</td>\n",
              "    </tr>\n",
              "    <tr>\n",
              "      <th>51</th>\n",
              "      <td>saleYear</td>\n",
              "      <td>0.074159</td>\n",
              "    </tr>\n",
              "    <tr>\n",
              "      <th>19</th>\n",
              "      <td>Enclosure</td>\n",
              "      <td>0.069556</td>\n",
              "    </tr>\n",
              "    <tr>\n",
              "      <th>10</th>\n",
              "      <td>fiSecondaryDesc</td>\n",
              "      <td>0.067836</td>\n",
              "    </tr>\n",
              "    <tr>\n",
              "      <th>...</th>\n",
              "      <td>...</td>\n",
              "      <td>...</td>\n",
              "    </tr>\n",
              "    <tr>\n",
              "      <th>60</th>\n",
              "      <td>fiBaseModel_is_missing</td>\n",
              "      <td>0.000000</td>\n",
              "    </tr>\n",
              "    <tr>\n",
              "      <th>65</th>\n",
              "      <td>fiProductClassDesc_is_missing</td>\n",
              "      <td>0.000000</td>\n",
              "    </tr>\n",
              "    <tr>\n",
              "      <th>66</th>\n",
              "      <td>state_is_missing</td>\n",
              "      <td>0.000000</td>\n",
              "    </tr>\n",
              "    <tr>\n",
              "      <th>67</th>\n",
              "      <td>ProductGroup_is_missing</td>\n",
              "      <td>0.000000</td>\n",
              "    </tr>\n",
              "    <tr>\n",
              "      <th>68</th>\n",
              "      <td>ProductGroupDesc_is_missing</td>\n",
              "      <td>0.000000</td>\n",
              "    </tr>\n",
              "  </tbody>\n",
              "</table>\n",
              "<p>102 rows × 2 columns</p>\n",
              "</div>"
            ],
            "text/plain": [
              "                         Features  Importance\n",
              "5                        YearMade    0.197954\n",
              "13                    ProductSize    0.156228\n",
              "51                       saleYear    0.074159\n",
              "19                      Enclosure    0.069556\n",
              "10                fiSecondaryDesc    0.067836\n",
              "..                            ...         ...\n",
              "60         fiBaseModel_is_missing    0.000000\n",
              "65  fiProductClassDesc_is_missing    0.000000\n",
              "66               state_is_missing    0.000000\n",
              "67        ProductGroup_is_missing    0.000000\n",
              "68    ProductGroupDesc_is_missing    0.000000\n",
              "\n",
              "[102 rows x 2 columns]"
            ]
          },
          "metadata": {
            "tags": []
          },
          "execution_count": 57
        }
      ]
    },
    {
      "cell_type": "code",
      "metadata": {
        "colab": {
          "base_uri": "https://localhost:8080/",
          "height": 389
        },
        "id": "FkpvP28oAPj9",
        "outputId": "b23c9d1a-dff8-4618-9fc0-912d262989d9"
      },
      "source": [
        "df_features.plot('Features', 'Importance', figsize = (20,6), legend = False)\n",
        "plt.show()"
      ],
      "execution_count": null,
      "outputs": [
        {
          "output_type": "display_data",
          "data": {
            "image/png": "[encoded data removed]",
            "text/plain": [
              "<Figure size 1440x432 with 1 Axes>"
            ]
          },
          "metadata": {
            "tags": [],
            "needs_background": "light"
          }
        }
      ]
    },
    {
      "cell_type": "code",
      "metadata": {
        "id": "50imVxYlA0sX"
      },
      "source": [
        "def plotFeatureImportance(featureDataframe):\n",
        "  return featureDataframe.plot('Features', 'Importance', 'barh', figsize = (12,7), legend = False)"
      ],
      "execution_count": null,
      "outputs": []
    },
    {
      "cell_type": "code",
      "metadata": {
        "colab": {
          "base_uri": "https://localhost:8080/",
          "height": 428
        },
        "id": "F3-TEP5PEV7S",
        "outputId": "bd58920b-3314-4dd6-f294-5a176dad6203"
      },
      "source": [
        "# There are over 100 features and from before we can tell there are zeros\n",
        "plotFeatureImportance(df_features[:30])\n",
        "plt.show()"
      ],
      "execution_count": null,
      "outputs": [
        {
          "output_type": "display_data",
          "data": {
            "image/png": "[encoded data removed]",
            "text/plain": [
              "<Figure size 864x504 with 1 Axes>"
            ]
          },
          "metadata": {
            "tags": [],
            "needs_background": "light"
          }
        }
      ]
    },
    {
      "cell_type": "markdown",
      "metadata": {
        "id": "8DyFivqkmtqO"
      },
      "source": [
        "The important features impact the performance of the model greatly. By taking a subset of the most important features, we can use the pruned features to improve scores. XGBoost does this automatically so perhaps in the next iteration, I will use this. I did not use it yet since I would rather have the opportunity to discern the best option. "
      ]
    },
    {
      "cell_type": "code",
      "metadata": {
        "colab": {
          "base_uri": "https://localhost:8080/"
        },
        "id": "JOBiopaIFQuj",
        "outputId": "1531555b-369e-4f68-b42b-988331a75921"
      },
      "source": [
        "keepThese = df_features[df_features.Importance > 0.005].Features \n",
        "len(keepThese)"
      ],
      "execution_count": null,
      "outputs": [
        {
          "output_type": "execute_result",
          "data": {
            "text/plain": [
              "21"
            ]
          },
          "metadata": {
            "tags": []
          },
          "execution_count": 61
        }
      ]
    },
    {
      "cell_type": "markdown",
      "metadata": {
        "id": "uCaTa0ZyPpQ-"
      },
      "source": [
        "### Removing redundant features"
      ]
    },
    {
      "cell_type": "markdown",
      "metadata": {
        "id": "DTtVcAO_QOgj"
      },
      "source": [
        "Given that several features have zero importance, perhaps some could be redundant. Based on their correlation, redundancies can be removed. <br> <br> The image below is taken from a generator function from this competition's best performer (competition is dated). I am only using this plot below to determine which features to remove. Picking from here is safe since the clusters are not impacted by the extra features I added. Similarly, the \"tree\" was generated on the entire dataset. <br><br> Essentially, the \"tree\" below was generated by: \n",
        "* Bottom Up hierarchical clustering\n",
        "* Spearman rank order correlation to see how monotonic the data is\n",
        "* Linkage matrix determined by UPGMA algorithm <br>\n",
        "\n",
        "Technically, this \"tree\" is a Dendrogram (from scipy.cluster import hierarchy as hc) which is a tree of clusters and we can pick a feature from each cluster to remove\n",
        "\n",
        "From the dendrogram below, we can remove a feature at a time and check the accuracy. To test this under normal circumstances, we would use a 'for' loop to traverse through a list of features, preferably one from each cluster to drop and hopefully see an increase in accruacy. However, that process takes a very long time and can be wasteful. Based on the same source of the dendrogram, ['fiBaseModel', 'Grouser_Tracks'] were redundant."
      ]
    },
    {
      "cell_type": "markdown",
      "metadata": {
        "id": "FGtUs9YeWWf-"
      },
      "source": [
        "![Screenshot_300.png](data:image/png;base64,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)"
      ]
    },
    {
      "cell_type": "code",
      "metadata": {
        "id": "q4dHUWYIe4sp"
      },
      "source": [
        "df_temp.drop(['fiBaseModel', 'Grouser_Tracks'], axis=1, inplace=True)"
      ],
      "execution_count": null,
      "outputs": []
    },
    {
      "cell_type": "code",
      "metadata": {
        "colab": {
          "base_uri": "https://localhost:8080/",
          "height": 244
        },
        "id": "40yhyV22ol13",
        "outputId": "3316578f-8da6-4c60-866e-2de3f146bfa6"
      },
      "source": [
        "df_temp.head()"
      ],
      "execution_count": null,
      "outputs": [
        {
          "output_type": "execute_result",
          "data": {
            "text/html": [
              "<div>\n",
              "<style scoped>\n",
              "    .dataframe tbody tr th:only-of-type {\n",
              "        vertical-align: middle;\n",
              "    }\n",
              "\n",
              "    .dataframe tbody tr th {\n",
              "        vertical-align: top;\n",
              "    }\n",
              "\n",
              "    .dataframe thead th {\n",
              "        text-align: right;\n",
              "    }\n",
              "</style>\n",
              "<table border=\"1\" class=\"dataframe\">\n",
              "  <thead>\n",
              "    <tr style=\"text-align: right;\">\n",
              "      <th></th>\n",
              "      <th>SalesID</th>\n",
              "      <th>SalePrice</th>\n",
              "      <th>MachineID</th>\n",
              "      <th>ModelID</th>\n",
              "      <th>datasource</th>\n",
              "      <th>auctioneerID</th>\n",
              "      <th>YearMade</th>\n",
              "      <th>MachineHoursCurrentMeter</th>\n",
              "      <th>UsageBand</th>\n",
              "      <th>fiModelDesc</th>\n",
              "      <th>fiSecondaryDesc</th>\n",
              "      <th>fiModelSeries</th>\n",
              "      <th>fiModelDescriptor</th>\n",
              "      <th>ProductSize</th>\n",
              "      <th>fiProductClassDesc</th>\n",
              "      <th>state</th>\n",
              "      <th>ProductGroup</th>\n",
              "      <th>ProductGroupDesc</th>\n",
              "      <th>Drive_System</th>\n",
              "      <th>Enclosure</th>\n",
              "      <th>Forks</th>\n",
              "      <th>Pad_Type</th>\n",
              "      <th>Ride_Control</th>\n",
              "      <th>Stick</th>\n",
              "      <th>Transmission</th>\n",
              "      <th>Turbocharged</th>\n",
              "      <th>Blade_Extension</th>\n",
              "      <th>Blade_Width</th>\n",
              "      <th>Enclosure_Type</th>\n",
              "      <th>Engine_Horsepower</th>\n",
              "      <th>Hydraulics</th>\n",
              "      <th>Pushblock</th>\n",
              "      <th>Ripper</th>\n",
              "      <th>Scarifier</th>\n",
              "      <th>Tip_Control</th>\n",
              "      <th>Tire_Size</th>\n",
              "      <th>Coupler</th>\n",
              "      <th>Coupler_System</th>\n",
              "      <th>Hydraulics_Flow</th>\n",
              "      <th>Track_Type</th>\n",
              "      <th>...</th>\n",
              "      <th>fiModelSeries_is_missing</th>\n",
              "      <th>fiModelDescriptor_is_missing</th>\n",
              "      <th>ProductSize_is_missing</th>\n",
              "      <th>fiProductClassDesc_is_missing</th>\n",
              "      <th>state_is_missing</th>\n",
              "      <th>ProductGroup_is_missing</th>\n",
              "      <th>ProductGroupDesc_is_missing</th>\n",
              "      <th>Drive_System_is_missing</th>\n",
              "      <th>Enclosure_is_missing</th>\n",
              "      <th>Forks_is_missing</th>\n",
              "      <th>Pad_Type_is_missing</th>\n",
              "      <th>Ride_Control_is_missing</th>\n",
              "      <th>Stick_is_missing</th>\n",
              "      <th>Transmission_is_missing</th>\n",
              "      <th>Turbocharged_is_missing</th>\n",
              "      <th>Blade_Extension_is_missing</th>\n",
              "      <th>Blade_Width_is_missing</th>\n",
              "      <th>Enclosure_Type_is_missing</th>\n",
              "      <th>Engine_Horsepower_is_missing</th>\n",
              "      <th>Hydraulics_is_missing</th>\n",
              "      <th>Pushblock_is_missing</th>\n",
              "      <th>Ripper_is_missing</th>\n",
              "      <th>Scarifier_is_missing</th>\n",
              "      <th>Tip_Control_is_missing</th>\n",
              "      <th>Tire_Size_is_missing</th>\n",
              "      <th>Coupler_is_missing</th>\n",
              "      <th>Coupler_System_is_missing</th>\n",
              "      <th>Grouser_Tracks_is_missing</th>\n",
              "      <th>Hydraulics_Flow_is_missing</th>\n",
              "      <th>Track_Type_is_missing</th>\n",
              "      <th>Undercarriage_Pad_Width_is_missing</th>\n",
              "      <th>Stick_Length_is_missing</th>\n",
              "      <th>Thumb_is_missing</th>\n",
              "      <th>Pattern_Changer_is_missing</th>\n",
              "      <th>Grouser_Type_is_missing</th>\n",
              "      <th>Backhoe_Mounting_is_missing</th>\n",
              "      <th>Blade_Type_is_missing</th>\n",
              "      <th>Travel_Controls_is_missing</th>\n",
              "      <th>Differential_Type_is_missing</th>\n",
              "      <th>Steering_Controls_is_missing</th>\n",
              "    </tr>\n",
              "  </thead>\n",
              "  <tbody>\n",
              "    <tr>\n",
              "      <th>205615</th>\n",
              "      <td>1646770</td>\n",
              "      <td>9500.0</td>\n",
              "      <td>1126363</td>\n",
              "      <td>8434</td>\n",
              "      <td>132</td>\n",
              "      <td>18.0</td>\n",
              "      <td>1974</td>\n",
              "      <td>0.0</td>\n",
              "      <td>0</td>\n",
              "      <td>4593</td>\n",
              "      <td>0</td>\n",
              "      <td>0</td>\n",
              "      <td>0</td>\n",
              "      <td>4</td>\n",
              "      <td>47</td>\n",
              "      <td>44</td>\n",
              "      <td>5</td>\n",
              "      <td>5</td>\n",
              "      <td>0</td>\n",
              "      <td>6</td>\n",
              "      <td>0</td>\n",
              "      <td>0</td>\n",
              "      <td>0</td>\n",
              "      <td>0</td>\n",
              "      <td>3</td>\n",
              "      <td>0</td>\n",
              "      <td>0</td>\n",
              "      <td>0</td>\n",
              "      <td>0</td>\n",
              "      <td>0</td>\n",
              "      <td>1</td>\n",
              "      <td>0</td>\n",
              "      <td>2</td>\n",
              "      <td>0</td>\n",
              "      <td>0</td>\n",
              "      <td>0</td>\n",
              "      <td>0</td>\n",
              "      <td>0</td>\n",
              "      <td>0</td>\n",
              "      <td>0</td>\n",
              "      <td>...</td>\n",
              "      <td>True</td>\n",
              "      <td>True</td>\n",
              "      <td>False</td>\n",
              "      <td>False</td>\n",
              "      <td>False</td>\n",
              "      <td>False</td>\n",
              "      <td>False</td>\n",
              "      <td>True</td>\n",
              "      <td>False</td>\n",
              "      <td>True</td>\n",
              "      <td>True</td>\n",
              "      <td>True</td>\n",
              "      <td>True</td>\n",
              "      <td>False</td>\n",
              "      <td>True</td>\n",
              "      <td>True</td>\n",
              "      <td>True</td>\n",
              "      <td>True</td>\n",
              "      <td>True</td>\n",
              "      <td>False</td>\n",
              "      <td>True</td>\n",
              "      <td>False</td>\n",
              "      <td>True</td>\n",
              "      <td>True</td>\n",
              "      <td>True</td>\n",
              "      <td>True</td>\n",
              "      <td>True</td>\n",
              "      <td>True</td>\n",
              "      <td>True</td>\n",
              "      <td>True</td>\n",
              "      <td>True</td>\n",
              "      <td>True</td>\n",
              "      <td>True</td>\n",
              "      <td>True</td>\n",
              "      <td>True</td>\n",
              "      <td>False</td>\n",
              "      <td>False</td>\n",
              "      <td>False</td>\n",
              "      <td>True</td>\n",
              "      <td>True</td>\n",
              "    </tr>\n",
              "    <tr>\n",
              "      <th>274835</th>\n",
              "      <td>1821514</td>\n",
              "      <td>14000.0</td>\n",
              "      <td>1194089</td>\n",
              "      <td>10150</td>\n",
              "      <td>132</td>\n",
              "      <td>99.0</td>\n",
              "      <td>1980</td>\n",
              "      <td>0.0</td>\n",
              "      <td>0</td>\n",
              "      <td>1820</td>\n",
              "      <td>0</td>\n",
              "      <td>0</td>\n",
              "      <td>0</td>\n",
              "      <td>0</td>\n",
              "      <td>60</td>\n",
              "      <td>9</td>\n",
              "      <td>6</td>\n",
              "      <td>6</td>\n",
              "      <td>0</td>\n",
              "      <td>6</td>\n",
              "      <td>1</td>\n",
              "      <td>0</td>\n",
              "      <td>2</td>\n",
              "      <td>0</td>\n",
              "      <td>0</td>\n",
              "      <td>0</td>\n",
              "      <td>0</td>\n",
              "      <td>0</td>\n",
              "      <td>0</td>\n",
              "      <td>0</td>\n",
              "      <td>1</td>\n",
              "      <td>0</td>\n",
              "      <td>0</td>\n",
              "      <td>0</td>\n",
              "      <td>0</td>\n",
              "      <td>17</td>\n",
              "      <td>3</td>\n",
              "      <td>0</td>\n",
              "      <td>0</td>\n",
              "      <td>0</td>\n",
              "      <td>...</td>\n",
              "      <td>True</td>\n",
              "      <td>True</td>\n",
              "      <td>True</td>\n",
              "      <td>False</td>\n",
              "      <td>False</td>\n",
              "      <td>False</td>\n",
              "      <td>False</td>\n",
              "      <td>True</td>\n",
              "      <td>False</td>\n",
              "      <td>False</td>\n",
              "      <td>True</td>\n",
              "      <td>False</td>\n",
              "      <td>True</td>\n",
              "      <td>True</td>\n",
              "      <td>True</td>\n",
              "      <td>True</td>\n",
              "      <td>True</td>\n",
              "      <td>True</td>\n",
              "      <td>True</td>\n",
              "      <td>False</td>\n",
              "      <td>True</td>\n",
              "      <td>True</td>\n",
              "      <td>True</td>\n",
              "      <td>True</td>\n",
              "      <td>False</td>\n",
              "      <td>False</td>\n",
              "      <td>True</td>\n",
              "      <td>True</td>\n",
              "      <td>True</td>\n",
              "      <td>True</td>\n",
              "      <td>True</td>\n",
              "      <td>True</td>\n",
              "      <td>True</td>\n",
              "      <td>True</td>\n",
              "      <td>True</td>\n",
              "      <td>True</td>\n",
              "      <td>True</td>\n",
              "      <td>True</td>\n",
              "      <td>False</td>\n",
              "      <td>False</td>\n",
              "    </tr>\n",
              "    <tr>\n",
              "      <th>141296</th>\n",
              "      <td>1505138</td>\n",
              "      <td>50000.0</td>\n",
              "      <td>1473654</td>\n",
              "      <td>4139</td>\n",
              "      <td>132</td>\n",
              "      <td>99.0</td>\n",
              "      <td>1978</td>\n",
              "      <td>0.0</td>\n",
              "      <td>0</td>\n",
              "      <td>2348</td>\n",
              "      <td>59</td>\n",
              "      <td>0</td>\n",
              "      <td>0</td>\n",
              "      <td>2</td>\n",
              "      <td>50</td>\n",
              "      <td>9</td>\n",
              "      <td>5</td>\n",
              "      <td>5</td>\n",
              "      <td>0</td>\n",
              "      <td>6</td>\n",
              "      <td>0</td>\n",
              "      <td>0</td>\n",
              "      <td>0</td>\n",
              "      <td>0</td>\n",
              "      <td>8</td>\n",
              "      <td>0</td>\n",
              "      <td>0</td>\n",
              "      <td>0</td>\n",
              "      <td>0</td>\n",
              "      <td>0</td>\n",
              "      <td>1</td>\n",
              "      <td>0</td>\n",
              "      <td>2</td>\n",
              "      <td>0</td>\n",
              "      <td>0</td>\n",
              "      <td>0</td>\n",
              "      <td>0</td>\n",
              "      <td>0</td>\n",
              "      <td>0</td>\n",
              "      <td>0</td>\n",
              "      <td>...</td>\n",
              "      <td>True</td>\n",
              "      <td>True</td>\n",
              "      <td>False</td>\n",
              "      <td>False</td>\n",
              "      <td>False</td>\n",
              "      <td>False</td>\n",
              "      <td>False</td>\n",
              "      <td>True</td>\n",
              "      <td>False</td>\n",
              "      <td>True</td>\n",
              "      <td>True</td>\n",
              "      <td>True</td>\n",
              "      <td>True</td>\n",
              "      <td>False</td>\n",
              "      <td>True</td>\n",
              "      <td>True</td>\n",
              "      <td>True</td>\n",
              "      <td>True</td>\n",
              "      <td>True</td>\n",
              "      <td>False</td>\n",
              "      <td>True</td>\n",
              "      <td>False</td>\n",
              "      <td>True</td>\n",
              "      <td>True</td>\n",
              "      <td>True</td>\n",
              "      <td>True</td>\n",
              "      <td>True</td>\n",
              "      <td>True</td>\n",
              "      <td>True</td>\n",
              "      <td>True</td>\n",
              "      <td>True</td>\n",
              "      <td>True</td>\n",
              "      <td>True</td>\n",
              "      <td>True</td>\n",
              "      <td>True</td>\n",
              "      <td>False</td>\n",
              "      <td>False</td>\n",
              "      <td>False</td>\n",
              "      <td>True</td>\n",
              "      <td>True</td>\n",
              "    </tr>\n",
              "    <tr>\n",
              "      <th>212552</th>\n",
              "      <td>1671174</td>\n",
              "      <td>16000.0</td>\n",
              "      <td>1327630</td>\n",
              "      <td>8591</td>\n",
              "      <td>132</td>\n",
              "      <td>99.0</td>\n",
              "      <td>1980</td>\n",
              "      <td>0.0</td>\n",
              "      <td>0</td>\n",
              "      <td>1819</td>\n",
              "      <td>0</td>\n",
              "      <td>0</td>\n",
              "      <td>0</td>\n",
              "      <td>0</td>\n",
              "      <td>74</td>\n",
              "      <td>9</td>\n",
              "      <td>6</td>\n",
              "      <td>6</td>\n",
              "      <td>0</td>\n",
              "      <td>1</td>\n",
              "      <td>1</td>\n",
              "      <td>0</td>\n",
              "      <td>2</td>\n",
              "      <td>0</td>\n",
              "      <td>0</td>\n",
              "      <td>0</td>\n",
              "      <td>0</td>\n",
              "      <td>0</td>\n",
              "      <td>0</td>\n",
              "      <td>0</td>\n",
              "      <td>1</td>\n",
              "      <td>0</td>\n",
              "      <td>0</td>\n",
              "      <td>0</td>\n",
              "      <td>0</td>\n",
              "      <td>17</td>\n",
              "      <td>3</td>\n",
              "      <td>0</td>\n",
              "      <td>0</td>\n",
              "      <td>0</td>\n",
              "      <td>...</td>\n",
              "      <td>True</td>\n",
              "      <td>True</td>\n",
              "      <td>True</td>\n",
              "      <td>False</td>\n",
              "      <td>False</td>\n",
              "      <td>False</td>\n",
              "      <td>False</td>\n",
              "      <td>True</td>\n",
              "      <td>False</td>\n",
              "      <td>False</td>\n",
              "      <td>True</td>\n",
              "      <td>False</td>\n",
              "      <td>True</td>\n",
              "      <td>True</td>\n",
              "      <td>True</td>\n",
              "      <td>True</td>\n",
              "      <td>True</td>\n",
              "      <td>True</td>\n",
              "      <td>True</td>\n",
              "      <td>False</td>\n",
              "      <td>True</td>\n",
              "      <td>True</td>\n",
              "      <td>True</td>\n",
              "      <td>True</td>\n",
              "      <td>False</td>\n",
              "      <td>False</td>\n",
              "      <td>True</td>\n",
              "      <td>True</td>\n",
              "      <td>True</td>\n",
              "      <td>True</td>\n",
              "      <td>True</td>\n",
              "      <td>True</td>\n",
              "      <td>True</td>\n",
              "      <td>True</td>\n",
              "      <td>True</td>\n",
              "      <td>True</td>\n",
              "      <td>True</td>\n",
              "      <td>True</td>\n",
              "      <td>False</td>\n",
              "      <td>False</td>\n",
              "    </tr>\n",
              "    <tr>\n",
              "      <th>62755</th>\n",
              "      <td>1329056</td>\n",
              "      <td>22000.0</td>\n",
              "      <td>1336053</td>\n",
              "      <td>4089</td>\n",
              "      <td>132</td>\n",
              "      <td>99.0</td>\n",
              "      <td>1984</td>\n",
              "      <td>0.0</td>\n",
              "      <td>0</td>\n",
              "      <td>2119</td>\n",
              "      <td>21</td>\n",
              "      <td>0</td>\n",
              "      <td>0</td>\n",
              "      <td>0</td>\n",
              "      <td>51</td>\n",
              "      <td>9</td>\n",
              "      <td>5</td>\n",
              "      <td>5</td>\n",
              "      <td>0</td>\n",
              "      <td>6</td>\n",
              "      <td>0</td>\n",
              "      <td>0</td>\n",
              "      <td>0</td>\n",
              "      <td>0</td>\n",
              "      <td>8</td>\n",
              "      <td>0</td>\n",
              "      <td>0</td>\n",
              "      <td>0</td>\n",
              "      <td>0</td>\n",
              "      <td>0</td>\n",
              "      <td>1</td>\n",
              "      <td>0</td>\n",
              "      <td>2</td>\n",
              "      <td>0</td>\n",
              "      <td>0</td>\n",
              "      <td>0</td>\n",
              "      <td>0</td>\n",
              "      <td>0</td>\n",
              "      <td>0</td>\n",
              "      <td>0</td>\n",
              "      <td>...</td>\n",
              "      <td>True</td>\n",
              "      <td>True</td>\n",
              "      <td>True</td>\n",
              "      <td>False</td>\n",
              "      <td>False</td>\n",
              "      <td>False</td>\n",
              "      <td>False</td>\n",
              "      <td>True</td>\n",
              "      <td>False</td>\n",
              "      <td>True</td>\n",
              "      <td>True</td>\n",
              "      <td>True</td>\n",
              "      <td>True</td>\n",
              "      <td>False</td>\n",
              "      <td>True</td>\n",
              "      <td>True</td>\n",
              "      <td>True</td>\n",
              "      <td>True</td>\n",
              "      <td>True</td>\n",
              "      <td>False</td>\n",
              "      <td>True</td>\n",
              "      <td>False</td>\n",
              "      <td>True</td>\n",
              "      <td>True</td>\n",
              "      <td>True</td>\n",
              "      <td>True</td>\n",
              "      <td>True</td>\n",
              "      <td>True</td>\n",
              "      <td>True</td>\n",
              "      <td>True</td>\n",
              "      <td>True</td>\n",
              "      <td>True</td>\n",
              "      <td>True</td>\n",
              "      <td>True</td>\n",
              "      <td>True</td>\n",
              "      <td>False</td>\n",
              "      <td>False</td>\n",
              "      <td>False</td>\n",
              "      <td>True</td>\n",
              "      <td>True</td>\n",
              "    </tr>\n",
              "  </tbody>\n",
              "</table>\n",
              "<p>5 rows × 101 columns</p>\n",
              "</div>"
            ],
            "text/plain": [
              "        SalesID  ...  Steering_Controls_is_missing\n",
              "205615  1646770  ...                          True\n",
              "274835  1821514  ...                         False\n",
              "141296  1505138  ...                          True\n",
              "212552  1671174  ...                         False\n",
              "62755   1329056  ...                          True\n",
              "\n",
              "[5 rows x 101 columns]"
            ]
          },
          "metadata": {
            "tags": []
          },
          "execution_count": 63
        }
      ]
    },
    {
      "cell_type": "markdown",
      "metadata": {
        "id": "t5X8PKwJwF9z"
      },
      "source": [
        "Let's apply bestModel to the pruned data"
      ]
    },
    {
      "cell_type": "code",
      "metadata": {
        "colab": {
          "base_uri": "https://localhost:8080/"
        },
        "id": "2-QzPD1JwALo",
        "outputId": "cb6fda31-93f7-4d36-8731-e1d13cb42ed6"
      },
      "source": [
        "# Split data into training and validation\n",
        "df_val = df_temp[df_temp.saleYear == 2012]\n",
        "df_train = df_temp[df_temp.saleYear != 2012]\n",
        "\n",
        "len(df_val), len(df_train)"
      ],
      "execution_count": null,
      "outputs": [
        {
          "output_type": "execute_result",
          "data": {
            "text/plain": [
              "(11573, 401125)"
            ]
          },
          "metadata": {
            "tags": []
          },
          "execution_count": 71
        }
      ]
    },
    {
      "cell_type": "code",
      "metadata": {
        "colab": {
          "base_uri": "https://localhost:8080/"
        },
        "id": "7KAYPVgBwDeC",
        "outputId": "5ec4dbd0-0855-4420-8900-aec9b2697d07"
      },
      "source": [
        "# Split data\n",
        "X_train, y_train = df_train.drop(\"SalePrice\", axis=1), df_train.SalePrice\n",
        "X_valid, y_valid = df_val.drop(\"SalePrice\", axis=1), df_val.SalePrice\n",
        "\n",
        "X_train.shape, y_train.shape, X_valid.shape, y_valid.shape"
      ],
      "execution_count": null,
      "outputs": [
        {
          "output_type": "execute_result",
          "data": {
            "text/plain": [
              "((401125, 100), (401125,), (11573, 100), (11573,))"
            ]
          },
          "metadata": {
            "tags": []
          },
          "execution_count": 72
        }
      ]
    },
    {
      "cell_type": "code",
      "metadata": {
        "colab": {
          "base_uri": "https://localhost:8080/"
        },
        "id": "aeB9-wkSpb81",
        "outputId": "ec0f9935-8ee3-4121-f73b-a36f82ecbb3b"
      },
      "source": [
        "bestModel.fit(X_train, y_train)\n",
        "scores(bestModel)"
      ],
      "execution_count": null,
      "outputs": [
        {
          "output_type": "execute_result",
          "data": {
            "text/plain": [
              "{'Training MAE': 3163.8746963256363,\n",
              " 'Training RMSLE': 0.15567090528179048,\n",
              " 'Training R^2': 0.9512679407677478,\n",
              " 'Valid MAE': 5948.5199999168,\n",
              " 'Valid RMSLE': 0.24512452109651642,\n",
              " 'Valid R^2': 0.8805774258194567}"
            ]
          },
          "metadata": {
            "tags": []
          },
          "execution_count": 73
        }
      ]
    },
    {
      "cell_type": "markdown",
      "metadata": {
        "id": "AyT1NQM22bII"
      },
      "source": [
        "Barely any change... Removing more or differently from the tree is best here. The idea here is that there is an impact but since there are so many features and also with zero importance, the testing iterations will take very long."
      ]
    }
  ]
}